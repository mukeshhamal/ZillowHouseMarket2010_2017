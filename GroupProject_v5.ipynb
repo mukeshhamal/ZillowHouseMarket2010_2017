{
 "cells": [
  {
   "cell_type": "markdown",
   "metadata": {},
   "source": [
    "## ZILLOW ECONOMIC DATA - HOUSING"
   ]
  },
  {
   "cell_type": "markdown",
   "metadata": {},
   "source": [
    "The dataset (State_time_series.csv) can be accessed at: https://www.kaggle.com/zillow/zecon#State_time_series.csv"
   ]
  },
  {
   "cell_type": "code",
   "execution_count": 1,
   "metadata": {},
   "outputs": [],
   "source": [
    "# importing libraries\n",
    "import pandas as pd\n",
    "import numpy as np\n",
    "import seaborn as sns\n",
    "import matplotlib.pyplot as plt\n",
    "\n",
    "from datetime import datetime\n",
    "\n",
    "%matplotlib inline"
   ]
  },
  {
   "cell_type": "markdown",
   "metadata": {},
   "source": [
    "#### Uploading Dataset: State Time Series"
   ]
  },
  {
   "cell_type": "code",
   "execution_count": 2,
   "metadata": {},
   "outputs": [
    {
     "data": {
      "text/html": [
       "<div>\n",
       "<style scoped>\n",
       "    .dataframe tbody tr th:only-of-type {\n",
       "        vertical-align: middle;\n",
       "    }\n",
       "\n",
       "    .dataframe tbody tr th {\n",
       "        vertical-align: top;\n",
       "    }\n",
       "\n",
       "    .dataframe thead th {\n",
       "        text-align: right;\n",
       "    }\n",
       "</style>\n",
       "<table border=\"1\" class=\"dataframe\">\n",
       "  <thead>\n",
       "    <tr style=\"text-align: right;\">\n",
       "      <th></th>\n",
       "      <th>Date</th>\n",
       "      <th>RegionName</th>\n",
       "      <th>DaysOnZillow_AllHomes</th>\n",
       "      <th>InventorySeasonallyAdjusted_AllHomes</th>\n",
       "      <th>InventoryRaw_AllHomes</th>\n",
       "      <th>MedianListingPricePerSqft_1Bedroom</th>\n",
       "      <th>MedianListingPricePerSqft_2Bedroom</th>\n",
       "      <th>MedianListingPricePerSqft_3Bedroom</th>\n",
       "      <th>MedianListingPricePerSqft_4Bedroom</th>\n",
       "      <th>MedianListingPricePerSqft_5BedroomOrMore</th>\n",
       "      <th>...</th>\n",
       "      <th>ZHVI_BottomTier</th>\n",
       "      <th>ZHVI_CondoCoop</th>\n",
       "      <th>ZHVI_MiddleTier</th>\n",
       "      <th>ZHVI_SingleFamilyResidence</th>\n",
       "      <th>ZHVI_TopTier</th>\n",
       "      <th>ZRI_AllHomes</th>\n",
       "      <th>ZRI_AllHomesPlusMultifamily</th>\n",
       "      <th>ZriPerSqft_AllHomes</th>\n",
       "      <th>Zri_MultiFamilyResidenceRental</th>\n",
       "      <th>Zri_SingleFamilyResidenceRental</th>\n",
       "    </tr>\n",
       "  </thead>\n",
       "  <tbody>\n",
       "    <tr>\n",
       "      <td>0</td>\n",
       "      <td>1996-04-30</td>\n",
       "      <td>Alabama</td>\n",
       "      <td>NaN</td>\n",
       "      <td>NaN</td>\n",
       "      <td>NaN</td>\n",
       "      <td>NaN</td>\n",
       "      <td>NaN</td>\n",
       "      <td>NaN</td>\n",
       "      <td>NaN</td>\n",
       "      <td>NaN</td>\n",
       "      <td>...</td>\n",
       "      <td>45600.0</td>\n",
       "      <td>99500.0</td>\n",
       "      <td>79500.0</td>\n",
       "      <td>79000.0</td>\n",
       "      <td>140200.0</td>\n",
       "      <td>NaN</td>\n",
       "      <td>NaN</td>\n",
       "      <td>NaN</td>\n",
       "      <td>NaN</td>\n",
       "      <td>NaN</td>\n",
       "    </tr>\n",
       "    <tr>\n",
       "      <td>1</td>\n",
       "      <td>1996-04-30</td>\n",
       "      <td>Arizona</td>\n",
       "      <td>NaN</td>\n",
       "      <td>NaN</td>\n",
       "      <td>NaN</td>\n",
       "      <td>NaN</td>\n",
       "      <td>NaN</td>\n",
       "      <td>NaN</td>\n",
       "      <td>NaN</td>\n",
       "      <td>NaN</td>\n",
       "      <td>...</td>\n",
       "      <td>67100.0</td>\n",
       "      <td>78900.0</td>\n",
       "      <td>103600.0</td>\n",
       "      <td>107500.0</td>\n",
       "      <td>168700.0</td>\n",
       "      <td>NaN</td>\n",
       "      <td>NaN</td>\n",
       "      <td>NaN</td>\n",
       "      <td>NaN</td>\n",
       "      <td>NaN</td>\n",
       "    </tr>\n",
       "    <tr>\n",
       "      <td>2</td>\n",
       "      <td>1996-04-30</td>\n",
       "      <td>Arkansas</td>\n",
       "      <td>NaN</td>\n",
       "      <td>NaN</td>\n",
       "      <td>NaN</td>\n",
       "      <td>NaN</td>\n",
       "      <td>NaN</td>\n",
       "      <td>NaN</td>\n",
       "      <td>NaN</td>\n",
       "      <td>NaN</td>\n",
       "      <td>...</td>\n",
       "      <td>38400.0</td>\n",
       "      <td>70300.0</td>\n",
       "      <td>64400.0</td>\n",
       "      <td>64500.0</td>\n",
       "      <td>115200.0</td>\n",
       "      <td>NaN</td>\n",
       "      <td>NaN</td>\n",
       "      <td>NaN</td>\n",
       "      <td>NaN</td>\n",
       "      <td>NaN</td>\n",
       "    </tr>\n",
       "    <tr>\n",
       "      <td>3</td>\n",
       "      <td>1996-04-30</td>\n",
       "      <td>California</td>\n",
       "      <td>NaN</td>\n",
       "      <td>NaN</td>\n",
       "      <td>NaN</td>\n",
       "      <td>NaN</td>\n",
       "      <td>NaN</td>\n",
       "      <td>NaN</td>\n",
       "      <td>NaN</td>\n",
       "      <td>NaN</td>\n",
       "      <td>...</td>\n",
       "      <td>95100.0</td>\n",
       "      <td>136100.0</td>\n",
       "      <td>157900.0</td>\n",
       "      <td>162000.0</td>\n",
       "      <td>270600.0</td>\n",
       "      <td>NaN</td>\n",
       "      <td>NaN</td>\n",
       "      <td>NaN</td>\n",
       "      <td>NaN</td>\n",
       "      <td>NaN</td>\n",
       "    </tr>\n",
       "    <tr>\n",
       "      <td>4</td>\n",
       "      <td>1996-04-30</td>\n",
       "      <td>Colorado</td>\n",
       "      <td>NaN</td>\n",
       "      <td>NaN</td>\n",
       "      <td>NaN</td>\n",
       "      <td>NaN</td>\n",
       "      <td>NaN</td>\n",
       "      <td>NaN</td>\n",
       "      <td>NaN</td>\n",
       "      <td>NaN</td>\n",
       "      <td>...</td>\n",
       "      <td>82700.0</td>\n",
       "      <td>99400.0</td>\n",
       "      <td>128100.0</td>\n",
       "      <td>133600.0</td>\n",
       "      <td>209300.0</td>\n",
       "      <td>NaN</td>\n",
       "      <td>NaN</td>\n",
       "      <td>NaN</td>\n",
       "      <td>NaN</td>\n",
       "      <td>NaN</td>\n",
       "    </tr>\n",
       "  </tbody>\n",
       "</table>\n",
       "<p>5 rows × 82 columns</p>\n",
       "</div>"
      ],
      "text/plain": [
       "         Date  RegionName  DaysOnZillow_AllHomes  \\\n",
       "0  1996-04-30     Alabama                    NaN   \n",
       "1  1996-04-30     Arizona                    NaN   \n",
       "2  1996-04-30    Arkansas                    NaN   \n",
       "3  1996-04-30  California                    NaN   \n",
       "4  1996-04-30    Colorado                    NaN   \n",
       "\n",
       "   InventorySeasonallyAdjusted_AllHomes  InventoryRaw_AllHomes  \\\n",
       "0                                   NaN                    NaN   \n",
       "1                                   NaN                    NaN   \n",
       "2                                   NaN                    NaN   \n",
       "3                                   NaN                    NaN   \n",
       "4                                   NaN                    NaN   \n",
       "\n",
       "   MedianListingPricePerSqft_1Bedroom  MedianListingPricePerSqft_2Bedroom  \\\n",
       "0                                 NaN                                 NaN   \n",
       "1                                 NaN                                 NaN   \n",
       "2                                 NaN                                 NaN   \n",
       "3                                 NaN                                 NaN   \n",
       "4                                 NaN                                 NaN   \n",
       "\n",
       "   MedianListingPricePerSqft_3Bedroom  MedianListingPricePerSqft_4Bedroom  \\\n",
       "0                                 NaN                                 NaN   \n",
       "1                                 NaN                                 NaN   \n",
       "2                                 NaN                                 NaN   \n",
       "3                                 NaN                                 NaN   \n",
       "4                                 NaN                                 NaN   \n",
       "\n",
       "   MedianListingPricePerSqft_5BedroomOrMore  ...  ZHVI_BottomTier  \\\n",
       "0                                       NaN  ...          45600.0   \n",
       "1                                       NaN  ...          67100.0   \n",
       "2                                       NaN  ...          38400.0   \n",
       "3                                       NaN  ...          95100.0   \n",
       "4                                       NaN  ...          82700.0   \n",
       "\n",
       "   ZHVI_CondoCoop  ZHVI_MiddleTier  ZHVI_SingleFamilyResidence  ZHVI_TopTier  \\\n",
       "0         99500.0          79500.0                     79000.0      140200.0   \n",
       "1         78900.0         103600.0                    107500.0      168700.0   \n",
       "2         70300.0          64400.0                     64500.0      115200.0   \n",
       "3        136100.0         157900.0                    162000.0      270600.0   \n",
       "4         99400.0         128100.0                    133600.0      209300.0   \n",
       "\n",
       "   ZRI_AllHomes  ZRI_AllHomesPlusMultifamily  ZriPerSqft_AllHomes  \\\n",
       "0           NaN                          NaN                  NaN   \n",
       "1           NaN                          NaN                  NaN   \n",
       "2           NaN                          NaN                  NaN   \n",
       "3           NaN                          NaN                  NaN   \n",
       "4           NaN                          NaN                  NaN   \n",
       "\n",
       "   Zri_MultiFamilyResidenceRental  Zri_SingleFamilyResidenceRental  \n",
       "0                             NaN                              NaN  \n",
       "1                             NaN                              NaN  \n",
       "2                             NaN                              NaN  \n",
       "3                             NaN                              NaN  \n",
       "4                             NaN                              NaN  \n",
       "\n",
       "[5 rows x 82 columns]"
      ]
     },
     "execution_count": 2,
     "metadata": {},
     "output_type": "execute_result"
    }
   ],
   "source": [
    "# loading csv file as a data-frame and accessing first five rows\n",
    "filepath = 'State_time_series.csv'\n",
    "state_time_series_df = pd.read_csv(filepath)\n",
    "\n",
    "state_time_series_df.head()"
   ]
  },
  {
   "cell_type": "code",
   "execution_count": 3,
   "metadata": {},
   "outputs": [
    {
     "data": {
      "text/plain": [
       "(13212, 82)"
      ]
     },
     "execution_count": 3,
     "metadata": {},
     "output_type": "execute_result"
    }
   ],
   "source": [
    "# checking the number of rows and columns\n",
    "state_time_series_df.shape"
   ]
  },
  {
   "cell_type": "code",
   "execution_count": 4,
   "metadata": {},
   "outputs": [
    {
     "data": {
      "text/html": [
       "<div>\n",
       "<style scoped>\n",
       "    .dataframe tbody tr th:only-of-type {\n",
       "        vertical-align: middle;\n",
       "    }\n",
       "\n",
       "    .dataframe tbody tr th {\n",
       "        vertical-align: top;\n",
       "    }\n",
       "\n",
       "    .dataframe thead th {\n",
       "        text-align: right;\n",
       "    }\n",
       "</style>\n",
       "<table border=\"1\" class=\"dataframe\">\n",
       "  <thead>\n",
       "    <tr style=\"text-align: right;\">\n",
       "      <th></th>\n",
       "      <th>Date</th>\n",
       "      <th>RegionName</th>\n",
       "      <th>DaysOnZillow_AllHomes</th>\n",
       "      <th>InventorySeasonallyAdjusted_AllHomes</th>\n",
       "      <th>InventoryRaw_AllHomes</th>\n",
       "      <th>MedianListingPricePerSqft_1Bedroom</th>\n",
       "      <th>MedianListingPricePerSqft_2Bedroom</th>\n",
       "      <th>MedianListingPricePerSqft_3Bedroom</th>\n",
       "      <th>MedianListingPricePerSqft_4Bedroom</th>\n",
       "      <th>MedianListingPricePerSqft_5BedroomOrMore</th>\n",
       "      <th>...</th>\n",
       "      <th>ZHVI_CondoCoop</th>\n",
       "      <th>ZHVI_MiddleTier</th>\n",
       "      <th>ZHVI_SingleFamilyResidence</th>\n",
       "      <th>ZHVI_TopTier</th>\n",
       "      <th>ZRI_AllHomes</th>\n",
       "      <th>ZRI_AllHomesPlusMultifamily</th>\n",
       "      <th>ZriPerSqft_AllHomes</th>\n",
       "      <th>Zri_MultiFamilyResidenceRental</th>\n",
       "      <th>Zri_SingleFamilyResidenceRental</th>\n",
       "      <th>Year</th>\n",
       "    </tr>\n",
       "  </thead>\n",
       "  <tbody>\n",
       "    <tr>\n",
       "      <td>0</td>\n",
       "      <td>1996-04-30</td>\n",
       "      <td>Alabama</td>\n",
       "      <td>NaN</td>\n",
       "      <td>NaN</td>\n",
       "      <td>NaN</td>\n",
       "      <td>NaN</td>\n",
       "      <td>NaN</td>\n",
       "      <td>NaN</td>\n",
       "      <td>NaN</td>\n",
       "      <td>NaN</td>\n",
       "      <td>...</td>\n",
       "      <td>99500.0</td>\n",
       "      <td>79500.0</td>\n",
       "      <td>79000.0</td>\n",
       "      <td>140200.0</td>\n",
       "      <td>NaN</td>\n",
       "      <td>NaN</td>\n",
       "      <td>NaN</td>\n",
       "      <td>NaN</td>\n",
       "      <td>NaN</td>\n",
       "      <td>1996</td>\n",
       "    </tr>\n",
       "    <tr>\n",
       "      <td>1</td>\n",
       "      <td>1996-04-30</td>\n",
       "      <td>Arizona</td>\n",
       "      <td>NaN</td>\n",
       "      <td>NaN</td>\n",
       "      <td>NaN</td>\n",
       "      <td>NaN</td>\n",
       "      <td>NaN</td>\n",
       "      <td>NaN</td>\n",
       "      <td>NaN</td>\n",
       "      <td>NaN</td>\n",
       "      <td>...</td>\n",
       "      <td>78900.0</td>\n",
       "      <td>103600.0</td>\n",
       "      <td>107500.0</td>\n",
       "      <td>168700.0</td>\n",
       "      <td>NaN</td>\n",
       "      <td>NaN</td>\n",
       "      <td>NaN</td>\n",
       "      <td>NaN</td>\n",
       "      <td>NaN</td>\n",
       "      <td>1996</td>\n",
       "    </tr>\n",
       "    <tr>\n",
       "      <td>2</td>\n",
       "      <td>1996-04-30</td>\n",
       "      <td>Arkansas</td>\n",
       "      <td>NaN</td>\n",
       "      <td>NaN</td>\n",
       "      <td>NaN</td>\n",
       "      <td>NaN</td>\n",
       "      <td>NaN</td>\n",
       "      <td>NaN</td>\n",
       "      <td>NaN</td>\n",
       "      <td>NaN</td>\n",
       "      <td>...</td>\n",
       "      <td>70300.0</td>\n",
       "      <td>64400.0</td>\n",
       "      <td>64500.0</td>\n",
       "      <td>115200.0</td>\n",
       "      <td>NaN</td>\n",
       "      <td>NaN</td>\n",
       "      <td>NaN</td>\n",
       "      <td>NaN</td>\n",
       "      <td>NaN</td>\n",
       "      <td>1996</td>\n",
       "    </tr>\n",
       "    <tr>\n",
       "      <td>3</td>\n",
       "      <td>1996-04-30</td>\n",
       "      <td>California</td>\n",
       "      <td>NaN</td>\n",
       "      <td>NaN</td>\n",
       "      <td>NaN</td>\n",
       "      <td>NaN</td>\n",
       "      <td>NaN</td>\n",
       "      <td>NaN</td>\n",
       "      <td>NaN</td>\n",
       "      <td>NaN</td>\n",
       "      <td>...</td>\n",
       "      <td>136100.0</td>\n",
       "      <td>157900.0</td>\n",
       "      <td>162000.0</td>\n",
       "      <td>270600.0</td>\n",
       "      <td>NaN</td>\n",
       "      <td>NaN</td>\n",
       "      <td>NaN</td>\n",
       "      <td>NaN</td>\n",
       "      <td>NaN</td>\n",
       "      <td>1996</td>\n",
       "    </tr>\n",
       "    <tr>\n",
       "      <td>4</td>\n",
       "      <td>1996-04-30</td>\n",
       "      <td>Colorado</td>\n",
       "      <td>NaN</td>\n",
       "      <td>NaN</td>\n",
       "      <td>NaN</td>\n",
       "      <td>NaN</td>\n",
       "      <td>NaN</td>\n",
       "      <td>NaN</td>\n",
       "      <td>NaN</td>\n",
       "      <td>NaN</td>\n",
       "      <td>...</td>\n",
       "      <td>99400.0</td>\n",
       "      <td>128100.0</td>\n",
       "      <td>133600.0</td>\n",
       "      <td>209300.0</td>\n",
       "      <td>NaN</td>\n",
       "      <td>NaN</td>\n",
       "      <td>NaN</td>\n",
       "      <td>NaN</td>\n",
       "      <td>NaN</td>\n",
       "      <td>1996</td>\n",
       "    </tr>\n",
       "  </tbody>\n",
       "</table>\n",
       "<p>5 rows × 83 columns</p>\n",
       "</div>"
      ],
      "text/plain": [
       "         Date  RegionName  DaysOnZillow_AllHomes  \\\n",
       "0  1996-04-30     Alabama                    NaN   \n",
       "1  1996-04-30     Arizona                    NaN   \n",
       "2  1996-04-30    Arkansas                    NaN   \n",
       "3  1996-04-30  California                    NaN   \n",
       "4  1996-04-30    Colorado                    NaN   \n",
       "\n",
       "   InventorySeasonallyAdjusted_AllHomes  InventoryRaw_AllHomes  \\\n",
       "0                                   NaN                    NaN   \n",
       "1                                   NaN                    NaN   \n",
       "2                                   NaN                    NaN   \n",
       "3                                   NaN                    NaN   \n",
       "4                                   NaN                    NaN   \n",
       "\n",
       "   MedianListingPricePerSqft_1Bedroom  MedianListingPricePerSqft_2Bedroom  \\\n",
       "0                                 NaN                                 NaN   \n",
       "1                                 NaN                                 NaN   \n",
       "2                                 NaN                                 NaN   \n",
       "3                                 NaN                                 NaN   \n",
       "4                                 NaN                                 NaN   \n",
       "\n",
       "   MedianListingPricePerSqft_3Bedroom  MedianListingPricePerSqft_4Bedroom  \\\n",
       "0                                 NaN                                 NaN   \n",
       "1                                 NaN                                 NaN   \n",
       "2                                 NaN                                 NaN   \n",
       "3                                 NaN                                 NaN   \n",
       "4                                 NaN                                 NaN   \n",
       "\n",
       "   MedianListingPricePerSqft_5BedroomOrMore  ...  ZHVI_CondoCoop  \\\n",
       "0                                       NaN  ...         99500.0   \n",
       "1                                       NaN  ...         78900.0   \n",
       "2                                       NaN  ...         70300.0   \n",
       "3                                       NaN  ...        136100.0   \n",
       "4                                       NaN  ...         99400.0   \n",
       "\n",
       "   ZHVI_MiddleTier  ZHVI_SingleFamilyResidence  ZHVI_TopTier  ZRI_AllHomes  \\\n",
       "0          79500.0                     79000.0      140200.0           NaN   \n",
       "1         103600.0                    107500.0      168700.0           NaN   \n",
       "2          64400.0                     64500.0      115200.0           NaN   \n",
       "3         157900.0                    162000.0      270600.0           NaN   \n",
       "4         128100.0                    133600.0      209300.0           NaN   \n",
       "\n",
       "   ZRI_AllHomesPlusMultifamily  ZriPerSqft_AllHomes  \\\n",
       "0                          NaN                  NaN   \n",
       "1                          NaN                  NaN   \n",
       "2                          NaN                  NaN   \n",
       "3                          NaN                  NaN   \n",
       "4                          NaN                  NaN   \n",
       "\n",
       "   Zri_MultiFamilyResidenceRental  Zri_SingleFamilyResidenceRental  Year  \n",
       "0                             NaN                              NaN  1996  \n",
       "1                             NaN                              NaN  1996  \n",
       "2                             NaN                              NaN  1996  \n",
       "3                             NaN                              NaN  1996  \n",
       "4                             NaN                              NaN  1996  \n",
       "\n",
       "[5 rows x 83 columns]"
      ]
     },
     "execution_count": 4,
     "metadata": {},
     "output_type": "execute_result"
    }
   ],
   "source": [
    "# extracting year from date as a separate 'Year' column\n",
    "state_time_series_df['Year'] = pd.DatetimeIndex(state_time_series_df['Date']).year\n",
    "state_time_series_df.head()"
   ]
  },
  {
   "cell_type": "code",
   "execution_count": 5,
   "metadata": {
    "scrolled": true
   },
   "outputs": [
    {
     "data": {
      "text/plain": [
       "['Date',\n",
       " 'RegionName',\n",
       " 'DaysOnZillow_AllHomes',\n",
       " 'InventorySeasonallyAdjusted_AllHomes',\n",
       " 'InventoryRaw_AllHomes',\n",
       " 'MedianListingPricePerSqft_1Bedroom',\n",
       " 'MedianListingPricePerSqft_2Bedroom',\n",
       " 'MedianListingPricePerSqft_3Bedroom',\n",
       " 'MedianListingPricePerSqft_4Bedroom',\n",
       " 'MedianListingPricePerSqft_5BedroomOrMore',\n",
       " 'MedianListingPricePerSqft_AllHomes',\n",
       " 'MedianListingPricePerSqft_CondoCoop',\n",
       " 'MedianListingPricePerSqft_DuplexTriplex',\n",
       " 'MedianListingPricePerSqft_SingleFamilyResidence',\n",
       " 'MedianListingPrice_1Bedroom',\n",
       " 'MedianListingPrice_2Bedroom',\n",
       " 'MedianListingPrice_3Bedroom',\n",
       " 'MedianListingPrice_4Bedroom',\n",
       " 'MedianListingPrice_5BedroomOrMore',\n",
       " 'MedianListingPrice_AllHomes',\n",
       " 'MedianListingPrice_CondoCoop',\n",
       " 'MedianListingPrice_DuplexTriplex',\n",
       " 'MedianListingPrice_SingleFamilyResidence',\n",
       " 'MedianPctOfPriceReduction_AllHomes',\n",
       " 'MedianPctOfPriceReduction_CondoCoop',\n",
       " 'MedianPctOfPriceReduction_SingleFamilyResidence',\n",
       " 'MedianPriceCutDollar_AllHomes',\n",
       " 'MedianPriceCutDollar_CondoCoop',\n",
       " 'MedianPriceCutDollar_SingleFamilyResidence',\n",
       " 'MedianRentalPricePerSqft_1Bedroom',\n",
       " 'MedianRentalPricePerSqft_2Bedroom',\n",
       " 'MedianRentalPricePerSqft_3Bedroom',\n",
       " 'MedianRentalPricePerSqft_4Bedroom',\n",
       " 'MedianRentalPricePerSqft_5BedroomOrMore',\n",
       " 'MedianRentalPricePerSqft_AllHomes',\n",
       " 'MedianRentalPricePerSqft_CondoCoop',\n",
       " 'MedianRentalPricePerSqft_DuplexTriplex',\n",
       " 'MedianRentalPricePerSqft_MultiFamilyResidence5PlusUnits',\n",
       " 'MedianRentalPricePerSqft_SingleFamilyResidence',\n",
       " 'MedianRentalPricePerSqft_Studio',\n",
       " 'MedianRentalPrice_1Bedroom',\n",
       " 'MedianRentalPrice_2Bedroom',\n",
       " 'MedianRentalPrice_3Bedroom',\n",
       " 'MedianRentalPrice_4Bedroom',\n",
       " 'MedianRentalPrice_5BedroomOrMore',\n",
       " 'MedianRentalPrice_AllHomes',\n",
       " 'MedianRentalPrice_CondoCoop',\n",
       " 'MedianRentalPrice_DuplexTriplex',\n",
       " 'MedianRentalPrice_MultiFamilyResidence5PlusUnits',\n",
       " 'MedianRentalPrice_SingleFamilyResidence',\n",
       " 'MedianRentalPrice_Studio',\n",
       " 'ZHVIPerSqft_AllHomes',\n",
       " 'PctOfHomesDecreasingInValues_AllHomes',\n",
       " 'PctOfHomesIncreasingInValues_AllHomes',\n",
       " 'PctOfHomesSellingForGain_AllHomes',\n",
       " 'PctOfHomesSellingForLoss_AllHomes',\n",
       " 'PctOfListingsWithPriceReductionsSeasAdj_AllHomes',\n",
       " 'PctOfListingsWithPriceReductionsSeasAdj_CondoCoop',\n",
       " 'PctOfListingsWithPriceReductionsSeasAdj_SingleFamilyResidence',\n",
       " 'PctOfListingsWithPriceReductions_AllHomes',\n",
       " 'PctOfListingsWithPriceReductions_CondoCoop',\n",
       " 'PctOfListingsWithPriceReductions_SingleFamilyResidence',\n",
       " 'PriceToRentRatio_AllHomes',\n",
       " 'Sale_Counts',\n",
       " 'Sale_Counts_Seas_Adj',\n",
       " 'Sale_Prices',\n",
       " 'ZHVI_1bedroom',\n",
       " 'ZHVI_2bedroom',\n",
       " 'ZHVI_3bedroom',\n",
       " 'ZHVI_4bedroom',\n",
       " 'ZHVI_5BedroomOrMore',\n",
       " 'ZHVI_AllHomes',\n",
       " 'ZHVI_BottomTier',\n",
       " 'ZHVI_CondoCoop',\n",
       " 'ZHVI_MiddleTier',\n",
       " 'ZHVI_SingleFamilyResidence',\n",
       " 'ZHVI_TopTier',\n",
       " 'ZRI_AllHomes',\n",
       " 'ZRI_AllHomesPlusMultifamily',\n",
       " 'ZriPerSqft_AllHomes',\n",
       " 'Zri_MultiFamilyResidenceRental',\n",
       " 'Zri_SingleFamilyResidenceRental',\n",
       " 'Year']"
      ]
     },
     "execution_count": 5,
     "metadata": {},
     "output_type": "execute_result"
    }
   ],
   "source": [
    "# getting the list of columns\n",
    "list(state_time_series_df.columns)"
   ]
  },
  {
   "cell_type": "code",
   "execution_count": 6,
   "metadata": {},
   "outputs": [
    {
     "data": {
      "text/html": [
       "<div>\n",
       "<style scoped>\n",
       "    .dataframe tbody tr th:only-of-type {\n",
       "        vertical-align: middle;\n",
       "    }\n",
       "\n",
       "    .dataframe tbody tr th {\n",
       "        vertical-align: top;\n",
       "    }\n",
       "\n",
       "    .dataframe thead th {\n",
       "        text-align: right;\n",
       "    }\n",
       "</style>\n",
       "<table border=\"1\" class=\"dataframe\">\n",
       "  <thead>\n",
       "    <tr style=\"text-align: right;\">\n",
       "      <th></th>\n",
       "      <th>Date</th>\n",
       "      <th>RegionName</th>\n",
       "      <th>DaysOnZillow_AllHomes</th>\n",
       "      <th>InventorySeasonallyAdjusted_AllHomes</th>\n",
       "      <th>InventoryRaw_AllHomes</th>\n",
       "      <th>MedianListingPricePerSqft_1Bedroom</th>\n",
       "      <th>MedianListingPricePerSqft_2Bedroom</th>\n",
       "      <th>MedianListingPricePerSqft_3Bedroom</th>\n",
       "      <th>MedianListingPricePerSqft_4Bedroom</th>\n",
       "      <th>MedianListingPricePerSqft_5BedroomOrMore</th>\n",
       "      <th>...</th>\n",
       "      <th>ZHVI_CondoCoop</th>\n",
       "      <th>ZHVI_MiddleTier</th>\n",
       "      <th>ZHVI_SingleFamilyResidence</th>\n",
       "      <th>ZHVI_TopTier</th>\n",
       "      <th>ZRI_AllHomes</th>\n",
       "      <th>ZRI_AllHomesPlusMultifamily</th>\n",
       "      <th>ZriPerSqft_AllHomes</th>\n",
       "      <th>Zri_MultiFamilyResidenceRental</th>\n",
       "      <th>Zri_SingleFamilyResidenceRental</th>\n",
       "      <th>Year</th>\n",
       "    </tr>\n",
       "  </thead>\n",
       "  <tbody>\n",
       "    <tr>\n",
       "      <td>8221</td>\n",
       "      <td>2010-01-31</td>\n",
       "      <td>Alabama</td>\n",
       "      <td>169.0</td>\n",
       "      <td>32616.0</td>\n",
       "      <td>29765.0</td>\n",
       "      <td>NaN</td>\n",
       "      <td>98.491968</td>\n",
       "      <td>93.097826</td>\n",
       "      <td>103.935698</td>\n",
       "      <td>110.909091</td>\n",
       "      <td>...</td>\n",
       "      <td>137300.0</td>\n",
       "      <td>123800.0</td>\n",
       "      <td>123300.0</td>\n",
       "      <td>232500.0</td>\n",
       "      <td>NaN</td>\n",
       "      <td>NaN</td>\n",
       "      <td>NaN</td>\n",
       "      <td>NaN</td>\n",
       "      <td>NaN</td>\n",
       "      <td>2010</td>\n",
       "    </tr>\n",
       "    <tr>\n",
       "      <td>8222</td>\n",
       "      <td>2010-01-31</td>\n",
       "      <td>Alaska</td>\n",
       "      <td>130.0</td>\n",
       "      <td>3477.0</td>\n",
       "      <td>2748.0</td>\n",
       "      <td>182.03125</td>\n",
       "      <td>163.351878</td>\n",
       "      <td>154.224835</td>\n",
       "      <td>144.439421</td>\n",
       "      <td>125.418060</td>\n",
       "      <td>...</td>\n",
       "      <td>176100.0</td>\n",
       "      <td>247200.0</td>\n",
       "      <td>257100.0</td>\n",
       "      <td>356200.0</td>\n",
       "      <td>NaN</td>\n",
       "      <td>NaN</td>\n",
       "      <td>NaN</td>\n",
       "      <td>NaN</td>\n",
       "      <td>NaN</td>\n",
       "      <td>2010</td>\n",
       "    </tr>\n",
       "    <tr>\n",
       "      <td>8223</td>\n",
       "      <td>2010-01-31</td>\n",
       "      <td>Arizona</td>\n",
       "      <td>112.0</td>\n",
       "      <td>50221.0</td>\n",
       "      <td>50480.0</td>\n",
       "      <td>NaN</td>\n",
       "      <td>NaN</td>\n",
       "      <td>NaN</td>\n",
       "      <td>NaN</td>\n",
       "      <td>NaN</td>\n",
       "      <td>...</td>\n",
       "      <td>121800.0</td>\n",
       "      <td>161300.0</td>\n",
       "      <td>168600.0</td>\n",
       "      <td>298400.0</td>\n",
       "      <td>NaN</td>\n",
       "      <td>NaN</td>\n",
       "      <td>NaN</td>\n",
       "      <td>NaN</td>\n",
       "      <td>NaN</td>\n",
       "      <td>2010</td>\n",
       "    </tr>\n",
       "    <tr>\n",
       "      <td>8224</td>\n",
       "      <td>2010-01-31</td>\n",
       "      <td>Arkansas</td>\n",
       "      <td>121.0</td>\n",
       "      <td>18475.0</td>\n",
       "      <td>17418.0</td>\n",
       "      <td>NaN</td>\n",
       "      <td>81.407259</td>\n",
       "      <td>86.213992</td>\n",
       "      <td>94.743421</td>\n",
       "      <td>96.915394</td>\n",
       "      <td>...</td>\n",
       "      <td>127500.0</td>\n",
       "      <td>105800.0</td>\n",
       "      <td>105800.0</td>\n",
       "      <td>185100.0</td>\n",
       "      <td>NaN</td>\n",
       "      <td>NaN</td>\n",
       "      <td>NaN</td>\n",
       "      <td>NaN</td>\n",
       "      <td>NaN</td>\n",
       "      <td>2010</td>\n",
       "    </tr>\n",
       "    <tr>\n",
       "      <td>8225</td>\n",
       "      <td>2010-01-31</td>\n",
       "      <td>California</td>\n",
       "      <td>108.0</td>\n",
       "      <td>138652.0</td>\n",
       "      <td>132194.0</td>\n",
       "      <td>NaN</td>\n",
       "      <td>NaN</td>\n",
       "      <td>NaN</td>\n",
       "      <td>NaN</td>\n",
       "      <td>NaN</td>\n",
       "      <td>...</td>\n",
       "      <td>313600.0</td>\n",
       "      <td>335100.0</td>\n",
       "      <td>340000.0</td>\n",
       "      <td>655700.0</td>\n",
       "      <td>NaN</td>\n",
       "      <td>NaN</td>\n",
       "      <td>NaN</td>\n",
       "      <td>NaN</td>\n",
       "      <td>NaN</td>\n",
       "      <td>2010</td>\n",
       "    </tr>\n",
       "  </tbody>\n",
       "</table>\n",
       "<p>5 rows × 83 columns</p>\n",
       "</div>"
      ],
      "text/plain": [
       "            Date  RegionName  DaysOnZillow_AllHomes  \\\n",
       "8221  2010-01-31     Alabama                  169.0   \n",
       "8222  2010-01-31      Alaska                  130.0   \n",
       "8223  2010-01-31     Arizona                  112.0   \n",
       "8224  2010-01-31    Arkansas                  121.0   \n",
       "8225  2010-01-31  California                  108.0   \n",
       "\n",
       "      InventorySeasonallyAdjusted_AllHomes  InventoryRaw_AllHomes  \\\n",
       "8221                               32616.0                29765.0   \n",
       "8222                                3477.0                 2748.0   \n",
       "8223                               50221.0                50480.0   \n",
       "8224                               18475.0                17418.0   \n",
       "8225                              138652.0               132194.0   \n",
       "\n",
       "      MedianListingPricePerSqft_1Bedroom  MedianListingPricePerSqft_2Bedroom  \\\n",
       "8221                                 NaN                           98.491968   \n",
       "8222                           182.03125                          163.351878   \n",
       "8223                                 NaN                                 NaN   \n",
       "8224                                 NaN                           81.407259   \n",
       "8225                                 NaN                                 NaN   \n",
       "\n",
       "      MedianListingPricePerSqft_3Bedroom  MedianListingPricePerSqft_4Bedroom  \\\n",
       "8221                           93.097826                          103.935698   \n",
       "8222                          154.224835                          144.439421   \n",
       "8223                                 NaN                                 NaN   \n",
       "8224                           86.213992                           94.743421   \n",
       "8225                                 NaN                                 NaN   \n",
       "\n",
       "      MedianListingPricePerSqft_5BedroomOrMore  ...  ZHVI_CondoCoop  \\\n",
       "8221                                110.909091  ...        137300.0   \n",
       "8222                                125.418060  ...        176100.0   \n",
       "8223                                       NaN  ...        121800.0   \n",
       "8224                                 96.915394  ...        127500.0   \n",
       "8225                                       NaN  ...        313600.0   \n",
       "\n",
       "      ZHVI_MiddleTier  ZHVI_SingleFamilyResidence  ZHVI_TopTier  ZRI_AllHomes  \\\n",
       "8221         123800.0                    123300.0      232500.0           NaN   \n",
       "8222         247200.0                    257100.0      356200.0           NaN   \n",
       "8223         161300.0                    168600.0      298400.0           NaN   \n",
       "8224         105800.0                    105800.0      185100.0           NaN   \n",
       "8225         335100.0                    340000.0      655700.0           NaN   \n",
       "\n",
       "      ZRI_AllHomesPlusMultifamily  ZriPerSqft_AllHomes  \\\n",
       "8221                          NaN                  NaN   \n",
       "8222                          NaN                  NaN   \n",
       "8223                          NaN                  NaN   \n",
       "8224                          NaN                  NaN   \n",
       "8225                          NaN                  NaN   \n",
       "\n",
       "      Zri_MultiFamilyResidenceRental  Zri_SingleFamilyResidenceRental  Year  \n",
       "8221                             NaN                              NaN  2010  \n",
       "8222                             NaN                              NaN  2010  \n",
       "8223                             NaN                              NaN  2010  \n",
       "8224                             NaN                              NaN  2010  \n",
       "8225                             NaN                              NaN  2010  \n",
       "\n",
       "[5 rows x 83 columns]"
      ]
     },
     "execution_count": 6,
     "metadata": {},
     "output_type": "execute_result"
    }
   ],
   "source": [
    "# extracting the data (rows) from 2010 onwards (upto 2017)\n",
    "state_2010to2017_df = state_time_series_df.loc[state_time_series_df['Year'] >= 2010]\n",
    "state_2010to2017_df.head()"
   ]
  },
  {
   "cell_type": "code",
   "execution_count": 7,
   "metadata": {},
   "outputs": [
    {
     "data": {
      "text/plain": [
       "(4991, 83)"
      ]
     },
     "execution_count": 7,
     "metadata": {},
     "output_type": "execute_result"
    }
   ],
   "source": [
    "# checking the number of rows and columns in the extracted dataset\n",
    "state_2010to2017_df.shape"
   ]
  },
  {
   "cell_type": "markdown",
   "metadata": {},
   "source": [
    "#### Columns to be included for analysis"
   ]
  },
  {
   "cell_type": "raw",
   "metadata": {},
   "source": [
    "Common columns for all:\n",
    "\n",
    "'Year',\n",
    "'RegionName',\n",
    "\n",
    "'DaysOnZillow_AllHomes', - Mukesh\n",
    "'InventoryRaw_AllHomes', - Mukesh\n",
    "\n",
    "Loza\n",
    "'MedianListingPricePerSqft_1Bedroom',\n",
    "'MedianListingPricePerSqft_2Bedroom',\n",
    "'MedianListingPricePerSqft_3Bedroom',\n",
    "'MedianListingPricePerSqft_4Bedroom',\n",
    "'MedianListingPricePerSqft_5BedroomOrMore',\n",
    "\n",
    "Ancy\n",
    "'MedianListingPricePerSqft_AllHomes',\n",
    "'MedianListingPricePerSqft_CondoCoop',\n",
    "'MedianListingPricePerSqft_DuplexTriplex',\n",
    "'MedianListingPricePerSqft_SingleFamilyResidence',\n",
    "\n",
    "[note: we do not have ZHVI per sq ft, but only ZHVI for number of bedrooms and types of homes]\n",
    "\n",
    "Joy\n",
    "'ZHVIPerSqft_AllHomes',\n",
    "\n",
    "'ZHVI_1bedroom',\n",
    "'ZHVI_2bedroom',\n",
    "'ZHVI_3bedroom',\n",
    "'ZHVI_4bedroom',\n",
    "'ZHVI_5BedroomOrMore',\n",
    "\n",
    "Mukesh\n",
    "'ZHVI_AllHomes',\n",
    "'ZHVI_CondoCoop',\n",
    "'ZHVI_SingleFamilyResidence',"
   ]
  },
  {
   "cell_type": "markdown",
   "metadata": {},
   "source": [
    "### Creating dataset for analysis with only selected columns"
   ]
  },
  {
   "cell_type": "code",
   "execution_count": 8,
   "metadata": {},
   "outputs": [
    {
     "data": {
      "text/html": [
       "<div>\n",
       "<style scoped>\n",
       "    .dataframe tbody tr th:only-of-type {\n",
       "        vertical-align: middle;\n",
       "    }\n",
       "\n",
       "    .dataframe tbody tr th {\n",
       "        vertical-align: top;\n",
       "    }\n",
       "\n",
       "    .dataframe thead th {\n",
       "        text-align: right;\n",
       "    }\n",
       "</style>\n",
       "<table border=\"1\" class=\"dataframe\">\n",
       "  <thead>\n",
       "    <tr style=\"text-align: right;\">\n",
       "      <th></th>\n",
       "      <th>Year</th>\n",
       "      <th>RegionName</th>\n",
       "      <th>Sale_Counts</th>\n",
       "      <th>Sale_Prices</th>\n",
       "      <th>DaysOnZillow_AllHomes</th>\n",
       "      <th>InventoryRaw_AllHomes</th>\n",
       "      <th>MedianListingPricePerSqft_1Bedroom</th>\n",
       "      <th>MedianListingPricePerSqft_2Bedroom</th>\n",
       "      <th>MedianListingPricePerSqft_3Bedroom</th>\n",
       "      <th>MedianListingPricePerSqft_4Bedroom</th>\n",
       "      <th>...</th>\n",
       "      <th>MedianListingPricePerSqft_SingleFamilyResidence</th>\n",
       "      <th>ZHVIPerSqft_AllHomes</th>\n",
       "      <th>ZHVI_1bedroom</th>\n",
       "      <th>ZHVI_2bedroom</th>\n",
       "      <th>ZHVI_3bedroom</th>\n",
       "      <th>ZHVI_4bedroom</th>\n",
       "      <th>ZHVI_5BedroomOrMore</th>\n",
       "      <th>ZHVI_AllHomes</th>\n",
       "      <th>ZHVI_CondoCoop</th>\n",
       "      <th>ZHVI_SingleFamilyResidence</th>\n",
       "    </tr>\n",
       "  </thead>\n",
       "  <tbody>\n",
       "    <tr>\n",
       "      <td>8221</td>\n",
       "      <td>2010</td>\n",
       "      <td>Alabama</td>\n",
       "      <td>2029.0</td>\n",
       "      <td>NaN</td>\n",
       "      <td>169.0</td>\n",
       "      <td>29765.0</td>\n",
       "      <td>NaN</td>\n",
       "      <td>98.491968</td>\n",
       "      <td>93.097826</td>\n",
       "      <td>103.935698</td>\n",
       "      <td>...</td>\n",
       "      <td>94.076655</td>\n",
       "      <td>76.0</td>\n",
       "      <td>91000.0</td>\n",
       "      <td>76900.0</td>\n",
       "      <td>123700.0</td>\n",
       "      <td>230100.0</td>\n",
       "      <td>334500.0</td>\n",
       "      <td>123800.0</td>\n",
       "      <td>137300.0</td>\n",
       "      <td>123300.0</td>\n",
       "    </tr>\n",
       "    <tr>\n",
       "      <td>8222</td>\n",
       "      <td>2010</td>\n",
       "      <td>Alaska</td>\n",
       "      <td>NaN</td>\n",
       "      <td>NaN</td>\n",
       "      <td>130.0</td>\n",
       "      <td>2748.0</td>\n",
       "      <td>182.03125</td>\n",
       "      <td>163.351878</td>\n",
       "      <td>154.224835</td>\n",
       "      <td>144.439421</td>\n",
       "      <td>...</td>\n",
       "      <td>151.328940</td>\n",
       "      <td>172.0</td>\n",
       "      <td>130500.0</td>\n",
       "      <td>177800.0</td>\n",
       "      <td>253600.0</td>\n",
       "      <td>322400.0</td>\n",
       "      <td>420700.0</td>\n",
       "      <td>247200.0</td>\n",
       "      <td>176100.0</td>\n",
       "      <td>257100.0</td>\n",
       "    </tr>\n",
       "    <tr>\n",
       "      <td>8223</td>\n",
       "      <td>2010</td>\n",
       "      <td>Arizona</td>\n",
       "      <td>8467.0</td>\n",
       "      <td>135000.0</td>\n",
       "      <td>112.0</td>\n",
       "      <td>50480.0</td>\n",
       "      <td>NaN</td>\n",
       "      <td>NaN</td>\n",
       "      <td>NaN</td>\n",
       "      <td>NaN</td>\n",
       "      <td>...</td>\n",
       "      <td>NaN</td>\n",
       "      <td>100.0</td>\n",
       "      <td>96100.0</td>\n",
       "      <td>141300.0</td>\n",
       "      <td>151500.0</td>\n",
       "      <td>204000.0</td>\n",
       "      <td>311900.0</td>\n",
       "      <td>161300.0</td>\n",
       "      <td>121800.0</td>\n",
       "      <td>168600.0</td>\n",
       "    </tr>\n",
       "    <tr>\n",
       "      <td>8224</td>\n",
       "      <td>2010</td>\n",
       "      <td>Arkansas</td>\n",
       "      <td>1457.0</td>\n",
       "      <td>NaN</td>\n",
       "      <td>121.0</td>\n",
       "      <td>17418.0</td>\n",
       "      <td>NaN</td>\n",
       "      <td>81.407259</td>\n",
       "      <td>86.213992</td>\n",
       "      <td>94.743421</td>\n",
       "      <td>...</td>\n",
       "      <td>88.299817</td>\n",
       "      <td>68.0</td>\n",
       "      <td>84100.0</td>\n",
       "      <td>87700.0</td>\n",
       "      <td>126500.0</td>\n",
       "      <td>215900.0</td>\n",
       "      <td>334400.0</td>\n",
       "      <td>105800.0</td>\n",
       "      <td>127500.0</td>\n",
       "      <td>105800.0</td>\n",
       "    </tr>\n",
       "    <tr>\n",
       "      <td>8225</td>\n",
       "      <td>2010</td>\n",
       "      <td>California</td>\n",
       "      <td>26615.0</td>\n",
       "      <td>261000.0</td>\n",
       "      <td>108.0</td>\n",
       "      <td>132194.0</td>\n",
       "      <td>NaN</td>\n",
       "      <td>NaN</td>\n",
       "      <td>NaN</td>\n",
       "      <td>NaN</td>\n",
       "      <td>...</td>\n",
       "      <td>NaN</td>\n",
       "      <td>218.0</td>\n",
       "      <td>219500.0</td>\n",
       "      <td>271100.0</td>\n",
       "      <td>313200.0</td>\n",
       "      <td>413300.0</td>\n",
       "      <td>565900.0</td>\n",
       "      <td>335100.0</td>\n",
       "      <td>313600.0</td>\n",
       "      <td>340000.0</td>\n",
       "    </tr>\n",
       "  </tbody>\n",
       "</table>\n",
       "<p>5 rows × 24 columns</p>\n",
       "</div>"
      ],
      "text/plain": [
       "      Year  RegionName  Sale_Counts  Sale_Prices  DaysOnZillow_AllHomes  \\\n",
       "8221  2010     Alabama       2029.0          NaN                  169.0   \n",
       "8222  2010      Alaska          NaN          NaN                  130.0   \n",
       "8223  2010     Arizona       8467.0     135000.0                  112.0   \n",
       "8224  2010    Arkansas       1457.0          NaN                  121.0   \n",
       "8225  2010  California      26615.0     261000.0                  108.0   \n",
       "\n",
       "      InventoryRaw_AllHomes  MedianListingPricePerSqft_1Bedroom  \\\n",
       "8221                29765.0                                 NaN   \n",
       "8222                 2748.0                           182.03125   \n",
       "8223                50480.0                                 NaN   \n",
       "8224                17418.0                                 NaN   \n",
       "8225               132194.0                                 NaN   \n",
       "\n",
       "      MedianListingPricePerSqft_2Bedroom  MedianListingPricePerSqft_3Bedroom  \\\n",
       "8221                           98.491968                           93.097826   \n",
       "8222                          163.351878                          154.224835   \n",
       "8223                                 NaN                                 NaN   \n",
       "8224                           81.407259                           86.213992   \n",
       "8225                                 NaN                                 NaN   \n",
       "\n",
       "      MedianListingPricePerSqft_4Bedroom  ...  \\\n",
       "8221                          103.935698  ...   \n",
       "8222                          144.439421  ...   \n",
       "8223                                 NaN  ...   \n",
       "8224                           94.743421  ...   \n",
       "8225                                 NaN  ...   \n",
       "\n",
       "      MedianListingPricePerSqft_SingleFamilyResidence  ZHVIPerSqft_AllHomes  \\\n",
       "8221                                        94.076655                  76.0   \n",
       "8222                                       151.328940                 172.0   \n",
       "8223                                              NaN                 100.0   \n",
       "8224                                        88.299817                  68.0   \n",
       "8225                                              NaN                 218.0   \n",
       "\n",
       "      ZHVI_1bedroom  ZHVI_2bedroom  ZHVI_3bedroom  ZHVI_4bedroom  \\\n",
       "8221        91000.0        76900.0       123700.0       230100.0   \n",
       "8222       130500.0       177800.0       253600.0       322400.0   \n",
       "8223        96100.0       141300.0       151500.0       204000.0   \n",
       "8224        84100.0        87700.0       126500.0       215900.0   \n",
       "8225       219500.0       271100.0       313200.0       413300.0   \n",
       "\n",
       "      ZHVI_5BedroomOrMore  ZHVI_AllHomes  ZHVI_CondoCoop  \\\n",
       "8221             334500.0       123800.0        137300.0   \n",
       "8222             420700.0       247200.0        176100.0   \n",
       "8223             311900.0       161300.0        121800.0   \n",
       "8224             334400.0       105800.0        127500.0   \n",
       "8225             565900.0       335100.0        313600.0   \n",
       "\n",
       "      ZHVI_SingleFamilyResidence  \n",
       "8221                    123300.0  \n",
       "8222                    257100.0  \n",
       "8223                    168600.0  \n",
       "8224                    105800.0  \n",
       "8225                    340000.0  \n",
       "\n",
       "[5 rows x 24 columns]"
      ]
     },
     "execution_count": 8,
     "metadata": {},
     "output_type": "execute_result"
    }
   ],
   "source": [
    "df = state_2010to2017_df[['Year','RegionName','Sale_Counts','Sale_Prices','DaysOnZillow_AllHomes','InventoryRaw_AllHomes','MedianListingPricePerSqft_1Bedroom',\n",
    "'MedianListingPricePerSqft_2Bedroom','MedianListingPricePerSqft_3Bedroom','MedianListingPricePerSqft_4Bedroom',\n",
    "'MedianListingPricePerSqft_5BedroomOrMore','MedianListingPricePerSqft_AllHomes','MedianListingPricePerSqft_CondoCoop',\n",
    "'MedianListingPricePerSqft_DuplexTriplex','MedianListingPricePerSqft_SingleFamilyResidence',\n",
    "'ZHVIPerSqft_AllHomes','ZHVI_1bedroom','ZHVI_2bedroom','ZHVI_3bedroom','ZHVI_4bedroom','ZHVI_5BedroomOrMore',\n",
    "'ZHVI_AllHomes','ZHVI_CondoCoop','ZHVI_SingleFamilyResidence']]\n",
    "\n",
    "df.head()"
   ]
  },
  {
   "cell_type": "code",
   "execution_count": 9,
   "metadata": {},
   "outputs": [
    {
     "data": {
      "text/plain": [
       "(4991, 24)"
      ]
     },
     "execution_count": 9,
     "metadata": {},
     "output_type": "execute_result"
    }
   ],
   "source": [
    "df.shape"
   ]
  },
  {
   "cell_type": "code",
   "execution_count": 10,
   "metadata": {},
   "outputs": [
    {
     "name": "stderr",
     "output_type": "stream",
     "text": [
      "/Applications/anaconda3/lib/python3.7/site-packages/pandas/core/frame.py:4223: SettingWithCopyWarning: \n",
      "A value is trying to be set on a copy of a slice from a DataFrame\n",
      "\n",
      "See the caveats in the documentation: http://pandas.pydata.org/pandas-docs/stable/user_guide/indexing.html#returning-a-view-versus-a-copy\n",
      "  return super().rename(**kwargs)\n"
     ]
    },
    {
     "data": {
      "text/html": [
       "<div>\n",
       "<style scoped>\n",
       "    .dataframe tbody tr th:only-of-type {\n",
       "        vertical-align: middle;\n",
       "    }\n",
       "\n",
       "    .dataframe tbody tr th {\n",
       "        vertical-align: top;\n",
       "    }\n",
       "\n",
       "    .dataframe thead th {\n",
       "        text-align: right;\n",
       "    }\n",
       "</style>\n",
       "<table border=\"1\" class=\"dataframe\">\n",
       "  <thead>\n",
       "    <tr style=\"text-align: right;\">\n",
       "      <th></th>\n",
       "      <th>Year</th>\n",
       "      <th>State</th>\n",
       "      <th>Number of Sales</th>\n",
       "      <th>Sale Price</th>\n",
       "      <th>Days on Zillow (All Home Types)</th>\n",
       "      <th>Inventory (All Home Types)</th>\n",
       "      <th>Median Listing Price / Sq. Ft. - 1 Bedroom</th>\n",
       "      <th>Median Listing Price / Sq. Ft. - 2 Bedrooms</th>\n",
       "      <th>Median Listing Price / Sq. Ft. - 3 Bedrooms</th>\n",
       "      <th>Median Listing Price / Sq. Ft. - 4 Bedrooms</th>\n",
       "      <th>...</th>\n",
       "      <th>Median Listing Price / Sq. Ft. - Single Family Residence</th>\n",
       "      <th>Zillow Home Value Index / Sq. Ft. (All Home Types)</th>\n",
       "      <th>Zillow Home Value Index - 1 Bedroom</th>\n",
       "      <th>Zillow Home Value Index - 2 Bedrooms</th>\n",
       "      <th>Zillow Home Value Index - 3 Bedrooms</th>\n",
       "      <th>Zillow Home Value Index - 4 Bedrooms</th>\n",
       "      <th>Zillow Home Value Index - 5 Bedrooms or More</th>\n",
       "      <th>Zillow Home Value Index (All Home Types)</th>\n",
       "      <th>Zillow Home Value Index - Condo/Cooperative Home</th>\n",
       "      <th>Zillow Home Value Index - Single Family Residency</th>\n",
       "    </tr>\n",
       "  </thead>\n",
       "  <tbody>\n",
       "    <tr>\n",
       "      <td>8221</td>\n",
       "      <td>2010</td>\n",
       "      <td>Alabama</td>\n",
       "      <td>2029.0</td>\n",
       "      <td>NaN</td>\n",
       "      <td>169.0</td>\n",
       "      <td>29765.0</td>\n",
       "      <td>NaN</td>\n",
       "      <td>98.491968</td>\n",
       "      <td>93.097826</td>\n",
       "      <td>103.935698</td>\n",
       "      <td>...</td>\n",
       "      <td>94.076655</td>\n",
       "      <td>76.0</td>\n",
       "      <td>91000.0</td>\n",
       "      <td>76900.0</td>\n",
       "      <td>123700.0</td>\n",
       "      <td>230100.0</td>\n",
       "      <td>334500.0</td>\n",
       "      <td>123800.0</td>\n",
       "      <td>137300.0</td>\n",
       "      <td>123300.0</td>\n",
       "    </tr>\n",
       "    <tr>\n",
       "      <td>8222</td>\n",
       "      <td>2010</td>\n",
       "      <td>Alaska</td>\n",
       "      <td>NaN</td>\n",
       "      <td>NaN</td>\n",
       "      <td>130.0</td>\n",
       "      <td>2748.0</td>\n",
       "      <td>182.03125</td>\n",
       "      <td>163.351878</td>\n",
       "      <td>154.224835</td>\n",
       "      <td>144.439421</td>\n",
       "      <td>...</td>\n",
       "      <td>151.328940</td>\n",
       "      <td>172.0</td>\n",
       "      <td>130500.0</td>\n",
       "      <td>177800.0</td>\n",
       "      <td>253600.0</td>\n",
       "      <td>322400.0</td>\n",
       "      <td>420700.0</td>\n",
       "      <td>247200.0</td>\n",
       "      <td>176100.0</td>\n",
       "      <td>257100.0</td>\n",
       "    </tr>\n",
       "    <tr>\n",
       "      <td>8223</td>\n",
       "      <td>2010</td>\n",
       "      <td>Arizona</td>\n",
       "      <td>8467.0</td>\n",
       "      <td>135000.0</td>\n",
       "      <td>112.0</td>\n",
       "      <td>50480.0</td>\n",
       "      <td>NaN</td>\n",
       "      <td>NaN</td>\n",
       "      <td>NaN</td>\n",
       "      <td>NaN</td>\n",
       "      <td>...</td>\n",
       "      <td>NaN</td>\n",
       "      <td>100.0</td>\n",
       "      <td>96100.0</td>\n",
       "      <td>141300.0</td>\n",
       "      <td>151500.0</td>\n",
       "      <td>204000.0</td>\n",
       "      <td>311900.0</td>\n",
       "      <td>161300.0</td>\n",
       "      <td>121800.0</td>\n",
       "      <td>168600.0</td>\n",
       "    </tr>\n",
       "    <tr>\n",
       "      <td>8224</td>\n",
       "      <td>2010</td>\n",
       "      <td>Arkansas</td>\n",
       "      <td>1457.0</td>\n",
       "      <td>NaN</td>\n",
       "      <td>121.0</td>\n",
       "      <td>17418.0</td>\n",
       "      <td>NaN</td>\n",
       "      <td>81.407259</td>\n",
       "      <td>86.213992</td>\n",
       "      <td>94.743421</td>\n",
       "      <td>...</td>\n",
       "      <td>88.299817</td>\n",
       "      <td>68.0</td>\n",
       "      <td>84100.0</td>\n",
       "      <td>87700.0</td>\n",
       "      <td>126500.0</td>\n",
       "      <td>215900.0</td>\n",
       "      <td>334400.0</td>\n",
       "      <td>105800.0</td>\n",
       "      <td>127500.0</td>\n",
       "      <td>105800.0</td>\n",
       "    </tr>\n",
       "    <tr>\n",
       "      <td>8225</td>\n",
       "      <td>2010</td>\n",
       "      <td>California</td>\n",
       "      <td>26615.0</td>\n",
       "      <td>261000.0</td>\n",
       "      <td>108.0</td>\n",
       "      <td>132194.0</td>\n",
       "      <td>NaN</td>\n",
       "      <td>NaN</td>\n",
       "      <td>NaN</td>\n",
       "      <td>NaN</td>\n",
       "      <td>...</td>\n",
       "      <td>NaN</td>\n",
       "      <td>218.0</td>\n",
       "      <td>219500.0</td>\n",
       "      <td>271100.0</td>\n",
       "      <td>313200.0</td>\n",
       "      <td>413300.0</td>\n",
       "      <td>565900.0</td>\n",
       "      <td>335100.0</td>\n",
       "      <td>313600.0</td>\n",
       "      <td>340000.0</td>\n",
       "    </tr>\n",
       "  </tbody>\n",
       "</table>\n",
       "<p>5 rows × 24 columns</p>\n",
       "</div>"
      ],
      "text/plain": [
       "      Year       State  Number of Sales  Sale Price  \\\n",
       "8221  2010     Alabama           2029.0         NaN   \n",
       "8222  2010      Alaska              NaN         NaN   \n",
       "8223  2010     Arizona           8467.0    135000.0   \n",
       "8224  2010    Arkansas           1457.0         NaN   \n",
       "8225  2010  California          26615.0    261000.0   \n",
       "\n",
       "      Days on Zillow (All Home Types)  Inventory (All Home Types)  \\\n",
       "8221                            169.0                     29765.0   \n",
       "8222                            130.0                      2748.0   \n",
       "8223                            112.0                     50480.0   \n",
       "8224                            121.0                     17418.0   \n",
       "8225                            108.0                    132194.0   \n",
       "\n",
       "      Median Listing Price / Sq. Ft. - 1 Bedroom  \\\n",
       "8221                                         NaN   \n",
       "8222                                   182.03125   \n",
       "8223                                         NaN   \n",
       "8224                                         NaN   \n",
       "8225                                         NaN   \n",
       "\n",
       "      Median Listing Price / Sq. Ft. - 2 Bedrooms  \\\n",
       "8221                                    98.491968   \n",
       "8222                                   163.351878   \n",
       "8223                                          NaN   \n",
       "8224                                    81.407259   \n",
       "8225                                          NaN   \n",
       "\n",
       "      Median Listing Price / Sq. Ft. - 3 Bedrooms  \\\n",
       "8221                                    93.097826   \n",
       "8222                                   154.224835   \n",
       "8223                                          NaN   \n",
       "8224                                    86.213992   \n",
       "8225                                          NaN   \n",
       "\n",
       "      Median Listing Price / Sq. Ft. - 4 Bedrooms  ...  \\\n",
       "8221                                   103.935698  ...   \n",
       "8222                                   144.439421  ...   \n",
       "8223                                          NaN  ...   \n",
       "8224                                    94.743421  ...   \n",
       "8225                                          NaN  ...   \n",
       "\n",
       "      Median Listing Price / Sq. Ft. - Single Family Residence  \\\n",
       "8221                                          94.076655          \n",
       "8222                                         151.328940          \n",
       "8223                                                NaN          \n",
       "8224                                          88.299817          \n",
       "8225                                                NaN          \n",
       "\n",
       "      Zillow Home Value Index / Sq. Ft. (All Home Types)  \\\n",
       "8221                                               76.0    \n",
       "8222                                              172.0    \n",
       "8223                                              100.0    \n",
       "8224                                               68.0    \n",
       "8225                                              218.0    \n",
       "\n",
       "      Zillow Home Value Index - 1 Bedroom  \\\n",
       "8221                              91000.0   \n",
       "8222                             130500.0   \n",
       "8223                              96100.0   \n",
       "8224                              84100.0   \n",
       "8225                             219500.0   \n",
       "\n",
       "      Zillow Home Value Index - 2 Bedrooms  \\\n",
       "8221                               76900.0   \n",
       "8222                              177800.0   \n",
       "8223                              141300.0   \n",
       "8224                               87700.0   \n",
       "8225                              271100.0   \n",
       "\n",
       "      Zillow Home Value Index - 3 Bedrooms  \\\n",
       "8221                              123700.0   \n",
       "8222                              253600.0   \n",
       "8223                              151500.0   \n",
       "8224                              126500.0   \n",
       "8225                              313200.0   \n",
       "\n",
       "      Zillow Home Value Index - 4 Bedrooms  \\\n",
       "8221                              230100.0   \n",
       "8222                              322400.0   \n",
       "8223                              204000.0   \n",
       "8224                              215900.0   \n",
       "8225                              413300.0   \n",
       "\n",
       "      Zillow Home Value Index - 5 Bedrooms or More  \\\n",
       "8221                                      334500.0   \n",
       "8222                                      420700.0   \n",
       "8223                                      311900.0   \n",
       "8224                                      334400.0   \n",
       "8225                                      565900.0   \n",
       "\n",
       "      Zillow Home Value Index (All Home Types)  \\\n",
       "8221                                  123800.0   \n",
       "8222                                  247200.0   \n",
       "8223                                  161300.0   \n",
       "8224                                  105800.0   \n",
       "8225                                  335100.0   \n",
       "\n",
       "      Zillow Home Value Index - Condo/Cooperative Home  \\\n",
       "8221                                          137300.0   \n",
       "8222                                          176100.0   \n",
       "8223                                          121800.0   \n",
       "8224                                          127500.0   \n",
       "8225                                          313600.0   \n",
       "\n",
       "      Zillow Home Value Index - Single Family Residency  \n",
       "8221                                           123300.0  \n",
       "8222                                           257100.0  \n",
       "8223                                           168600.0  \n",
       "8224                                           105800.0  \n",
       "8225                                           340000.0  \n",
       "\n",
       "[5 rows x 24 columns]"
      ]
     },
     "execution_count": 10,
     "metadata": {},
     "output_type": "execute_result"
    }
   ],
   "source": [
    "df.rename(columns={\n",
    "    'RegionName':'State',\n",
    "    'Sale_Counts': 'Number of Sales',\n",
    "    'Sale_Prices': 'Sale Price',\n",
    "    'DaysOnZillow_AllHomes': 'Days on Zillow (All Home Types)',\n",
    "    'InventoryRaw_AllHomes': 'Inventory (All Home Types)',\n",
    "    'MedianListingPricePerSqft_1Bedroom': 'Median Listing Price / Sq. Ft. - 1 Bedroom',\n",
    "    'MedianListingPricePerSqft_2Bedroom': 'Median Listing Price / Sq. Ft. - 2 Bedrooms',\n",
    "    'MedianListingPricePerSqft_3Bedroom': 'Median Listing Price / Sq. Ft. - 3 Bedrooms',\n",
    "    'MedianListingPricePerSqft_4Bedroom': 'Median Listing Price / Sq. Ft. - 4 Bedrooms',\n",
    "    'MedianListingPricePerSqft_5BedroomOrMore': 'Median Listing Price / Sq. Ft. - 5 Bedrooms or More',\n",
    "    'MedianListingPricePerSqft_AllHomes': 'Median Listing Price / Sq. Ft. (All Home Types)',\n",
    "    'MedianListingPricePerSqft_CondoCoop': 'Median Listing Price / Sq. Ft. - Condo/Cooperative Home',\n",
    "    'MedianListingPricePerSqft_DuplexTriplex': 'Median Listing Price / Sq. Ft. - Duplex/Triplex',\n",
    "    'MedianListingPricePerSqft_SingleFamilyResidence': 'Median Listing Price / Sq. Ft. - Single Family Residence',\n",
    "    'ZHVIPerSqft_AllHomes': 'Zillow Home Value Index / Sq. Ft. (All Home Types)',\n",
    "    'ZHVI_1bedroom': 'Zillow Home Value Index - 1 Bedroom',\n",
    "    'ZHVI_2bedroom': 'Zillow Home Value Index - 2 Bedrooms',\n",
    "    'ZHVI_3bedroom': 'Zillow Home Value Index - 3 Bedrooms',\n",
    "    'ZHVI_4bedroom': 'Zillow Home Value Index - 4 Bedrooms',\n",
    "    'ZHVI_5BedroomOrMore': 'Zillow Home Value Index - 5 Bedrooms or More',\n",
    "    'ZHVI_AllHomes': 'Zillow Home Value Index (All Home Types)',\n",
    "    'ZHVI_CondoCoop': 'Zillow Home Value Index - Condo/Cooperative Home',\n",
    "    'ZHVI_SingleFamilyResidence': 'Zillow Home Value Index - Single Family Residency'\n",
    "}, inplace = True)\n",
    "\n",
    "df.head()"
   ]
  },
  {
   "cell_type": "code",
   "execution_count": 11,
   "metadata": {},
   "outputs": [
    {
     "data": {
      "text/plain": [
       "Year                                                        4991\n",
       "State                                                       4991\n",
       "Number of Sales                                             4385\n",
       "Sale Price                                                  3378\n",
       "Days on Zillow (All Home Types)                             4845\n",
       "Inventory (All Home Types)                                  4896\n",
       "Median Listing Price / Sq. Ft. - 1 Bedroom                  3586\n",
       "Median Listing Price / Sq. Ft. - 2 Bedrooms                 4534\n",
       "Median Listing Price / Sq. Ft. - 3 Bedrooms                 4607\n",
       "Median Listing Price / Sq. Ft. - 4 Bedrooms                 4677\n",
       "Median Listing Price / Sq. Ft. - 5 Bedrooms or More         4569\n",
       "Median Listing Price / Sq. Ft. (All Home Types)             4674\n",
       "Median Listing Price / Sq. Ft. - Condo/Cooperative Home     4149\n",
       "Median Listing Price / Sq. Ft. - Duplex/Triplex             3964\n",
       "Median Listing Price / Sq. Ft. - Single Family Residence    4639\n",
       "Zillow Home Value Index / Sq. Ft. (All Home Types)          4800\n",
       "Zillow Home Value Index - 1 Bedroom                         4091\n",
       "Zillow Home Value Index - 2 Bedrooms                        4493\n",
       "Zillow Home Value Index - 3 Bedrooms                        4870\n",
       "Zillow Home Value Index - 4 Bedrooms                        4704\n",
       "Zillow Home Value Index - 5 Bedrooms or More                4593\n",
       "Zillow Home Value Index (All Home Types)                    4800\n",
       "Zillow Home Value Index - Condo/Cooperative Home            4416\n",
       "Zillow Home Value Index - Single Family Residency           4800\n",
       "dtype: int64"
      ]
     },
     "execution_count": 11,
     "metadata": {},
     "output_type": "execute_result"
    }
   ],
   "source": [
    "df.count()"
   ]
  },
  {
   "cell_type": "code",
   "execution_count": 12,
   "metadata": {},
   "outputs": [
    {
     "data": {
      "text/plain": [
       "array(['Alabama', 'Alaska', 'Arizona', 'Arkansas', 'California',\n",
       "       'Colorado', 'Connecticut', 'Delaware', 'DistrictofColumbia',\n",
       "       'Florida', 'Georgia', 'Hawaii', 'Idaho', 'Illinois', 'Indiana',\n",
       "       'Iowa', 'Kansas', 'Kentucky', 'Louisiana', 'Maine', 'Maryland',\n",
       "       'Massachusetts', 'Michigan', 'Minnesota', 'Mississippi',\n",
       "       'Missouri', 'Montana', 'Nebraska', 'Nevada', 'NewHampshire',\n",
       "       'NewJersey', 'NewMexico', 'NewYork', 'NorthCarolina',\n",
       "       'NorthDakota', 'Ohio', 'Oklahoma', 'Oregon', 'Pennsylvania',\n",
       "       'RhodeIsland', 'SouthCarolina', 'SouthDakota', 'Tennessee',\n",
       "       'Texas', 'UnitedStates', 'Utah', 'Vermont', 'Virginia',\n",
       "       'Washington', 'WestVirginia', 'Wisconsin', 'Wyoming'], dtype=object)"
      ]
     },
     "execution_count": 12,
     "metadata": {},
     "output_type": "execute_result"
    }
   ],
   "source": [
    "df['State'].unique()"
   ]
  },
  {
   "cell_type": "code",
   "execution_count": 13,
   "metadata": {},
   "outputs": [
    {
     "name": "stderr",
     "output_type": "stream",
     "text": [
      "/Applications/anaconda3/lib/python3.7/site-packages/pandas/core/generic.py:6786: SettingWithCopyWarning: \n",
      "A value is trying to be set on a copy of a slice from a DataFrame\n",
      "\n",
      "See the caveats in the documentation: http://pandas.pydata.org/pandas-docs/stable/user_guide/indexing.html#returning-a-view-versus-a-copy\n",
      "  self._update_inplace(new_data)\n"
     ]
    }
   ],
   "source": [
    "# replace invalid joint state names with names with a space in between\n",
    "df['State'].replace({'DistrictofColumbia' : 'District of Columbia',\n",
    "                     'NewHampshire': 'New Hampshire',\n",
    "                     'NewJersey': 'New Jersey',\n",
    "                     'NewMexico' : 'New Mexico',\n",
    "                     'NewYork' : 'New York',\n",
    "                     'NorthCarolina' : 'North Carolina',\n",
    "                     'NorthDakota' : 'North Dakota',\n",
    "                     'RhodeIsland' : 'Rhode Island',\n",
    "                     'SouthCarolina' : 'South Carolina',\n",
    "                     'SouthDakota' : 'South Dakota',\n",
    "                     'UnitedStates' : 'United States',\n",
    "                     'WestVirginia' : 'West Virginia'}, inplace=True)"
   ]
  },
  {
   "cell_type": "code",
   "execution_count": 14,
   "metadata": {},
   "outputs": [
    {
     "data": {
      "text/plain": [
       "array(['Alabama', 'Alaska', 'Arizona', 'Arkansas', 'California',\n",
       "       'Colorado', 'Connecticut', 'Delaware', 'District of Columbia',\n",
       "       'Florida', 'Georgia', 'Hawaii', 'Idaho', 'Illinois', 'Indiana',\n",
       "       'Iowa', 'Kansas', 'Kentucky', 'Louisiana', 'Maine', 'Maryland',\n",
       "       'Massachusetts', 'Michigan', 'Minnesota', 'Mississippi',\n",
       "       'Missouri', 'Montana', 'Nebraska', 'Nevada', 'New Hampshire',\n",
       "       'New Jersey', 'New Mexico', 'New York', 'North Carolina',\n",
       "       'North Dakota', 'Ohio', 'Oklahoma', 'Oregon', 'Pennsylvania',\n",
       "       'Rhode Island', 'South Carolina', 'South Dakota', 'Tennessee',\n",
       "       'Texas', 'United States', 'Utah', 'Vermont', 'Virginia',\n",
       "       'Washington', 'West Virginia', 'Wisconsin', 'Wyoming'],\n",
       "      dtype=object)"
      ]
     },
     "execution_count": 14,
     "metadata": {},
     "output_type": "execute_result"
    }
   ],
   "source": [
    "df['State'].unique()"
   ]
  },
  {
   "cell_type": "code",
   "execution_count": 15,
   "metadata": {},
   "outputs": [
    {
     "data": {
      "text/plain": [
       "Year                                                        4991\n",
       "State                                                       4991\n",
       "Number of Sales                                             4385\n",
       "Sale Price                                                  3378\n",
       "Days on Zillow (All Home Types)                             4845\n",
       "Inventory (All Home Types)                                  4896\n",
       "Median Listing Price / Sq. Ft. - 1 Bedroom                  3586\n",
       "Median Listing Price / Sq. Ft. - 2 Bedrooms                 4534\n",
       "Median Listing Price / Sq. Ft. - 3 Bedrooms                 4607\n",
       "Median Listing Price / Sq. Ft. - 4 Bedrooms                 4677\n",
       "Median Listing Price / Sq. Ft. - 5 Bedrooms or More         4569\n",
       "Median Listing Price / Sq. Ft. (All Home Types)             4674\n",
       "Median Listing Price / Sq. Ft. - Condo/Cooperative Home     4149\n",
       "Median Listing Price / Sq. Ft. - Duplex/Triplex             3964\n",
       "Median Listing Price / Sq. Ft. - Single Family Residence    4639\n",
       "Zillow Home Value Index / Sq. Ft. (All Home Types)          4800\n",
       "Zillow Home Value Index - 1 Bedroom                         4091\n",
       "Zillow Home Value Index - 2 Bedrooms                        4493\n",
       "Zillow Home Value Index - 3 Bedrooms                        4870\n",
       "Zillow Home Value Index - 4 Bedrooms                        4704\n",
       "Zillow Home Value Index - 5 Bedrooms or More                4593\n",
       "Zillow Home Value Index (All Home Types)                    4800\n",
       "Zillow Home Value Index - Condo/Cooperative Home            4416\n",
       "Zillow Home Value Index - Single Family Residency           4800\n",
       "dtype: int64"
      ]
     },
     "execution_count": 15,
     "metadata": {},
     "output_type": "execute_result"
    }
   ],
   "source": [
    "# getting the value counts for each column (to check for missing values)\n",
    "df.count()"
   ]
  },
  {
   "cell_type": "code",
   "execution_count": 16,
   "metadata": {},
   "outputs": [
    {
     "data": {
      "text/html": [
       "<div>\n",
       "<style scoped>\n",
       "    .dataframe tbody tr th:only-of-type {\n",
       "        vertical-align: middle;\n",
       "    }\n",
       "\n",
       "    .dataframe tbody tr th {\n",
       "        vertical-align: top;\n",
       "    }\n",
       "\n",
       "    .dataframe thead th {\n",
       "        text-align: right;\n",
       "    }\n",
       "</style>\n",
       "<table border=\"1\" class=\"dataframe\">\n",
       "  <thead>\n",
       "    <tr style=\"text-align: right;\">\n",
       "      <th></th>\n",
       "      <th>Year</th>\n",
       "      <th>Number of Sales</th>\n",
       "      <th>Sale Price</th>\n",
       "      <th>Days on Zillow (All Home Types)</th>\n",
       "      <th>Inventory (All Home Types)</th>\n",
       "      <th>Median Listing Price / Sq. Ft. - 1 Bedroom</th>\n",
       "      <th>Median Listing Price / Sq. Ft. - 2 Bedrooms</th>\n",
       "      <th>Median Listing Price / Sq. Ft. - 3 Bedrooms</th>\n",
       "      <th>Median Listing Price / Sq. Ft. - 4 Bedrooms</th>\n",
       "      <th>Median Listing Price / Sq. Ft. - 5 Bedrooms or More</th>\n",
       "      <th>...</th>\n",
       "      <th>Median Listing Price / Sq. Ft. - Single Family Residence</th>\n",
       "      <th>Zillow Home Value Index / Sq. Ft. (All Home Types)</th>\n",
       "      <th>Zillow Home Value Index - 1 Bedroom</th>\n",
       "      <th>Zillow Home Value Index - 2 Bedrooms</th>\n",
       "      <th>Zillow Home Value Index - 3 Bedrooms</th>\n",
       "      <th>Zillow Home Value Index - 4 Bedrooms</th>\n",
       "      <th>Zillow Home Value Index - 5 Bedrooms or More</th>\n",
       "      <th>Zillow Home Value Index (All Home Types)</th>\n",
       "      <th>Zillow Home Value Index - Condo/Cooperative Home</th>\n",
       "      <th>Zillow Home Value Index - Single Family Residency</th>\n",
       "    </tr>\n",
       "  </thead>\n",
       "  <tbody>\n",
       "    <tr>\n",
       "      <td>count</td>\n",
       "      <td>4991.000000</td>\n",
       "      <td>4385.000000</td>\n",
       "      <td>3378.000000</td>\n",
       "      <td>4845.000000</td>\n",
       "      <td>4896.000000</td>\n",
       "      <td>3586.000000</td>\n",
       "      <td>4534.000000</td>\n",
       "      <td>4607.000000</td>\n",
       "      <td>4677.000000</td>\n",
       "      <td>4569.000000</td>\n",
       "      <td>...</td>\n",
       "      <td>4639.000000</td>\n",
       "      <td>4800.000000</td>\n",
       "      <td>4091.000000</td>\n",
       "      <td>4493.000000</td>\n",
       "      <td>4870.000000</td>\n",
       "      <td>4704.000000</td>\n",
       "      <td>4.593000e+03</td>\n",
       "      <td>4800.000000</td>\n",
       "      <td>4416.000000</td>\n",
       "      <td>4800.000000</td>\n",
       "    </tr>\n",
       "    <tr>\n",
       "      <td>mean</td>\n",
       "      <td>2013.499299</td>\n",
       "      <td>7305.294413</td>\n",
       "      <td>196560.153937</td>\n",
       "      <td>110.117363</td>\n",
       "      <td>33299.013685</td>\n",
       "      <td>182.470536</td>\n",
       "      <td>135.490657</td>\n",
       "      <td>129.448515</td>\n",
       "      <td>133.458743</td>\n",
       "      <td>135.668871</td>\n",
       "      <td>...</td>\n",
       "      <td>133.365928</td>\n",
       "      <td>129.951042</td>\n",
       "      <td>127825.788316</td>\n",
       "      <td>148431.916314</td>\n",
       "      <td>186384.209446</td>\n",
       "      <td>273719.791667</td>\n",
       "      <td>3.633687e+05</td>\n",
       "      <td>189077.520833</td>\n",
       "      <td>175222.509058</td>\n",
       "      <td>194192.791667</td>\n",
       "    </tr>\n",
       "    <tr>\n",
       "      <td>std</td>\n",
       "      <td>2.291211</td>\n",
       "      <td>8222.160011</td>\n",
       "      <td>76514.298487</td>\n",
       "      <td>27.474195</td>\n",
       "      <td>35014.163714</td>\n",
       "      <td>99.809488</td>\n",
       "      <td>74.250919</td>\n",
       "      <td>58.837700</td>\n",
       "      <td>58.339837</td>\n",
       "      <td>64.920918</td>\n",
       "      <td>...</td>\n",
       "      <td>60.791034</td>\n",
       "      <td>69.877849</td>\n",
       "      <td>66362.877635</td>\n",
       "      <td>79475.620269</td>\n",
       "      <td>85503.921637</td>\n",
       "      <td>112471.622945</td>\n",
       "      <td>1.834682e+05</td>\n",
       "      <td>87430.644540</td>\n",
       "      <td>92614.380450</td>\n",
       "      <td>98409.053353</td>\n",
       "    </tr>\n",
       "    <tr>\n",
       "      <td>min</td>\n",
       "      <td>2010.000000</td>\n",
       "      <td>181.000000</td>\n",
       "      <td>83800.000000</td>\n",
       "      <td>49.250000</td>\n",
       "      <td>911.000000</td>\n",
       "      <td>57.142857</td>\n",
       "      <td>60.000000</td>\n",
       "      <td>56.476684</td>\n",
       "      <td>61.804124</td>\n",
       "      <td>63.775510</td>\n",
       "      <td>...</td>\n",
       "      <td>63.270925</td>\n",
       "      <td>63.000000</td>\n",
       "      <td>44400.000000</td>\n",
       "      <td>49900.000000</td>\n",
       "      <td>97100.000000</td>\n",
       "      <td>135200.000000</td>\n",
       "      <td>1.599000e+05</td>\n",
       "      <td>87700.000000</td>\n",
       "      <td>64000.000000</td>\n",
       "      <td>86100.000000</td>\n",
       "    </tr>\n",
       "    <tr>\n",
       "      <td>25%</td>\n",
       "      <td>2011.500000</td>\n",
       "      <td>1727.000000</td>\n",
       "      <td>137900.000000</td>\n",
       "      <td>90.250000</td>\n",
       "      <td>9756.250000</td>\n",
       "      <td>125.688504</td>\n",
       "      <td>92.158518</td>\n",
       "      <td>93.282743</td>\n",
       "      <td>99.601594</td>\n",
       "      <td>99.082187</td>\n",
       "      <td>...</td>\n",
       "      <td>95.553676</td>\n",
       "      <td>85.000000</td>\n",
       "      <td>83200.000000</td>\n",
       "      <td>92600.000000</td>\n",
       "      <td>128700.000000</td>\n",
       "      <td>207100.000000</td>\n",
       "      <td>2.582000e+05</td>\n",
       "      <td>124400.000000</td>\n",
       "      <td>121375.000000</td>\n",
       "      <td>124675.000000</td>\n",
       "    </tr>\n",
       "    <tr>\n",
       "      <td>50%</td>\n",
       "      <td>2013.000000</td>\n",
       "      <td>4692.000000</td>\n",
       "      <td>181600.000000</td>\n",
       "      <td>108.500000</td>\n",
       "      <td>21289.000000</td>\n",
       "      <td>162.754210</td>\n",
       "      <td>121.300723</td>\n",
       "      <td>116.626794</td>\n",
       "      <td>119.816221</td>\n",
       "      <td>119.751076</td>\n",
       "      <td>...</td>\n",
       "      <td>120.093458</td>\n",
       "      <td>117.000000</td>\n",
       "      <td>111500.000000</td>\n",
       "      <td>131400.000000</td>\n",
       "      <td>154900.000000</td>\n",
       "      <td>239300.000000</td>\n",
       "      <td>3.218000e+05</td>\n",
       "      <td>165500.000000</td>\n",
       "      <td>151100.000000</td>\n",
       "      <td>167550.000000</td>\n",
       "    </tr>\n",
       "    <tr>\n",
       "      <td>75%</td>\n",
       "      <td>2015.000000</td>\n",
       "      <td>9648.000000</td>\n",
       "      <td>236575.000000</td>\n",
       "      <td>126.750000</td>\n",
       "      <td>46891.000000</td>\n",
       "      <td>202.629803</td>\n",
       "      <td>152.242031</td>\n",
       "      <td>143.188721</td>\n",
       "      <td>144.752714</td>\n",
       "      <td>149.352921</td>\n",
       "      <td>...</td>\n",
       "      <td>149.841529</td>\n",
       "      <td>148.000000</td>\n",
       "      <td>151700.000000</td>\n",
       "      <td>173400.000000</td>\n",
       "      <td>217800.000000</td>\n",
       "      <td>310300.000000</td>\n",
       "      <td>3.988000e+05</td>\n",
       "      <td>223850.000000</td>\n",
       "      <td>184500.000000</td>\n",
       "      <td>226725.000000</td>\n",
       "    </tr>\n",
       "    <tr>\n",
       "      <td>max</td>\n",
       "      <td>2017.000000</td>\n",
       "      <td>50275.000000</td>\n",
       "      <td>543100.000000</td>\n",
       "      <td>251.625000</td>\n",
       "      <td>268055.000000</td>\n",
       "      <td>627.551020</td>\n",
       "      <td>550.639135</td>\n",
       "      <td>460.465116</td>\n",
       "      <td>480.769231</td>\n",
       "      <td>617.955266</td>\n",
       "      <td>...</td>\n",
       "      <td>475.356577</td>\n",
       "      <td>499.000000</td>\n",
       "      <td>390200.000000</td>\n",
       "      <td>542400.000000</td>\n",
       "      <td>639700.000000</td>\n",
       "      <td>850400.000000</td>\n",
       "      <td>1.497000e+06</td>\n",
       "      <td>620400.000000</td>\n",
       "      <td>782900.000000</td>\n",
       "      <td>737500.000000</td>\n",
       "    </tr>\n",
       "  </tbody>\n",
       "</table>\n",
       "<p>8 rows × 23 columns</p>\n",
       "</div>"
      ],
      "text/plain": [
       "              Year  Number of Sales     Sale Price  \\\n",
       "count  4991.000000      4385.000000    3378.000000   \n",
       "mean   2013.499299      7305.294413  196560.153937   \n",
       "std       2.291211      8222.160011   76514.298487   \n",
       "min    2010.000000       181.000000   83800.000000   \n",
       "25%    2011.500000      1727.000000  137900.000000   \n",
       "50%    2013.000000      4692.000000  181600.000000   \n",
       "75%    2015.000000      9648.000000  236575.000000   \n",
       "max    2017.000000     50275.000000  543100.000000   \n",
       "\n",
       "       Days on Zillow (All Home Types)  Inventory (All Home Types)  \\\n",
       "count                      4845.000000                 4896.000000   \n",
       "mean                        110.117363                33299.013685   \n",
       "std                          27.474195                35014.163714   \n",
       "min                          49.250000                  911.000000   \n",
       "25%                          90.250000                 9756.250000   \n",
       "50%                         108.500000                21289.000000   \n",
       "75%                         126.750000                46891.000000   \n",
       "max                         251.625000               268055.000000   \n",
       "\n",
       "       Median Listing Price / Sq. Ft. - 1 Bedroom  \\\n",
       "count                                 3586.000000   \n",
       "mean                                   182.470536   \n",
       "std                                     99.809488   \n",
       "min                                     57.142857   \n",
       "25%                                    125.688504   \n",
       "50%                                    162.754210   \n",
       "75%                                    202.629803   \n",
       "max                                    627.551020   \n",
       "\n",
       "       Median Listing Price / Sq. Ft. - 2 Bedrooms  \\\n",
       "count                                  4534.000000   \n",
       "mean                                    135.490657   \n",
       "std                                      74.250919   \n",
       "min                                      60.000000   \n",
       "25%                                      92.158518   \n",
       "50%                                     121.300723   \n",
       "75%                                     152.242031   \n",
       "max                                     550.639135   \n",
       "\n",
       "       Median Listing Price / Sq. Ft. - 3 Bedrooms  \\\n",
       "count                                  4607.000000   \n",
       "mean                                    129.448515   \n",
       "std                                      58.837700   \n",
       "min                                      56.476684   \n",
       "25%                                      93.282743   \n",
       "50%                                     116.626794   \n",
       "75%                                     143.188721   \n",
       "max                                     460.465116   \n",
       "\n",
       "       Median Listing Price / Sq. Ft. - 4 Bedrooms  \\\n",
       "count                                  4677.000000   \n",
       "mean                                    133.458743   \n",
       "std                                      58.339837   \n",
       "min                                      61.804124   \n",
       "25%                                      99.601594   \n",
       "50%                                     119.816221   \n",
       "75%                                     144.752714   \n",
       "max                                     480.769231   \n",
       "\n",
       "       Median Listing Price / Sq. Ft. - 5 Bedrooms or More  ...  \\\n",
       "count                                        4569.000000    ...   \n",
       "mean                                          135.668871    ...   \n",
       "std                                            64.920918    ...   \n",
       "min                                            63.775510    ...   \n",
       "25%                                            99.082187    ...   \n",
       "50%                                           119.751076    ...   \n",
       "75%                                           149.352921    ...   \n",
       "max                                           617.955266    ...   \n",
       "\n",
       "       Median Listing Price / Sq. Ft. - Single Family Residence  \\\n",
       "count                                        4639.000000          \n",
       "mean                                          133.365928          \n",
       "std                                            60.791034          \n",
       "min                                            63.270925          \n",
       "25%                                            95.553676          \n",
       "50%                                           120.093458          \n",
       "75%                                           149.841529          \n",
       "max                                           475.356577          \n",
       "\n",
       "       Zillow Home Value Index / Sq. Ft. (All Home Types)  \\\n",
       "count                                        4800.000000    \n",
       "mean                                          129.951042    \n",
       "std                                            69.877849    \n",
       "min                                            63.000000    \n",
       "25%                                            85.000000    \n",
       "50%                                           117.000000    \n",
       "75%                                           148.000000    \n",
       "max                                           499.000000    \n",
       "\n",
       "       Zillow Home Value Index - 1 Bedroom  \\\n",
       "count                          4091.000000   \n",
       "mean                         127825.788316   \n",
       "std                           66362.877635   \n",
       "min                           44400.000000   \n",
       "25%                           83200.000000   \n",
       "50%                          111500.000000   \n",
       "75%                          151700.000000   \n",
       "max                          390200.000000   \n",
       "\n",
       "       Zillow Home Value Index - 2 Bedrooms  \\\n",
       "count                           4493.000000   \n",
       "mean                          148431.916314   \n",
       "std                            79475.620269   \n",
       "min                            49900.000000   \n",
       "25%                            92600.000000   \n",
       "50%                           131400.000000   \n",
       "75%                           173400.000000   \n",
       "max                           542400.000000   \n",
       "\n",
       "       Zillow Home Value Index - 3 Bedrooms  \\\n",
       "count                           4870.000000   \n",
       "mean                          186384.209446   \n",
       "std                            85503.921637   \n",
       "min                            97100.000000   \n",
       "25%                           128700.000000   \n",
       "50%                           154900.000000   \n",
       "75%                           217800.000000   \n",
       "max                           639700.000000   \n",
       "\n",
       "       Zillow Home Value Index - 4 Bedrooms  \\\n",
       "count                           4704.000000   \n",
       "mean                          273719.791667   \n",
       "std                           112471.622945   \n",
       "min                           135200.000000   \n",
       "25%                           207100.000000   \n",
       "50%                           239300.000000   \n",
       "75%                           310300.000000   \n",
       "max                           850400.000000   \n",
       "\n",
       "       Zillow Home Value Index - 5 Bedrooms or More  \\\n",
       "count                                  4.593000e+03   \n",
       "mean                                   3.633687e+05   \n",
       "std                                    1.834682e+05   \n",
       "min                                    1.599000e+05   \n",
       "25%                                    2.582000e+05   \n",
       "50%                                    3.218000e+05   \n",
       "75%                                    3.988000e+05   \n",
       "max                                    1.497000e+06   \n",
       "\n",
       "       Zillow Home Value Index (All Home Types)  \\\n",
       "count                               4800.000000   \n",
       "mean                              189077.520833   \n",
       "std                                87430.644540   \n",
       "min                                87700.000000   \n",
       "25%                               124400.000000   \n",
       "50%                               165500.000000   \n",
       "75%                               223850.000000   \n",
       "max                               620400.000000   \n",
       "\n",
       "       Zillow Home Value Index - Condo/Cooperative Home  \\\n",
       "count                                       4416.000000   \n",
       "mean                                      175222.509058   \n",
       "std                                        92614.380450   \n",
       "min                                        64000.000000   \n",
       "25%                                       121375.000000   \n",
       "50%                                       151100.000000   \n",
       "75%                                       184500.000000   \n",
       "max                                       782900.000000   \n",
       "\n",
       "       Zillow Home Value Index - Single Family Residency  \n",
       "count                                        4800.000000  \n",
       "mean                                       194192.791667  \n",
       "std                                         98409.053353  \n",
       "min                                         86100.000000  \n",
       "25%                                        124675.000000  \n",
       "50%                                        167550.000000  \n",
       "75%                                        226725.000000  \n",
       "max                                        737500.000000  \n",
       "\n",
       "[8 rows x 23 columns]"
      ]
     },
     "execution_count": 16,
     "metadata": {},
     "output_type": "execute_result"
    }
   ],
   "source": [
    "df_des01 = df.describe()\n",
    "df_des01"
   ]
  },
  {
   "cell_type": "code",
   "execution_count": 17,
   "metadata": {},
   "outputs": [
    {
     "data": {
      "text/plain": [
       "Year                                                          int64\n",
       "State                                                        object\n",
       "Number of Sales                                             float64\n",
       "Sale Price                                                  float64\n",
       "Days on Zillow (All Home Types)                             float64\n",
       "Inventory (All Home Types)                                  float64\n",
       "Median Listing Price / Sq. Ft. - 1 Bedroom                  float64\n",
       "Median Listing Price / Sq. Ft. - 2 Bedrooms                 float64\n",
       "Median Listing Price / Sq. Ft. - 3 Bedrooms                 float64\n",
       "Median Listing Price / Sq. Ft. - 4 Bedrooms                 float64\n",
       "Median Listing Price / Sq. Ft. - 5 Bedrooms or More         float64\n",
       "Median Listing Price / Sq. Ft. (All Home Types)             float64\n",
       "Median Listing Price / Sq. Ft. - Condo/Cooperative Home     float64\n",
       "Median Listing Price / Sq. Ft. - Duplex/Triplex             float64\n",
       "Median Listing Price / Sq. Ft. - Single Family Residence    float64\n",
       "Zillow Home Value Index / Sq. Ft. (All Home Types)          float64\n",
       "Zillow Home Value Index - 1 Bedroom                         float64\n",
       "Zillow Home Value Index - 2 Bedrooms                        float64\n",
       "Zillow Home Value Index - 3 Bedrooms                        float64\n",
       "Zillow Home Value Index - 4 Bedrooms                        float64\n",
       "Zillow Home Value Index - 5 Bedrooms or More                float64\n",
       "Zillow Home Value Index (All Home Types)                    float64\n",
       "Zillow Home Value Index - Condo/Cooperative Home            float64\n",
       "Zillow Home Value Index - Single Family Residency           float64\n",
       "dtype: object"
      ]
     },
     "execution_count": 17,
     "metadata": {},
     "output_type": "execute_result"
    }
   ],
   "source": [
    "df.dtypes"
   ]
  },
  {
   "cell_type": "code",
   "execution_count": 18,
   "metadata": {},
   "outputs": [
    {
     "name": "stderr",
     "output_type": "stream",
     "text": [
      "/Applications/anaconda3/lib/python3.7/site-packages/ipykernel_launcher.py:2: SettingWithCopyWarning: \n",
      "A value is trying to be set on a copy of a slice from a DataFrame.\n",
      "Try using .loc[row_indexer,col_indexer] = value instead\n",
      "\n",
      "See the caveats in the documentation: http://pandas.pydata.org/pandas-docs/stable/user_guide/indexing.html#returning-a-view-versus-a-copy\n",
      "  \n"
     ]
    }
   ],
   "source": [
    "# converting the dtat-type for 'Year' to string to use it for replacing missing values\n",
    "df['Year'] = df['Year'].astype(str)"
   ]
  },
  {
   "cell_type": "code",
   "execution_count": 19,
   "metadata": {},
   "outputs": [
    {
     "data": {
      "text/plain": [
       "Year                                                         object\n",
       "State                                                        object\n",
       "Number of Sales                                             float64\n",
       "Sale Price                                                  float64\n",
       "Days on Zillow (All Home Types)                             float64\n",
       "Inventory (All Home Types)                                  float64\n",
       "Median Listing Price / Sq. Ft. - 1 Bedroom                  float64\n",
       "Median Listing Price / Sq. Ft. - 2 Bedrooms                 float64\n",
       "Median Listing Price / Sq. Ft. - 3 Bedrooms                 float64\n",
       "Median Listing Price / Sq. Ft. - 4 Bedrooms                 float64\n",
       "Median Listing Price / Sq. Ft. - 5 Bedrooms or More         float64\n",
       "Median Listing Price / Sq. Ft. (All Home Types)             float64\n",
       "Median Listing Price / Sq. Ft. - Condo/Cooperative Home     float64\n",
       "Median Listing Price / Sq. Ft. - Duplex/Triplex             float64\n",
       "Median Listing Price / Sq. Ft. - Single Family Residence    float64\n",
       "Zillow Home Value Index / Sq. Ft. (All Home Types)          float64\n",
       "Zillow Home Value Index - 1 Bedroom                         float64\n",
       "Zillow Home Value Index - 2 Bedrooms                        float64\n",
       "Zillow Home Value Index - 3 Bedrooms                        float64\n",
       "Zillow Home Value Index - 4 Bedrooms                        float64\n",
       "Zillow Home Value Index - 5 Bedrooms or More                float64\n",
       "Zillow Home Value Index (All Home Types)                    float64\n",
       "Zillow Home Value Index - Condo/Cooperative Home            float64\n",
       "Zillow Home Value Index - Single Family Residency           float64\n",
       "dtype: object"
      ]
     },
     "execution_count": 19,
     "metadata": {},
     "output_type": "execute_result"
    }
   ],
   "source": [
    "df.dtypes"
   ]
  },
  {
   "cell_type": "markdown",
   "metadata": {},
   "source": [
    "### Replacing missing values for columns by median or mean values grouped by: 'Year' and 'State', then, 'State only', and finally, 'Year only' (to get as close value as possible)"
   ]
  },
  {
   "cell_type": "markdown",
   "metadata": {},
   "source": [
    "#### Number of Sales"
   ]
  },
  {
   "cell_type": "code",
   "execution_count": 20,
   "metadata": {},
   "outputs": [
    {
     "data": {
      "text/plain": [
       "606"
      ]
     },
     "execution_count": 20,
     "metadata": {},
     "output_type": "execute_result"
    }
   ],
   "source": [
    "# getting the missing value counts for 'Number of Sales'\n",
    "df['Number of Sales'].isnull().sum()"
   ]
  },
  {
   "cell_type": "code",
   "execution_count": 21,
   "metadata": {},
   "outputs": [
    {
     "data": {
      "text/plain": [
       "Year  State        \n",
       "2010  Alabama           3078.0\n",
       "      Alaska               NaN\n",
       "      Arizona          10210.0\n",
       "      Arkansas          2233.5\n",
       "      California       33052.0\n",
       "                        ...   \n",
       "2017  Virginia         10667.0\n",
       "      Washington       11760.0\n",
       "      West Virginia      668.0\n",
       "      Wisconsin         7883.0\n",
       "      Wyoming            520.0\n",
       "Name: Number of Sales, Length: 416, dtype: float64"
      ]
     },
     "execution_count": 21,
     "metadata": {},
     "output_type": "execute_result"
    }
   ],
   "source": [
    "# getting the median 'Number of Sales' by 'Year' and 'State'\n",
    "df.groupby(['Year', 'State',])['Number of Sales'].median()"
   ]
  },
  {
   "cell_type": "code",
   "execution_count": 22,
   "metadata": {},
   "outputs": [
    {
     "name": "stderr",
     "output_type": "stream",
     "text": [
      "/Applications/anaconda3/lib/python3.7/site-packages/pandas/core/generic.py:6287: SettingWithCopyWarning: \n",
      "A value is trying to be set on a copy of a slice from a DataFrame\n",
      "\n",
      "See the caveats in the documentation: http://pandas.pydata.org/pandas-docs/stable/user_guide/indexing.html#returning-a-view-versus-a-copy\n",
      "  self._update_inplace(new_data)\n"
     ]
    }
   ],
   "source": [
    "# fill the missing values for 'Number of Sales' by 'median value' based on 'Year' and 'State'\n",
    "df['Number of Sales'].fillna(df.groupby(['Year', 'State'])['Number of Sales'].transform('median'), inplace=True)"
   ]
  },
  {
   "cell_type": "code",
   "execution_count": 23,
   "metadata": {},
   "outputs": [
    {
     "data": {
      "text/plain": [
       "539"
      ]
     },
     "execution_count": 23,
     "metadata": {},
     "output_type": "execute_result"
    }
   ],
   "source": [
    "# getting the missing value counts for 'Number of Sales' after replacement\n",
    "df['Number of Sales'].isnull().sum()"
   ]
  },
  {
   "cell_type": "code",
   "execution_count": 24,
   "metadata": {},
   "outputs": [],
   "source": [
    "# fill the missing values for 'Number of Sales' by 'median value' based on 'State'\n",
    "df['Number of Sales'].fillna(df.groupby(['State'])['Number of Sales'].transform('median'), inplace=True)"
   ]
  },
  {
   "cell_type": "code",
   "execution_count": 25,
   "metadata": {},
   "outputs": [
    {
     "data": {
      "text/plain": [
       "479"
      ]
     },
     "execution_count": 25,
     "metadata": {},
     "output_type": "execute_result"
    }
   ],
   "source": [
    "# getting the missing value counts for 'Number of Sales' after replacement\n",
    "df['Number of Sales'].isnull().sum()"
   ]
  },
  {
   "cell_type": "code",
   "execution_count": 26,
   "metadata": {},
   "outputs": [],
   "source": [
    "# fill the missing values for 'Number of Sales' by 'median value' based on 'Year'\n",
    "df['Number of Sales'].fillna(df.groupby(['Year'])['Number of Sales'].transform('median'), inplace=True)"
   ]
  },
  {
   "cell_type": "code",
   "execution_count": 27,
   "metadata": {},
   "outputs": [
    {
     "data": {
      "text/plain": [
       "0"
      ]
     },
     "execution_count": 27,
     "metadata": {},
     "output_type": "execute_result"
    }
   ],
   "source": [
    "# getting the missing value counts for 'Number of Sales' after replacement\n",
    "df['Number of Sales'].isnull().sum()"
   ]
  },
  {
   "cell_type": "markdown",
   "metadata": {},
   "source": [
    "### Following the same process for all remaining columns"
   ]
  },
  {
   "cell_type": "markdown",
   "metadata": {},
   "source": [
    "#### Sale Price"
   ]
  },
  {
   "cell_type": "code",
   "execution_count": 28,
   "metadata": {},
   "outputs": [
    {
     "data": {
      "text/plain": [
       "1613"
      ]
     },
     "execution_count": 28,
     "metadata": {},
     "output_type": "execute_result"
    }
   ],
   "source": [
    "# getting the missing value counts\n",
    "df['Sale Price'].isnull().sum()"
   ]
  },
  {
   "cell_type": "code",
   "execution_count": 29,
   "metadata": {},
   "outputs": [],
   "source": [
    "# fill the missing values by 'median value' based on 'Year' and 'State'\n",
    "df['Sale Price'].fillna(df.groupby(['Year', 'State'])['Sale Price'].transform('median'), inplace=True)"
   ]
  },
  {
   "cell_type": "code",
   "execution_count": 30,
   "metadata": {},
   "outputs": [
    {
     "data": {
      "text/plain": [
       "1511"
      ]
     },
     "execution_count": 30,
     "metadata": {},
     "output_type": "execute_result"
    }
   ],
   "source": [
    "# getting the missing value counts after replacement\n",
    "df['Sale Price'].isnull().sum()"
   ]
  },
  {
   "cell_type": "code",
   "execution_count": 31,
   "metadata": {},
   "outputs": [],
   "source": [
    "# fill the missing values by 'median value' based on 'State'\n",
    "df['Sale Price'].fillna(df.groupby(['State'])['Sale Price'].transform('median'), inplace=True)"
   ]
  },
  {
   "cell_type": "code",
   "execution_count": 32,
   "metadata": {},
   "outputs": [
    {
     "data": {
      "text/plain": [
       "1151"
      ]
     },
     "execution_count": 32,
     "metadata": {},
     "output_type": "execute_result"
    }
   ],
   "source": [
    "# getting the missing value counts after replacement\n",
    "df['Sale Price'].isnull().sum()"
   ]
  },
  {
   "cell_type": "code",
   "execution_count": 33,
   "metadata": {},
   "outputs": [],
   "source": [
    "# fill the missing values by 'median value' based on 'Year'\n",
    "df['Sale Price'].fillna(df.groupby(['Year'])['Sale Price'].transform('median'), inplace=True)"
   ]
  },
  {
   "cell_type": "code",
   "execution_count": 34,
   "metadata": {},
   "outputs": [
    {
     "data": {
      "text/plain": [
       "0"
      ]
     },
     "execution_count": 34,
     "metadata": {},
     "output_type": "execute_result"
    }
   ],
   "source": [
    "# getting the missing value counts after replacement\n",
    "df['Sale Price'].isnull().sum()"
   ]
  },
  {
   "cell_type": "code",
   "execution_count": null,
   "metadata": {},
   "outputs": [],
   "source": []
  },
  {
   "cell_type": "code",
   "execution_count": null,
   "metadata": {},
   "outputs": [],
   "source": []
  },
  {
   "cell_type": "markdown",
   "metadata": {},
   "source": [
    "#### Days on Zillow (All Home Types)"
   ]
  },
  {
   "cell_type": "code",
   "execution_count": 35,
   "metadata": {},
   "outputs": [
    {
     "data": {
      "text/plain": [
       "146"
      ]
     },
     "execution_count": 35,
     "metadata": {},
     "output_type": "execute_result"
    }
   ],
   "source": [
    "# getting the missing value counts\n",
    "df['Days on Zillow (All Home Types)'].isnull().sum()"
   ]
  },
  {
   "cell_type": "code",
   "execution_count": 36,
   "metadata": {},
   "outputs": [],
   "source": [
    "# fill the missing values by 'median value' based on 'Year' and 'State'\n",
    "df['Days on Zillow (All Home Types)'].fillna(df.groupby(['Year', 'State'])['Days on Zillow (All Home Types)'].transform('median'), inplace=True)"
   ]
  },
  {
   "cell_type": "code",
   "execution_count": 37,
   "metadata": {},
   "outputs": [
    {
     "data": {
      "text/plain": [
       "96"
      ]
     },
     "execution_count": 37,
     "metadata": {},
     "output_type": "execute_result"
    }
   ],
   "source": [
    "# getting the missing value counts after replacement\n",
    "df['Days on Zillow (All Home Types)'].isnull().sum()"
   ]
  },
  {
   "cell_type": "code",
   "execution_count": 38,
   "metadata": {},
   "outputs": [],
   "source": [
    "# fill the missing values by 'median value' based on 'State'\n",
    "df['Days on Zillow (All Home Types)'].fillna(df.groupby(['State'])['Days on Zillow (All Home Types)'].transform('median'), inplace=True)"
   ]
  },
  {
   "cell_type": "code",
   "execution_count": 39,
   "metadata": {},
   "outputs": [
    {
     "data": {
      "text/plain": [
       "96"
      ]
     },
     "execution_count": 39,
     "metadata": {},
     "output_type": "execute_result"
    }
   ],
   "source": [
    "# getting the missing value counts after replacement\n",
    "df['Days on Zillow (All Home Types)'].isnull().sum()"
   ]
  },
  {
   "cell_type": "code",
   "execution_count": 40,
   "metadata": {},
   "outputs": [],
   "source": [
    "# fill the missing values by 'median value' based on 'Year'\n",
    "df['Days on Zillow (All Home Types)'].fillna(df.groupby(['Year'])['Days on Zillow (All Home Types)'].transform('median'), inplace=True)"
   ]
  },
  {
   "cell_type": "code",
   "execution_count": 41,
   "metadata": {},
   "outputs": [
    {
     "data": {
      "text/plain": [
       "0"
      ]
     },
     "execution_count": 41,
     "metadata": {},
     "output_type": "execute_result"
    }
   ],
   "source": [
    "# getting the missing value counts after replacement\n",
    "df['Days on Zillow (All Home Types)'].isnull().sum()"
   ]
  },
  {
   "cell_type": "code",
   "execution_count": null,
   "metadata": {},
   "outputs": [],
   "source": []
  },
  {
   "cell_type": "markdown",
   "metadata": {},
   "source": [
    "#### Inventory (All Home Types)"
   ]
  },
  {
   "cell_type": "code",
   "execution_count": 42,
   "metadata": {},
   "outputs": [
    {
     "data": {
      "text/plain": [
       "95"
      ]
     },
     "execution_count": 42,
     "metadata": {},
     "output_type": "execute_result"
    }
   ],
   "source": [
    "# getting the missing value counts\n",
    "df['Inventory (All Home Types)'].isnull().sum()"
   ]
  },
  {
   "cell_type": "code",
   "execution_count": 43,
   "metadata": {},
   "outputs": [],
   "source": [
    "# fill the missing values by 'median value' based on 'Year' and 'State'\n",
    "df['Inventory (All Home Types)'].fillna(df.groupby(['Year', 'State'])['Inventory (All Home Types)'].transform('median'), inplace=True)"
   ]
  },
  {
   "cell_type": "code",
   "execution_count": 44,
   "metadata": {},
   "outputs": [
    {
     "data": {
      "text/plain": [
       "95"
      ]
     },
     "execution_count": 44,
     "metadata": {},
     "output_type": "execute_result"
    }
   ],
   "source": [
    "# getting the missing value counts after replacement\n",
    "df['Inventory (All Home Types)'].isnull().sum()"
   ]
  },
  {
   "cell_type": "code",
   "execution_count": 45,
   "metadata": {},
   "outputs": [],
   "source": [
    "# fill the missing values by 'median value' based on 'State'\n",
    "df['Inventory (All Home Types)'].fillna(df.groupby(['State'])['Inventory (All Home Types)'].transform('median'), inplace=True)"
   ]
  },
  {
   "cell_type": "code",
   "execution_count": 46,
   "metadata": {},
   "outputs": [
    {
     "data": {
      "text/plain": [
       "95"
      ]
     },
     "execution_count": 46,
     "metadata": {},
     "output_type": "execute_result"
    }
   ],
   "source": [
    "# getting the missing value counts after replacement\n",
    "df['Inventory (All Home Types)'].isnull().sum()"
   ]
  },
  {
   "cell_type": "code",
   "execution_count": 47,
   "metadata": {},
   "outputs": [],
   "source": [
    "# fill the missing values by 'median value' based on 'Year' \n",
    "df['Inventory (All Home Types)'].fillna(df.groupby(['Year'])['Inventory (All Home Types)'].transform('median'), inplace=True)"
   ]
  },
  {
   "cell_type": "code",
   "execution_count": 48,
   "metadata": {},
   "outputs": [
    {
     "data": {
      "text/plain": [
       "0"
      ]
     },
     "execution_count": 48,
     "metadata": {},
     "output_type": "execute_result"
    }
   ],
   "source": [
    "# getting the missing value counts after replacement\n",
    "df['Inventory (All Home Types)'].isnull().sum()"
   ]
  },
  {
   "cell_type": "code",
   "execution_count": null,
   "metadata": {},
   "outputs": [],
   "source": []
  },
  {
   "cell_type": "markdown",
   "metadata": {},
   "source": [
    "#### Median Listing Price / Sq. Ft. - 1 Bedroom"
   ]
  },
  {
   "cell_type": "code",
   "execution_count": 49,
   "metadata": {},
   "outputs": [
    {
     "data": {
      "text/plain": [
       "1405"
      ]
     },
     "execution_count": 49,
     "metadata": {},
     "output_type": "execute_result"
    }
   ],
   "source": [
    "# getting the missing value counts\n",
    "df['Median Listing Price / Sq. Ft. - 1 Bedroom'].isnull().sum()"
   ]
  },
  {
   "cell_type": "code",
   "execution_count": 50,
   "metadata": {},
   "outputs": [],
   "source": [
    "# fill the missing values by 'mean value' based on 'Year' and 'State'\n",
    "df['Median Listing Price / Sq. Ft. - 1 Bedroom'].fillna(df.groupby(['Year', 'State'])['Median Listing Price / Sq. Ft. - 1 Bedroom'].transform('mean'), inplace=True)"
   ]
  },
  {
   "cell_type": "code",
   "execution_count": 51,
   "metadata": {},
   "outputs": [
    {
     "data": {
      "text/plain": [
       "1343"
      ]
     },
     "execution_count": 51,
     "metadata": {},
     "output_type": "execute_result"
    }
   ],
   "source": [
    "# getting the missing value counts after replacement\n",
    "df['Median Listing Price / Sq. Ft. - 1 Bedroom'].isnull().sum()"
   ]
  },
  {
   "cell_type": "code",
   "execution_count": 52,
   "metadata": {},
   "outputs": [],
   "source": [
    "# fill the missing values by 'mean value' based on 'State'\n",
    "df['Median Listing Price / Sq. Ft. - 1 Bedroom'].fillna(df.groupby(['State'])['Median Listing Price / Sq. Ft. - 1 Bedroom'].transform('mean'), inplace=True)"
   ]
  },
  {
   "cell_type": "code",
   "execution_count": 53,
   "metadata": {},
   "outputs": [
    {
     "data": {
      "text/plain": [
       "575"
      ]
     },
     "execution_count": 53,
     "metadata": {},
     "output_type": "execute_result"
    }
   ],
   "source": [
    "# getting the missing value counts after replacement\n",
    "df['Median Listing Price / Sq. Ft. - 1 Bedroom'].isnull().sum()"
   ]
  },
  {
   "cell_type": "code",
   "execution_count": 54,
   "metadata": {},
   "outputs": [],
   "source": [
    "# fill the missing values by 'mean value' based on 'Year'\n",
    "df['Median Listing Price / Sq. Ft. - 1 Bedroom'].fillna(df.groupby(['Year'])['Median Listing Price / Sq. Ft. - 1 Bedroom'].transform('mean'), inplace=True)"
   ]
  },
  {
   "cell_type": "code",
   "execution_count": 55,
   "metadata": {},
   "outputs": [
    {
     "data": {
      "text/plain": [
       "0"
      ]
     },
     "execution_count": 55,
     "metadata": {},
     "output_type": "execute_result"
    }
   ],
   "source": [
    "# getting the missing value counts after replacement\n",
    "df['Median Listing Price / Sq. Ft. - 1 Bedroom'].isnull().sum()"
   ]
  },
  {
   "cell_type": "code",
   "execution_count": null,
   "metadata": {},
   "outputs": [],
   "source": []
  },
  {
   "cell_type": "code",
   "execution_count": null,
   "metadata": {},
   "outputs": [],
   "source": []
  },
  {
   "cell_type": "markdown",
   "metadata": {},
   "source": [
    "#### Median Listing Price / Sq. Ft. - 2 Bedrooms"
   ]
  },
  {
   "cell_type": "code",
   "execution_count": 56,
   "metadata": {},
   "outputs": [
    {
     "data": {
      "text/plain": [
       "457"
      ]
     },
     "execution_count": 56,
     "metadata": {},
     "output_type": "execute_result"
    }
   ],
   "source": [
    "# getting the missing value counts\n",
    "df['Median Listing Price / Sq. Ft. - 2 Bedrooms'].isnull().sum()"
   ]
  },
  {
   "cell_type": "code",
   "execution_count": 57,
   "metadata": {},
   "outputs": [],
   "source": [
    "# fill the missing values by 'mean value' based on 'Year' and 'State'\n",
    "df['Median Listing Price / Sq. Ft. - 2 Bedrooms'].fillna(df.groupby(['Year', 'State'])['Median Listing Price / Sq. Ft. - 2 Bedrooms'].transform('mean'), inplace=True)"
   ]
  },
  {
   "cell_type": "code",
   "execution_count": 58,
   "metadata": {},
   "outputs": [
    {
     "data": {
      "text/plain": [
       "395"
      ]
     },
     "execution_count": 58,
     "metadata": {},
     "output_type": "execute_result"
    }
   ],
   "source": [
    "# getting the missing value counts after replacement\n",
    "df['Median Listing Price / Sq. Ft. - 2 Bedrooms'].isnull().sum()"
   ]
  },
  {
   "cell_type": "code",
   "execution_count": 59,
   "metadata": {},
   "outputs": [],
   "source": [
    "# fill the missing values by 'mean value' based on 'State'\n",
    "df['Median Listing Price / Sq. Ft. - 2 Bedrooms'].fillna(df.groupby(['State'])['Median Listing Price / Sq. Ft. - 2 Bedrooms'].transform('mean'), inplace=True)"
   ]
  },
  {
   "cell_type": "code",
   "execution_count": 60,
   "metadata": {},
   "outputs": [
    {
     "data": {
      "text/plain": [
       "191"
      ]
     },
     "execution_count": 60,
     "metadata": {},
     "output_type": "execute_result"
    }
   ],
   "source": [
    "# getting the missing value counts after replacement\n",
    "df['Median Listing Price / Sq. Ft. - 2 Bedrooms'].isnull().sum()"
   ]
  },
  {
   "cell_type": "code",
   "execution_count": 61,
   "metadata": {},
   "outputs": [],
   "source": [
    "# fill the missing values by 'mean value' based on 'Year'\n",
    "df['Median Listing Price / Sq. Ft. - 2 Bedrooms'].fillna(df.groupby(['Year'])['Median Listing Price / Sq. Ft. - 2 Bedrooms'].transform('mean'), inplace=True)"
   ]
  },
  {
   "cell_type": "code",
   "execution_count": 62,
   "metadata": {},
   "outputs": [
    {
     "data": {
      "text/plain": [
       "0"
      ]
     },
     "execution_count": 62,
     "metadata": {},
     "output_type": "execute_result"
    }
   ],
   "source": [
    "# getting the missing value counts after replacement\n",
    "df['Median Listing Price / Sq. Ft. - 2 Bedrooms'].isnull().sum()"
   ]
  },
  {
   "cell_type": "code",
   "execution_count": null,
   "metadata": {},
   "outputs": [],
   "source": []
  },
  {
   "cell_type": "markdown",
   "metadata": {},
   "source": [
    "#### Median Listing Price / Sq. Ft. - 3 Bedrooms"
   ]
  },
  {
   "cell_type": "code",
   "execution_count": 63,
   "metadata": {},
   "outputs": [
    {
     "data": {
      "text/plain": [
       "384"
      ]
     },
     "execution_count": 63,
     "metadata": {},
     "output_type": "execute_result"
    }
   ],
   "source": [
    "# getting the missing value counts\n",
    "df['Median Listing Price / Sq. Ft. - 3 Bedrooms'].isnull().sum()"
   ]
  },
  {
   "cell_type": "code",
   "execution_count": 64,
   "metadata": {},
   "outputs": [],
   "source": [
    "# fill the missing values by 'mean value' based on 'Year' and 'State'\n",
    "df['Median Listing Price / Sq. Ft. - 3 Bedrooms'].fillna(df.groupby(['Year', 'State'])['Median Listing Price / Sq. Ft. - 3 Bedrooms'].transform('mean'), inplace=True)"
   ]
  },
  {
   "cell_type": "code",
   "execution_count": 65,
   "metadata": {},
   "outputs": [
    {
     "data": {
      "text/plain": [
       "335"
      ]
     },
     "execution_count": 65,
     "metadata": {},
     "output_type": "execute_result"
    }
   ],
   "source": [
    "# getting the missing value counts after replacement\n",
    "df['Median Listing Price / Sq. Ft. - 3 Bedrooms'].isnull().sum()"
   ]
  },
  {
   "cell_type": "code",
   "execution_count": 66,
   "metadata": {},
   "outputs": [],
   "source": [
    "# fill the missing values by 'mean value' based on 'State'\n",
    "df['Median Listing Price / Sq. Ft. - 3 Bedrooms'].fillna(df.groupby(['State'])['Median Listing Price / Sq. Ft. - 3 Bedrooms'].transform('mean'), inplace=True)"
   ]
  },
  {
   "cell_type": "code",
   "execution_count": 67,
   "metadata": {},
   "outputs": [
    {
     "data": {
      "text/plain": [
       "191"
      ]
     },
     "execution_count": 67,
     "metadata": {},
     "output_type": "execute_result"
    }
   ],
   "source": [
    "# getting the missing value counts after replacement\n",
    "df['Median Listing Price / Sq. Ft. - 3 Bedrooms'].isnull().sum()"
   ]
  },
  {
   "cell_type": "code",
   "execution_count": 68,
   "metadata": {},
   "outputs": [],
   "source": [
    "# fill the missing values by 'mean value' based on 'Year'\n",
    "df['Median Listing Price / Sq. Ft. - 3 Bedrooms'].fillna(df.groupby(['Year'])['Median Listing Price / Sq. Ft. - 3 Bedrooms'].transform('mean'), inplace=True)"
   ]
  },
  {
   "cell_type": "code",
   "execution_count": 69,
   "metadata": {},
   "outputs": [
    {
     "data": {
      "text/plain": [
       "0"
      ]
     },
     "execution_count": 69,
     "metadata": {},
     "output_type": "execute_result"
    }
   ],
   "source": [
    "# getting the missing value counts after replacement\n",
    "df['Median Listing Price / Sq. Ft. - 3 Bedrooms'].isnull().sum()"
   ]
  },
  {
   "cell_type": "code",
   "execution_count": null,
   "metadata": {},
   "outputs": [],
   "source": []
  },
  {
   "cell_type": "markdown",
   "metadata": {},
   "source": [
    "#### Median Listing Price / Sq. Ft. - 4 Bedrooms"
   ]
  },
  {
   "cell_type": "code",
   "execution_count": 70,
   "metadata": {},
   "outputs": [
    {
     "data": {
      "text/plain": [
       "314"
      ]
     },
     "execution_count": 70,
     "metadata": {},
     "output_type": "execute_result"
    }
   ],
   "source": [
    "# getting the missing value counts\n",
    "df['Median Listing Price / Sq. Ft. - 4 Bedrooms'].isnull().sum()"
   ]
  },
  {
   "cell_type": "code",
   "execution_count": 71,
   "metadata": {},
   "outputs": [],
   "source": [
    "# fill the missing values by 'mean value' based on 'Year' and 'State'\n",
    "df['Median Listing Price / Sq. Ft. - 4 Bedrooms'].fillna(df.groupby(['Year', 'State'])['Median Listing Price / Sq. Ft. - 4 Bedrooms'].transform('mean'), inplace=True)"
   ]
  },
  {
   "cell_type": "code",
   "execution_count": 72,
   "metadata": {},
   "outputs": [
    {
     "data": {
      "text/plain": [
       "287"
      ]
     },
     "execution_count": 72,
     "metadata": {},
     "output_type": "execute_result"
    }
   ],
   "source": [
    "# getting the missing value counts after replacement\n",
    "df['Median Listing Price / Sq. Ft. - 4 Bedrooms'].isnull().sum()"
   ]
  },
  {
   "cell_type": "code",
   "execution_count": 73,
   "metadata": {},
   "outputs": [],
   "source": [
    "# fill the missing values by 'mean value' based on 'State'\n",
    "df['Median Listing Price / Sq. Ft. - 4 Bedrooms'].fillna(df.groupby(['State'])['Median Listing Price / Sq. Ft. - 4 Bedrooms'].transform('mean'), inplace=True)"
   ]
  },
  {
   "cell_type": "code",
   "execution_count": 74,
   "metadata": {},
   "outputs": [
    {
     "data": {
      "text/plain": [
       "191"
      ]
     },
     "execution_count": 74,
     "metadata": {},
     "output_type": "execute_result"
    }
   ],
   "source": [
    "# getting the missing value counts after replacement\n",
    "df['Median Listing Price / Sq. Ft. - 4 Bedrooms'].isnull().sum()"
   ]
  },
  {
   "cell_type": "code",
   "execution_count": 75,
   "metadata": {},
   "outputs": [],
   "source": [
    "# fill the missing values by 'mean value' based on 'Year'\n",
    "df['Median Listing Price / Sq. Ft. - 4 Bedrooms'].fillna(df.groupby(['Year'])['Median Listing Price / Sq. Ft. - 4 Bedrooms'].transform('mean'), inplace=True)"
   ]
  },
  {
   "cell_type": "code",
   "execution_count": 76,
   "metadata": {},
   "outputs": [
    {
     "data": {
      "text/plain": [
       "0"
      ]
     },
     "execution_count": 76,
     "metadata": {},
     "output_type": "execute_result"
    }
   ],
   "source": [
    "# getting the missing value counts after replacement\n",
    "df['Median Listing Price / Sq. Ft. - 4 Bedrooms'].isnull().sum()"
   ]
  },
  {
   "cell_type": "code",
   "execution_count": null,
   "metadata": {},
   "outputs": [],
   "source": []
  },
  {
   "cell_type": "code",
   "execution_count": null,
   "metadata": {},
   "outputs": [],
   "source": []
  },
  {
   "cell_type": "markdown",
   "metadata": {},
   "source": [
    "#### Median Listing Price / Sq. Ft. - 5 Bedrooms or More"
   ]
  },
  {
   "cell_type": "code",
   "execution_count": 77,
   "metadata": {},
   "outputs": [
    {
     "data": {
      "text/plain": [
       "422"
      ]
     },
     "execution_count": 77,
     "metadata": {},
     "output_type": "execute_result"
    }
   ],
   "source": [
    "# getting the missing value counts\n",
    "df['Median Listing Price / Sq. Ft. - 5 Bedrooms or More'].isnull().sum()"
   ]
  },
  {
   "cell_type": "code",
   "execution_count": 78,
   "metadata": {},
   "outputs": [],
   "source": [
    "# fill the missing values by 'mean value' based on 'Year' and 'State'\n",
    "df['Median Listing Price / Sq. Ft. - 5 Bedrooms or More'].fillna(df.groupby(['Year', 'State'])['Median Listing Price / Sq. Ft. - 5 Bedrooms or More'].transform('mean'), inplace=True)"
   ]
  },
  {
   "cell_type": "code",
   "execution_count": 79,
   "metadata": {},
   "outputs": [
    {
     "data": {
      "text/plain": [
       "371"
      ]
     },
     "execution_count": 79,
     "metadata": {},
     "output_type": "execute_result"
    }
   ],
   "source": [
    "# getting the missing value counts\n",
    "df['Median Listing Price / Sq. Ft. - 5 Bedrooms or More'].isnull().sum()"
   ]
  },
  {
   "cell_type": "code",
   "execution_count": 80,
   "metadata": {},
   "outputs": [],
   "source": [
    "# fill the missing values by 'mean value' based on 'State'\n",
    "df['Median Listing Price / Sq. Ft. - 5 Bedrooms or More'].fillna(df.groupby(['State'])['Median Listing Price / Sq. Ft. - 5 Bedrooms or More'].transform('mean'), inplace=True)"
   ]
  },
  {
   "cell_type": "code",
   "execution_count": 81,
   "metadata": {},
   "outputs": [
    {
     "data": {
      "text/plain": [
       "191"
      ]
     },
     "execution_count": 81,
     "metadata": {},
     "output_type": "execute_result"
    }
   ],
   "source": [
    "# getting the missing value counts\n",
    "df['Median Listing Price / Sq. Ft. - 5 Bedrooms or More'].isnull().sum()"
   ]
  },
  {
   "cell_type": "code",
   "execution_count": 82,
   "metadata": {},
   "outputs": [],
   "source": [
    "# fill the missing values by 'mean value' based on 'Year'\n",
    "df['Median Listing Price / Sq. Ft. - 5 Bedrooms or More'].fillna(df.groupby(['Year'])['Median Listing Price / Sq. Ft. - 5 Bedrooms or More'].transform('mean'), inplace=True)"
   ]
  },
  {
   "cell_type": "code",
   "execution_count": 83,
   "metadata": {},
   "outputs": [
    {
     "data": {
      "text/plain": [
       "0"
      ]
     },
     "execution_count": 83,
     "metadata": {},
     "output_type": "execute_result"
    }
   ],
   "source": [
    "# getting the missing value counts\n",
    "df['Median Listing Price / Sq. Ft. - 5 Bedrooms or More'].isnull().sum()"
   ]
  },
  {
   "cell_type": "code",
   "execution_count": null,
   "metadata": {},
   "outputs": [],
   "source": []
  },
  {
   "cell_type": "code",
   "execution_count": null,
   "metadata": {},
   "outputs": [],
   "source": []
  },
  {
   "cell_type": "markdown",
   "metadata": {},
   "source": [
    "#### Median Listing Price / Sq. Ft. (All Home Types)"
   ]
  },
  {
   "cell_type": "code",
   "execution_count": 84,
   "metadata": {},
   "outputs": [
    {
     "data": {
      "text/plain": [
       "317"
      ]
     },
     "execution_count": 84,
     "metadata": {},
     "output_type": "execute_result"
    }
   ],
   "source": [
    "# getting the missing value counts\n",
    "df['Median Listing Price / Sq. Ft. (All Home Types)'].isnull().sum()"
   ]
  },
  {
   "cell_type": "code",
   "execution_count": 85,
   "metadata": {},
   "outputs": [],
   "source": [
    "# fill the missing values by 'mean value' based on 'Year' and 'State'\n",
    "df['Median Listing Price / Sq. Ft. (All Home Types)'].fillna(df.groupby(['Year', 'State'])['Median Listing Price / Sq. Ft. (All Home Types)'].transform('mean'), inplace=True)"
   ]
  },
  {
   "cell_type": "code",
   "execution_count": 86,
   "metadata": {},
   "outputs": [
    {
     "data": {
      "text/plain": [
       "287"
      ]
     },
     "execution_count": 86,
     "metadata": {},
     "output_type": "execute_result"
    }
   ],
   "source": [
    "# getting the missing value counts\n",
    "df['Median Listing Price / Sq. Ft. (All Home Types)'].isnull().sum()"
   ]
  },
  {
   "cell_type": "code",
   "execution_count": 87,
   "metadata": {},
   "outputs": [],
   "source": [
    "# fill the missing values by 'mean value' based on 'State'\n",
    "df['Median Listing Price / Sq. Ft. (All Home Types)'].fillna(df.groupby(['State'])['Median Listing Price / Sq. Ft. (All Home Types)'].transform('mean'), inplace=True)"
   ]
  },
  {
   "cell_type": "code",
   "execution_count": 88,
   "metadata": {},
   "outputs": [
    {
     "data": {
      "text/plain": [
       "191"
      ]
     },
     "execution_count": 88,
     "metadata": {},
     "output_type": "execute_result"
    }
   ],
   "source": [
    "# getting the missing value counts\n",
    "df['Median Listing Price / Sq. Ft. (All Home Types)'].isnull().sum()"
   ]
  },
  {
   "cell_type": "code",
   "execution_count": 89,
   "metadata": {},
   "outputs": [],
   "source": [
    "# fill the missing values by 'mean value' based on 'Year'\n",
    "df['Median Listing Price / Sq. Ft. (All Home Types)'].fillna(df.groupby(['Year'])['Median Listing Price / Sq. Ft. (All Home Types)'].transform('mean'), inplace=True)"
   ]
  },
  {
   "cell_type": "code",
   "execution_count": 90,
   "metadata": {},
   "outputs": [
    {
     "data": {
      "text/plain": [
       "0"
      ]
     },
     "execution_count": 90,
     "metadata": {},
     "output_type": "execute_result"
    }
   ],
   "source": [
    "# getting the missing value counts\n",
    "df['Median Listing Price / Sq. Ft. (All Home Types)'].isnull().sum()"
   ]
  },
  {
   "cell_type": "code",
   "execution_count": null,
   "metadata": {},
   "outputs": [],
   "source": []
  },
  {
   "cell_type": "code",
   "execution_count": null,
   "metadata": {},
   "outputs": [],
   "source": []
  },
  {
   "cell_type": "markdown",
   "metadata": {},
   "source": [
    "#### Median Listing Price / Sq. Ft. - Condo/Cooperative Home"
   ]
  },
  {
   "cell_type": "code",
   "execution_count": 91,
   "metadata": {},
   "outputs": [
    {
     "data": {
      "text/plain": [
       "842"
      ]
     },
     "execution_count": 91,
     "metadata": {},
     "output_type": "execute_result"
    }
   ],
   "source": [
    "# getting the missing value counts\n",
    "df['Median Listing Price / Sq. Ft. - Condo/Cooperative Home'].isnull().sum()"
   ]
  },
  {
   "cell_type": "code",
   "execution_count": 92,
   "metadata": {},
   "outputs": [],
   "source": [
    "# fill the missing values by 'mean value' based on 'Year' and 'State'\n",
    "df['Median Listing Price / Sq. Ft. - Condo/Cooperative Home'].fillna(df.groupby(['Year', 'State'])['Median Listing Price / Sq. Ft. - Condo/Cooperative Home'].transform('mean'), inplace=True)"
   ]
  },
  {
   "cell_type": "code",
   "execution_count": 93,
   "metadata": {},
   "outputs": [
    {
     "data": {
      "text/plain": [
       "767"
      ]
     },
     "execution_count": 93,
     "metadata": {},
     "output_type": "execute_result"
    }
   ],
   "source": [
    "# getting the missing value counts\n",
    "df['Median Listing Price / Sq. Ft. - Condo/Cooperative Home'].isnull().sum()"
   ]
  },
  {
   "cell_type": "code",
   "execution_count": 94,
   "metadata": {},
   "outputs": [],
   "source": [
    "# fill the missing values by 'mean value' based on 'State'\n",
    "df['Median Listing Price / Sq. Ft. - Condo/Cooperative Home'].fillna(df.groupby(['State'])['Median Listing Price / Sq. Ft. - Condo/Cooperative Home'].transform('mean'), inplace=True)"
   ]
  },
  {
   "cell_type": "code",
   "execution_count": 95,
   "metadata": {},
   "outputs": [
    {
     "data": {
      "text/plain": [
       "383"
      ]
     },
     "execution_count": 95,
     "metadata": {},
     "output_type": "execute_result"
    }
   ],
   "source": [
    "# getting the missing value counts\n",
    "df['Median Listing Price / Sq. Ft. - Condo/Cooperative Home'].isnull().sum()"
   ]
  },
  {
   "cell_type": "code",
   "execution_count": 96,
   "metadata": {},
   "outputs": [],
   "source": [
    "# fill the missing values by 'mean value' based on 'Year'\n",
    "df['Median Listing Price / Sq. Ft. - Condo/Cooperative Home'].fillna(df.groupby(['Year'])['Median Listing Price / Sq. Ft. - Condo/Cooperative Home'].transform('mean'), inplace=True)"
   ]
  },
  {
   "cell_type": "code",
   "execution_count": 97,
   "metadata": {},
   "outputs": [
    {
     "data": {
      "text/plain": [
       "0"
      ]
     },
     "execution_count": 97,
     "metadata": {},
     "output_type": "execute_result"
    }
   ],
   "source": [
    "# getting the missing value counts\n",
    "df['Median Listing Price / Sq. Ft. - Condo/Cooperative Home'].isnull().sum()"
   ]
  },
  {
   "cell_type": "code",
   "execution_count": null,
   "metadata": {},
   "outputs": [],
   "source": []
  },
  {
   "cell_type": "code",
   "execution_count": null,
   "metadata": {},
   "outputs": [],
   "source": []
  },
  {
   "cell_type": "markdown",
   "metadata": {},
   "source": [
    "#### Median Listing Price / Sq. Ft. - Duplex/Triplex"
   ]
  },
  {
   "cell_type": "code",
   "execution_count": 98,
   "metadata": {},
   "outputs": [
    {
     "data": {
      "text/plain": [
       "1027"
      ]
     },
     "execution_count": 98,
     "metadata": {},
     "output_type": "execute_result"
    }
   ],
   "source": [
    "# getting the missing value counts\n",
    "df['Median Listing Price / Sq. Ft. - Duplex/Triplex'].isnull().sum()"
   ]
  },
  {
   "cell_type": "code",
   "execution_count": 99,
   "metadata": {},
   "outputs": [],
   "source": [
    "# fill the missing values by 'mean value' based on 'Year' and 'State'\n",
    "df['Median Listing Price / Sq. Ft. - Duplex/Triplex'].fillna(df.groupby(['Year', 'State'])['Median Listing Price / Sq. Ft. - Duplex/Triplex'].transform('mean'), inplace=True)"
   ]
  },
  {
   "cell_type": "code",
   "execution_count": 100,
   "metadata": {},
   "outputs": [
    {
     "data": {
      "text/plain": [
       "971"
      ]
     },
     "execution_count": 100,
     "metadata": {},
     "output_type": "execute_result"
    }
   ],
   "source": [
    "# getting the missing value counts\n",
    "df['Median Listing Price / Sq. Ft. - Duplex/Triplex'].isnull().sum()"
   ]
  },
  {
   "cell_type": "code",
   "execution_count": 101,
   "metadata": {},
   "outputs": [],
   "source": [
    "# fill the missing values by 'mean value' based on 'State'\n",
    "df['Median Listing Price / Sq. Ft. - Duplex/Triplex'].fillna(df.groupby(['State'])['Median Listing Price / Sq. Ft. - Duplex/Triplex'].transform('mean'), inplace=True)"
   ]
  },
  {
   "cell_type": "code",
   "execution_count": 102,
   "metadata": {},
   "outputs": [
    {
     "data": {
      "text/plain": [
       "479"
      ]
     },
     "execution_count": 102,
     "metadata": {},
     "output_type": "execute_result"
    }
   ],
   "source": [
    "# getting the missing value counts\n",
    "df['Median Listing Price / Sq. Ft. - Duplex/Triplex'].isnull().sum()"
   ]
  },
  {
   "cell_type": "code",
   "execution_count": 103,
   "metadata": {},
   "outputs": [],
   "source": [
    "# fill the missing values by 'mean value' based on 'Year'\n",
    "df['Median Listing Price / Sq. Ft. - Duplex/Triplex'].fillna(df.groupby(['Year'])['Median Listing Price / Sq. Ft. - Duplex/Triplex'].transform('mean'), inplace=True)"
   ]
  },
  {
   "cell_type": "code",
   "execution_count": 104,
   "metadata": {},
   "outputs": [
    {
     "data": {
      "text/plain": [
       "0"
      ]
     },
     "execution_count": 104,
     "metadata": {},
     "output_type": "execute_result"
    }
   ],
   "source": [
    "# getting the missing value counts\n",
    "df['Median Listing Price / Sq. Ft. - Duplex/Triplex'].isnull().sum()"
   ]
  },
  {
   "cell_type": "code",
   "execution_count": null,
   "metadata": {},
   "outputs": [],
   "source": []
  },
  {
   "cell_type": "code",
   "execution_count": null,
   "metadata": {},
   "outputs": [],
   "source": []
  },
  {
   "cell_type": "markdown",
   "metadata": {},
   "source": [
    "#### Median Listing Price / Sq. Ft. - Single Family Residence"
   ]
  },
  {
   "cell_type": "code",
   "execution_count": 105,
   "metadata": {},
   "outputs": [
    {
     "data": {
      "text/plain": [
       "352"
      ]
     },
     "execution_count": 105,
     "metadata": {},
     "output_type": "execute_result"
    }
   ],
   "source": [
    "# getting the missing value counts\n",
    "df['Median Listing Price / Sq. Ft. - Single Family Residence'].isnull().sum()"
   ]
  },
  {
   "cell_type": "code",
   "execution_count": 106,
   "metadata": {},
   "outputs": [],
   "source": [
    "# fill the missing values by 'mean value' based on 'Year' and 'State'\n",
    "df['Median Listing Price / Sq. Ft. - Single Family Residence'].fillna(df.groupby(['Year', 'State'])['Median Listing Price / Sq. Ft. - Single Family Residence'].transform('mean'), inplace=True)"
   ]
  },
  {
   "cell_type": "code",
   "execution_count": 107,
   "metadata": {},
   "outputs": [
    {
     "data": {
      "text/plain": [
       "311"
      ]
     },
     "execution_count": 107,
     "metadata": {},
     "output_type": "execute_result"
    }
   ],
   "source": [
    "# getting the missing value counts\n",
    "df['Median Listing Price / Sq. Ft. - Single Family Residence'].isnull().sum()"
   ]
  },
  {
   "cell_type": "code",
   "execution_count": 108,
   "metadata": {},
   "outputs": [],
   "source": [
    "# fill the missing values by 'mean value' based on 'State'\n",
    "df['Median Listing Price / Sq. Ft. - Single Family Residence'].fillna(df.groupby(['State'])['Median Listing Price / Sq. Ft. - Single Family Residence'].transform('mean'), inplace=True)"
   ]
  },
  {
   "cell_type": "code",
   "execution_count": 109,
   "metadata": {},
   "outputs": [
    {
     "data": {
      "text/plain": [
       "191"
      ]
     },
     "execution_count": 109,
     "metadata": {},
     "output_type": "execute_result"
    }
   ],
   "source": [
    "# getting the missing value counts\n",
    "df['Median Listing Price / Sq. Ft. - Single Family Residence'].isnull().sum()"
   ]
  },
  {
   "cell_type": "code",
   "execution_count": 110,
   "metadata": {},
   "outputs": [],
   "source": [
    "# fill the missing values by 'mean value' based on 'Year'\n",
    "df['Median Listing Price / Sq. Ft. - Single Family Residence'].fillna(df.groupby(['Year'])['Median Listing Price / Sq. Ft. - Single Family Residence'].transform('mean'), inplace=True)"
   ]
  },
  {
   "cell_type": "code",
   "execution_count": 111,
   "metadata": {},
   "outputs": [
    {
     "data": {
      "text/plain": [
       "0"
      ]
     },
     "execution_count": 111,
     "metadata": {},
     "output_type": "execute_result"
    }
   ],
   "source": [
    "# getting the missing value counts\n",
    "df['Median Listing Price / Sq. Ft. - Single Family Residence'].isnull().sum()"
   ]
  },
  {
   "cell_type": "code",
   "execution_count": null,
   "metadata": {},
   "outputs": [],
   "source": []
  },
  {
   "cell_type": "code",
   "execution_count": null,
   "metadata": {},
   "outputs": [],
   "source": []
  },
  {
   "cell_type": "markdown",
   "metadata": {},
   "source": [
    "#### Zillow Home Value Index / Sq. Ft. (All Home Types)"
   ]
  },
  {
   "cell_type": "code",
   "execution_count": 112,
   "metadata": {},
   "outputs": [
    {
     "data": {
      "text/plain": [
       "191"
      ]
     },
     "execution_count": 112,
     "metadata": {},
     "output_type": "execute_result"
    }
   ],
   "source": [
    "# getting the missing value counts\n",
    "df['Zillow Home Value Index / Sq. Ft. (All Home Types)'].isnull().sum()"
   ]
  },
  {
   "cell_type": "code",
   "execution_count": 113,
   "metadata": {},
   "outputs": [],
   "source": [
    "# fill the missing values by 'mean value' based on 'Year' and 'State'\n",
    "df['Zillow Home Value Index / Sq. Ft. (All Home Types)'].fillna(df.groupby(['Year', 'State'])['Zillow Home Value Index / Sq. Ft. (All Home Types)'].transform('mean'), inplace=True)"
   ]
  },
  {
   "cell_type": "code",
   "execution_count": 114,
   "metadata": {},
   "outputs": [
    {
     "data": {
      "text/plain": [
       "191"
      ]
     },
     "execution_count": 114,
     "metadata": {},
     "output_type": "execute_result"
    }
   ],
   "source": [
    "# getting the missing value counts\n",
    "df['Zillow Home Value Index / Sq. Ft. (All Home Types)'].isnull().sum()"
   ]
  },
  {
   "cell_type": "code",
   "execution_count": 115,
   "metadata": {},
   "outputs": [],
   "source": [
    "# fill the missing values by 'mean value' based on 'State'\n",
    "df['Zillow Home Value Index / Sq. Ft. (All Home Types)'].fillna(df.groupby(['State'])['Zillow Home Value Index / Sq. Ft. (All Home Types)'].transform('mean'), inplace=True)"
   ]
  },
  {
   "cell_type": "code",
   "execution_count": 116,
   "metadata": {},
   "outputs": [
    {
     "data": {
      "text/plain": [
       "191"
      ]
     },
     "execution_count": 116,
     "metadata": {},
     "output_type": "execute_result"
    }
   ],
   "source": [
    "# getting the missing value counts\n",
    "df['Zillow Home Value Index / Sq. Ft. (All Home Types)'].isnull().sum()"
   ]
  },
  {
   "cell_type": "code",
   "execution_count": 117,
   "metadata": {},
   "outputs": [],
   "source": [
    "# fill the missing values by 'mean value' based on 'Year'\n",
    "df['Zillow Home Value Index / Sq. Ft. (All Home Types)'].fillna(df.groupby(['Year'])['Zillow Home Value Index / Sq. Ft. (All Home Types)'].transform('mean'), inplace=True)"
   ]
  },
  {
   "cell_type": "code",
   "execution_count": 118,
   "metadata": {},
   "outputs": [
    {
     "data": {
      "text/plain": [
       "0"
      ]
     },
     "execution_count": 118,
     "metadata": {},
     "output_type": "execute_result"
    }
   ],
   "source": [
    "# getting the missing value counts\n",
    "df['Zillow Home Value Index / Sq. Ft. (All Home Types)'].isnull().sum()"
   ]
  },
  {
   "cell_type": "code",
   "execution_count": null,
   "metadata": {},
   "outputs": [],
   "source": []
  },
  {
   "cell_type": "markdown",
   "metadata": {},
   "source": [
    "#### Zillow Home Value Index - 1 Bedroom"
   ]
  },
  {
   "cell_type": "code",
   "execution_count": 119,
   "metadata": {},
   "outputs": [
    {
     "data": {
      "text/plain": [
       "900"
      ]
     },
     "execution_count": 119,
     "metadata": {},
     "output_type": "execute_result"
    }
   ],
   "source": [
    "# getting the missing value counts\n",
    "df['Zillow Home Value Index - 1 Bedroom'].isnull().sum()"
   ]
  },
  {
   "cell_type": "code",
   "execution_count": 120,
   "metadata": {},
   "outputs": [],
   "source": [
    "# fill the missing values by 'mean value' based on 'Year' and 'State'\n",
    "df['Zillow Home Value Index - 1 Bedroom'].fillna(df.groupby(['Year', 'State'])['Zillow Home Value Index - 1 Bedroom'].transform('mean'), inplace=True)"
   ]
  },
  {
   "cell_type": "code",
   "execution_count": 121,
   "metadata": {},
   "outputs": [
    {
     "data": {
      "text/plain": [
       "899"
      ]
     },
     "execution_count": 121,
     "metadata": {},
     "output_type": "execute_result"
    }
   ],
   "source": [
    "# getting the missing value counts\n",
    "df['Zillow Home Value Index - 1 Bedroom'].isnull().sum()"
   ]
  },
  {
   "cell_type": "code",
   "execution_count": 122,
   "metadata": {},
   "outputs": [],
   "source": [
    "# fill the missing values by 'mean value' based on 'State'\n",
    "df['Zillow Home Value Index - 1 Bedroom'].fillna(df.groupby(['State'])['Zillow Home Value Index - 1 Bedroom'].transform('mean'), inplace=True)"
   ]
  },
  {
   "cell_type": "code",
   "execution_count": 123,
   "metadata": {},
   "outputs": [
    {
     "data": {
      "text/plain": [
       "863"
      ]
     },
     "execution_count": 123,
     "metadata": {},
     "output_type": "execute_result"
    }
   ],
   "source": [
    "# getting the missing value counts\n",
    "df['Zillow Home Value Index - 1 Bedroom'].isnull().sum()"
   ]
  },
  {
   "cell_type": "code",
   "execution_count": 124,
   "metadata": {},
   "outputs": [],
   "source": [
    "# fill the missing values by 'mean value' based on 'Year'\n",
    "df['Zillow Home Value Index - 1 Bedroom'].fillna(df.groupby(['Year'])['Zillow Home Value Index - 1 Bedroom'].transform('mean'), inplace=True)"
   ]
  },
  {
   "cell_type": "code",
   "execution_count": 125,
   "metadata": {},
   "outputs": [
    {
     "data": {
      "text/plain": [
       "0"
      ]
     },
     "execution_count": 125,
     "metadata": {},
     "output_type": "execute_result"
    }
   ],
   "source": [
    "# getting the missing value counts\n",
    "df['Zillow Home Value Index - 1 Bedroom'].isnull().sum()"
   ]
  },
  {
   "cell_type": "code",
   "execution_count": null,
   "metadata": {},
   "outputs": [],
   "source": []
  },
  {
   "cell_type": "code",
   "execution_count": null,
   "metadata": {},
   "outputs": [],
   "source": []
  },
  {
   "cell_type": "markdown",
   "metadata": {},
   "source": [
    "#### Zillow Home Value Index - 2 Bedrooms"
   ]
  },
  {
   "cell_type": "code",
   "execution_count": 126,
   "metadata": {},
   "outputs": [
    {
     "data": {
      "text/plain": [
       "498"
      ]
     },
     "execution_count": 126,
     "metadata": {},
     "output_type": "execute_result"
    }
   ],
   "source": [
    "# getting the missing value counts\n",
    "df['Zillow Home Value Index - 2 Bedrooms'].isnull().sum()"
   ]
  },
  {
   "cell_type": "code",
   "execution_count": 127,
   "metadata": {},
   "outputs": [],
   "source": [
    "# fill the missing values by 'mean value' based on 'Year' and 'State'\n",
    "df['Zillow Home Value Index - 2 Bedrooms'].fillna(df.groupby(['Year', 'State'])['Zillow Home Value Index - 2 Bedrooms'].transform('mean'), inplace=True)"
   ]
  },
  {
   "cell_type": "code",
   "execution_count": 128,
   "metadata": {},
   "outputs": [
    {
     "data": {
      "text/plain": [
       "491"
      ]
     },
     "execution_count": 128,
     "metadata": {},
     "output_type": "execute_result"
    }
   ],
   "source": [
    "# getting the missing value counts\n",
    "df['Zillow Home Value Index - 2 Bedrooms'].isnull().sum()"
   ]
  },
  {
   "cell_type": "code",
   "execution_count": 129,
   "metadata": {},
   "outputs": [],
   "source": [
    "# fill the missing values by 'mean value' based on 'State'\n",
    "df['Zillow Home Value Index - 2 Bedrooms'].fillna(df.groupby(['State'])['Zillow Home Value Index - 2 Bedrooms'].transform('mean'), inplace=True)"
   ]
  },
  {
   "cell_type": "code",
   "execution_count": 130,
   "metadata": {},
   "outputs": [
    {
     "data": {
      "text/plain": [
       "479"
      ]
     },
     "execution_count": 130,
     "metadata": {},
     "output_type": "execute_result"
    }
   ],
   "source": [
    "# getting the missing value counts\n",
    "df['Zillow Home Value Index - 2 Bedrooms'].isnull().sum()"
   ]
  },
  {
   "cell_type": "code",
   "execution_count": 131,
   "metadata": {},
   "outputs": [],
   "source": [
    "# fill the missing values by 'mean value' based on 'Year'\n",
    "df['Zillow Home Value Index - 2 Bedrooms'].fillna(df.groupby(['Year'])['Zillow Home Value Index - 2 Bedrooms'].transform('mean'), inplace=True)"
   ]
  },
  {
   "cell_type": "code",
   "execution_count": 132,
   "metadata": {},
   "outputs": [
    {
     "data": {
      "text/plain": [
       "0"
      ]
     },
     "execution_count": 132,
     "metadata": {},
     "output_type": "execute_result"
    }
   ],
   "source": [
    "# getting the missing value counts\n",
    "df['Zillow Home Value Index - 2 Bedrooms'].isnull().sum()"
   ]
  },
  {
   "cell_type": "code",
   "execution_count": null,
   "metadata": {},
   "outputs": [],
   "source": []
  },
  {
   "cell_type": "code",
   "execution_count": null,
   "metadata": {},
   "outputs": [],
   "source": []
  },
  {
   "cell_type": "markdown",
   "metadata": {},
   "source": [
    "#### Zillow Home Value Index - 3 Bedrooms"
   ]
  },
  {
   "cell_type": "code",
   "execution_count": 133,
   "metadata": {},
   "outputs": [
    {
     "data": {
      "text/plain": [
       "121"
      ]
     },
     "execution_count": 133,
     "metadata": {},
     "output_type": "execute_result"
    }
   ],
   "source": [
    "# getting the missing value counts\n",
    "df['Zillow Home Value Index - 3 Bedrooms'].isnull().sum()"
   ]
  },
  {
   "cell_type": "code",
   "execution_count": 134,
   "metadata": {},
   "outputs": [],
   "source": [
    "# fill the missing values by 'mean value' based on 'Year' and 'State'\n",
    "df['Zillow Home Value Index - 3 Bedrooms'].fillna(df.groupby(['Year', 'State'])['Zillow Home Value Index - 3 Bedrooms'].transform('mean'), inplace=True)"
   ]
  },
  {
   "cell_type": "code",
   "execution_count": 135,
   "metadata": {},
   "outputs": [
    {
     "data": {
      "text/plain": [
       "107"
      ]
     },
     "execution_count": 135,
     "metadata": {},
     "output_type": "execute_result"
    }
   ],
   "source": [
    "# getting the missing value counts\n",
    "df['Zillow Home Value Index - 3 Bedrooms'].isnull().sum()"
   ]
  },
  {
   "cell_type": "code",
   "execution_count": 136,
   "metadata": {},
   "outputs": [],
   "source": [
    "# fill the missing values by 'mean value' based on 'State'\n",
    "df['Zillow Home Value Index - 3 Bedrooms'].fillna(df.groupby(['State'])['Zillow Home Value Index - 3 Bedrooms'].transform('mean'), inplace=True)"
   ]
  },
  {
   "cell_type": "code",
   "execution_count": 137,
   "metadata": {},
   "outputs": [
    {
     "data": {
      "text/plain": [
       "95"
      ]
     },
     "execution_count": 137,
     "metadata": {},
     "output_type": "execute_result"
    }
   ],
   "source": [
    "# getting the missing value counts\n",
    "df['Zillow Home Value Index - 3 Bedrooms'].isnull().sum()"
   ]
  },
  {
   "cell_type": "code",
   "execution_count": 138,
   "metadata": {},
   "outputs": [],
   "source": [
    "# fill the missing values by 'mean value' based on 'Year'\n",
    "df['Zillow Home Value Index - 3 Bedrooms'].fillna(df.groupby(['Year'])['Zillow Home Value Index - 3 Bedrooms'].transform('mean'), inplace=True)"
   ]
  },
  {
   "cell_type": "code",
   "execution_count": 139,
   "metadata": {},
   "outputs": [
    {
     "data": {
      "text/plain": [
       "0"
      ]
     },
     "execution_count": 139,
     "metadata": {},
     "output_type": "execute_result"
    }
   ],
   "source": [
    "# getting the missing value counts\n",
    "df['Zillow Home Value Index - 3 Bedrooms'].isnull().sum()"
   ]
  },
  {
   "cell_type": "code",
   "execution_count": null,
   "metadata": {},
   "outputs": [],
   "source": []
  },
  {
   "cell_type": "code",
   "execution_count": null,
   "metadata": {},
   "outputs": [],
   "source": []
  },
  {
   "cell_type": "markdown",
   "metadata": {},
   "source": [
    "#### Zillow Home Value Index - 4 Bedrooms"
   ]
  },
  {
   "cell_type": "code",
   "execution_count": 140,
   "metadata": {},
   "outputs": [
    {
     "data": {
      "text/plain": [
       "287"
      ]
     },
     "execution_count": 140,
     "metadata": {},
     "output_type": "execute_result"
    }
   ],
   "source": [
    "# getting the missing value counts\n",
    "df['Zillow Home Value Index - 4 Bedrooms'].isnull().sum()"
   ]
  },
  {
   "cell_type": "code",
   "execution_count": 141,
   "metadata": {},
   "outputs": [],
   "source": [
    "# fill the missing values by 'mean value' based on 'Year' and 'State'\n",
    "df['Zillow Home Value Index - 4 Bedrooms'].fillna(df.groupby(['Year', 'State'])['Zillow Home Value Index - 4 Bedrooms'].transform('mean'), inplace=True)"
   ]
  },
  {
   "cell_type": "code",
   "execution_count": 142,
   "metadata": {},
   "outputs": [
    {
     "data": {
      "text/plain": [
       "287"
      ]
     },
     "execution_count": 142,
     "metadata": {},
     "output_type": "execute_result"
    }
   ],
   "source": [
    "# getting the missing value counts\n",
    "df['Zillow Home Value Index - 4 Bedrooms'].isnull().sum()"
   ]
  },
  {
   "cell_type": "code",
   "execution_count": 143,
   "metadata": {},
   "outputs": [],
   "source": [
    "# fill the missing values by 'mean value' based on 'State'\n",
    "df['Zillow Home Value Index - 4 Bedrooms'].fillna(df.groupby(['State'])['Zillow Home Value Index - 4 Bedrooms'].transform('mean'), inplace=True)"
   ]
  },
  {
   "cell_type": "code",
   "execution_count": 144,
   "metadata": {},
   "outputs": [
    {
     "data": {
      "text/plain": [
       "287"
      ]
     },
     "execution_count": 144,
     "metadata": {},
     "output_type": "execute_result"
    }
   ],
   "source": [
    "# getting the missing value counts\n",
    "df['Zillow Home Value Index - 4 Bedrooms'].isnull().sum()"
   ]
  },
  {
   "cell_type": "code",
   "execution_count": 145,
   "metadata": {},
   "outputs": [],
   "source": [
    "# fill the missing values by 'mean value' based on 'Year'\n",
    "df['Zillow Home Value Index - 4 Bedrooms'].fillna(df.groupby(['Year'])['Zillow Home Value Index - 4 Bedrooms'].transform('mean'), inplace=True)"
   ]
  },
  {
   "cell_type": "code",
   "execution_count": 146,
   "metadata": {},
   "outputs": [
    {
     "data": {
      "text/plain": [
       "0"
      ]
     },
     "execution_count": 146,
     "metadata": {},
     "output_type": "execute_result"
    }
   ],
   "source": [
    "# getting the missing value counts\n",
    "df['Zillow Home Value Index - 4 Bedrooms'].isnull().sum()"
   ]
  },
  {
   "cell_type": "code",
   "execution_count": null,
   "metadata": {},
   "outputs": [],
   "source": []
  },
  {
   "cell_type": "code",
   "execution_count": null,
   "metadata": {},
   "outputs": [],
   "source": []
  },
  {
   "cell_type": "markdown",
   "metadata": {},
   "source": [
    "#### Zillow Home Value Index - 5 Bedrooms or More"
   ]
  },
  {
   "cell_type": "code",
   "execution_count": 147,
   "metadata": {},
   "outputs": [
    {
     "data": {
      "text/plain": [
       "398"
      ]
     },
     "execution_count": 147,
     "metadata": {},
     "output_type": "execute_result"
    }
   ],
   "source": [
    "# getting the missing value counts\n",
    "df['Zillow Home Value Index - 5 Bedrooms or More'].isnull().sum()"
   ]
  },
  {
   "cell_type": "code",
   "execution_count": 148,
   "metadata": {},
   "outputs": [],
   "source": [
    "# fill the missing values by 'mean value' based on 'Year' and 'State'\n",
    "df['Zillow Home Value Index - 5 Bedrooms or More'].fillna(df.groupby(['Year', 'State'])['Zillow Home Value Index - 5 Bedrooms or More'].transform('mean'), inplace=True)"
   ]
  },
  {
   "cell_type": "code",
   "execution_count": 149,
   "metadata": {},
   "outputs": [
    {
     "data": {
      "text/plain": [
       "383"
      ]
     },
     "execution_count": 149,
     "metadata": {},
     "output_type": "execute_result"
    }
   ],
   "source": [
    "# getting the missing value counts\n",
    "df['Zillow Home Value Index - 5 Bedrooms or More'].isnull().sum()"
   ]
  },
  {
   "cell_type": "code",
   "execution_count": 150,
   "metadata": {},
   "outputs": [],
   "source": [
    "# fill the missing values by 'mean value' based on 'State'\n",
    "df['Zillow Home Value Index - 5 Bedrooms or More'].fillna(df.groupby(['State'])['Zillow Home Value Index - 5 Bedrooms or More'].transform('mean'), inplace=True)"
   ]
  },
  {
   "cell_type": "code",
   "execution_count": 151,
   "metadata": {},
   "outputs": [
    {
     "data": {
      "text/plain": [
       "383"
      ]
     },
     "execution_count": 151,
     "metadata": {},
     "output_type": "execute_result"
    }
   ],
   "source": [
    "# getting the missing value counts\n",
    "df['Zillow Home Value Index - 5 Bedrooms or More'].isnull().sum()"
   ]
  },
  {
   "cell_type": "code",
   "execution_count": 152,
   "metadata": {},
   "outputs": [],
   "source": [
    "# fill the missing values by 'mean value' based on 'Year'\n",
    "df['Zillow Home Value Index - 5 Bedrooms or More'].fillna(df.groupby(['Year'])['Zillow Home Value Index - 5 Bedrooms or More'].transform('mean'), inplace=True)"
   ]
  },
  {
   "cell_type": "code",
   "execution_count": 153,
   "metadata": {},
   "outputs": [
    {
     "data": {
      "text/plain": [
       "0"
      ]
     },
     "execution_count": 153,
     "metadata": {},
     "output_type": "execute_result"
    }
   ],
   "source": [
    "# getting the missing value counts\n",
    "df['Zillow Home Value Index - 5 Bedrooms or More'].isnull().sum()"
   ]
  },
  {
   "cell_type": "code",
   "execution_count": null,
   "metadata": {},
   "outputs": [],
   "source": []
  },
  {
   "cell_type": "code",
   "execution_count": null,
   "metadata": {},
   "outputs": [],
   "source": []
  },
  {
   "cell_type": "markdown",
   "metadata": {},
   "source": [
    "#### Zillow Home Value Index (All Home Types)"
   ]
  },
  {
   "cell_type": "code",
   "execution_count": 154,
   "metadata": {},
   "outputs": [
    {
     "data": {
      "text/plain": [
       "191"
      ]
     },
     "execution_count": 154,
     "metadata": {},
     "output_type": "execute_result"
    }
   ],
   "source": [
    "# getting the missing value counts\n",
    "df['Zillow Home Value Index (All Home Types)'].isnull().sum()"
   ]
  },
  {
   "cell_type": "code",
   "execution_count": 155,
   "metadata": {},
   "outputs": [],
   "source": [
    "# fill the missing values by 'mean value' based on 'Year' and 'State'\n",
    "df['Zillow Home Value Index (All Home Types)'].fillna(df.groupby(['Year', 'State'])['Zillow Home Value Index (All Home Types)'].transform('mean'), inplace=True)"
   ]
  },
  {
   "cell_type": "code",
   "execution_count": 156,
   "metadata": {},
   "outputs": [
    {
     "data": {
      "text/plain": [
       "191"
      ]
     },
     "execution_count": 156,
     "metadata": {},
     "output_type": "execute_result"
    }
   ],
   "source": [
    "# getting the missing value counts\n",
    "df['Zillow Home Value Index (All Home Types)'].isnull().sum()"
   ]
  },
  {
   "cell_type": "code",
   "execution_count": 157,
   "metadata": {},
   "outputs": [],
   "source": [
    "# fill the missing values by 'mean value' based on 'State'\n",
    "df['Zillow Home Value Index (All Home Types)'].fillna(df.groupby(['State'])['Zillow Home Value Index (All Home Types)'].transform('mean'), inplace=True)"
   ]
  },
  {
   "cell_type": "code",
   "execution_count": 158,
   "metadata": {},
   "outputs": [
    {
     "data": {
      "text/plain": [
       "191"
      ]
     },
     "execution_count": 158,
     "metadata": {},
     "output_type": "execute_result"
    }
   ],
   "source": [
    "# getting the missing value counts\n",
    "df['Zillow Home Value Index (All Home Types)'].isnull().sum()"
   ]
  },
  {
   "cell_type": "code",
   "execution_count": 159,
   "metadata": {},
   "outputs": [],
   "source": [
    "# fill the missing values by 'mean value' based on 'Year'\n",
    "df['Zillow Home Value Index (All Home Types)'].fillna(df.groupby(['Year'])['Zillow Home Value Index (All Home Types)'].transform('mean'), inplace=True)"
   ]
  },
  {
   "cell_type": "code",
   "execution_count": 160,
   "metadata": {},
   "outputs": [
    {
     "data": {
      "text/plain": [
       "0"
      ]
     },
     "execution_count": 160,
     "metadata": {},
     "output_type": "execute_result"
    }
   ],
   "source": [
    "# getting the missing value counts\n",
    "df['Zillow Home Value Index (All Home Types)'].isnull().sum()"
   ]
  },
  {
   "cell_type": "code",
   "execution_count": null,
   "metadata": {},
   "outputs": [],
   "source": []
  },
  {
   "cell_type": "code",
   "execution_count": null,
   "metadata": {},
   "outputs": [],
   "source": []
  },
  {
   "cell_type": "markdown",
   "metadata": {},
   "source": [
    "#### Zillow Home Value Index - Condo/Cooperative Home"
   ]
  },
  {
   "cell_type": "code",
   "execution_count": 161,
   "metadata": {},
   "outputs": [
    {
     "data": {
      "text/plain": [
       "575"
      ]
     },
     "execution_count": 161,
     "metadata": {},
     "output_type": "execute_result"
    }
   ],
   "source": [
    "# getting the missing value counts\n",
    "df['Zillow Home Value Index - Condo/Cooperative Home'].isnull().sum()"
   ]
  },
  {
   "cell_type": "code",
   "execution_count": 162,
   "metadata": {},
   "outputs": [],
   "source": [
    "# fill the missing values by 'mean value' based on 'Year' and 'State'\n",
    "df['Zillow Home Value Index - Condo/Cooperative Home'].fillna(df.groupby(['Year', 'State'])['Zillow Home Value Index - Condo/Cooperative Home'].transform('mean'), inplace=True)"
   ]
  },
  {
   "cell_type": "code",
   "execution_count": 163,
   "metadata": {},
   "outputs": [
    {
     "data": {
      "text/plain": [
       "575"
      ]
     },
     "execution_count": 163,
     "metadata": {},
     "output_type": "execute_result"
    }
   ],
   "source": [
    "# getting the missing value counts\n",
    "df['Zillow Home Value Index - Condo/Cooperative Home'].isnull().sum()"
   ]
  },
  {
   "cell_type": "code",
   "execution_count": 164,
   "metadata": {},
   "outputs": [],
   "source": [
    "# fill the missing values by 'mean value' based on 'State'\n",
    "df['Zillow Home Value Index - Condo/Cooperative Home'].fillna(df.groupby(['State'])['Zillow Home Value Index - Condo/Cooperative Home'].transform('mean'), inplace=True)"
   ]
  },
  {
   "cell_type": "code",
   "execution_count": 165,
   "metadata": {},
   "outputs": [
    {
     "data": {
      "text/plain": [
       "575"
      ]
     },
     "execution_count": 165,
     "metadata": {},
     "output_type": "execute_result"
    }
   ],
   "source": [
    "# getting the missing value counts\n",
    "df['Zillow Home Value Index - Condo/Cooperative Home'].isnull().sum()"
   ]
  },
  {
   "cell_type": "code",
   "execution_count": 166,
   "metadata": {},
   "outputs": [],
   "source": [
    "# fill the missing values by 'mean value' based on 'Year'\n",
    "df['Zillow Home Value Index - Condo/Cooperative Home'].fillna(df.groupby(['Year'])['Zillow Home Value Index - Condo/Cooperative Home'].transform('mean'), inplace=True)"
   ]
  },
  {
   "cell_type": "code",
   "execution_count": 167,
   "metadata": {},
   "outputs": [
    {
     "data": {
      "text/plain": [
       "0"
      ]
     },
     "execution_count": 167,
     "metadata": {},
     "output_type": "execute_result"
    }
   ],
   "source": [
    "# getting the missing value counts\n",
    "df['Zillow Home Value Index - Condo/Cooperative Home'].isnull().sum()"
   ]
  },
  {
   "cell_type": "code",
   "execution_count": null,
   "metadata": {},
   "outputs": [],
   "source": []
  },
  {
   "cell_type": "code",
   "execution_count": null,
   "metadata": {},
   "outputs": [],
   "source": []
  },
  {
   "cell_type": "markdown",
   "metadata": {},
   "source": [
    "#### Zillow Home Value Index - Single Family Residency"
   ]
  },
  {
   "cell_type": "code",
   "execution_count": 168,
   "metadata": {},
   "outputs": [
    {
     "data": {
      "text/plain": [
       "191"
      ]
     },
     "execution_count": 168,
     "metadata": {},
     "output_type": "execute_result"
    }
   ],
   "source": [
    "# getting the missing value counts\n",
    "df['Zillow Home Value Index - Single Family Residency'].isnull().sum()"
   ]
  },
  {
   "cell_type": "code",
   "execution_count": 169,
   "metadata": {},
   "outputs": [],
   "source": [
    "# fill the missing values by 'mean value' based on 'Year' and 'State'\n",
    "df['Zillow Home Value Index - Single Family Residency'].fillna(df.groupby(['Year', 'State'])['Zillow Home Value Index - Single Family Residency'].transform('mean'), inplace=True)"
   ]
  },
  {
   "cell_type": "code",
   "execution_count": 170,
   "metadata": {},
   "outputs": [
    {
     "data": {
      "text/plain": [
       "191"
      ]
     },
     "execution_count": 170,
     "metadata": {},
     "output_type": "execute_result"
    }
   ],
   "source": [
    "# getting the missing value counts\n",
    "df['Zillow Home Value Index - Single Family Residency'].isnull().sum()"
   ]
  },
  {
   "cell_type": "code",
   "execution_count": 171,
   "metadata": {},
   "outputs": [],
   "source": [
    "# fill the missing values by 'mean value' based on 'State'\n",
    "df['Zillow Home Value Index - Single Family Residency'].fillna(df.groupby(['State'])['Zillow Home Value Index - Single Family Residency'].transform('mean'), inplace=True)"
   ]
  },
  {
   "cell_type": "code",
   "execution_count": 172,
   "metadata": {},
   "outputs": [
    {
     "data": {
      "text/plain": [
       "191"
      ]
     },
     "execution_count": 172,
     "metadata": {},
     "output_type": "execute_result"
    }
   ],
   "source": [
    "# getting the missing value counts\n",
    "df['Zillow Home Value Index - Single Family Residency'].isnull().sum()"
   ]
  },
  {
   "cell_type": "code",
   "execution_count": 173,
   "metadata": {},
   "outputs": [],
   "source": [
    "# fill the missing values by 'mean value' based on 'Year'\n",
    "df['Zillow Home Value Index - Single Family Residency'].fillna(df.groupby(['Year'])['Zillow Home Value Index - Single Family Residency'].transform('mean'), inplace=True)"
   ]
  },
  {
   "cell_type": "code",
   "execution_count": 174,
   "metadata": {},
   "outputs": [
    {
     "data": {
      "text/plain": [
       "0"
      ]
     },
     "execution_count": 174,
     "metadata": {},
     "output_type": "execute_result"
    }
   ],
   "source": [
    "# getting the missing value counts\n",
    "df['Zillow Home Value Index - Single Family Residency'].isnull().sum()"
   ]
  },
  {
   "cell_type": "code",
   "execution_count": 175,
   "metadata": {},
   "outputs": [
    {
     "data": {
      "text/plain": [
       "Year                                                        4991\n",
       "State                                                       4991\n",
       "Number of Sales                                             4991\n",
       "Sale Price                                                  4991\n",
       "Days on Zillow (All Home Types)                             4991\n",
       "Inventory (All Home Types)                                  4991\n",
       "Median Listing Price / Sq. Ft. - 1 Bedroom                  4991\n",
       "Median Listing Price / Sq. Ft. - 2 Bedrooms                 4991\n",
       "Median Listing Price / Sq. Ft. - 3 Bedrooms                 4991\n",
       "Median Listing Price / Sq. Ft. - 4 Bedrooms                 4991\n",
       "Median Listing Price / Sq. Ft. - 5 Bedrooms or More         4991\n",
       "Median Listing Price / Sq. Ft. (All Home Types)             4991\n",
       "Median Listing Price / Sq. Ft. - Condo/Cooperative Home     4991\n",
       "Median Listing Price / Sq. Ft. - Duplex/Triplex             4991\n",
       "Median Listing Price / Sq. Ft. - Single Family Residence    4991\n",
       "Zillow Home Value Index / Sq. Ft. (All Home Types)          4991\n",
       "Zillow Home Value Index - 1 Bedroom                         4991\n",
       "Zillow Home Value Index - 2 Bedrooms                        4991\n",
       "Zillow Home Value Index - 3 Bedrooms                        4991\n",
       "Zillow Home Value Index - 4 Bedrooms                        4991\n",
       "Zillow Home Value Index - 5 Bedrooms or More                4991\n",
       "Zillow Home Value Index (All Home Types)                    4991\n",
       "Zillow Home Value Index - Condo/Cooperative Home            4991\n",
       "Zillow Home Value Index - Single Family Residency           4991\n",
       "dtype: int64"
      ]
     },
     "execution_count": 175,
     "metadata": {},
     "output_type": "execute_result"
    }
   ],
   "source": [
    "# getting the value counts for each row to check for missing values\n",
    "df.count()"
   ]
  },
  {
   "cell_type": "code",
   "execution_count": 176,
   "metadata": {},
   "outputs": [
    {
     "data": {
      "text/plain": [
       "Year                                                        0\n",
       "State                                                       0\n",
       "Number of Sales                                             0\n",
       "Sale Price                                                  0\n",
       "Days on Zillow (All Home Types)                             0\n",
       "Inventory (All Home Types)                                  0\n",
       "Median Listing Price / Sq. Ft. - 1 Bedroom                  0\n",
       "Median Listing Price / Sq. Ft. - 2 Bedrooms                 0\n",
       "Median Listing Price / Sq. Ft. - 3 Bedrooms                 0\n",
       "Median Listing Price / Sq. Ft. - 4 Bedrooms                 0\n",
       "Median Listing Price / Sq. Ft. - 5 Bedrooms or More         0\n",
       "Median Listing Price / Sq. Ft. (All Home Types)             0\n",
       "Median Listing Price / Sq. Ft. - Condo/Cooperative Home     0\n",
       "Median Listing Price / Sq. Ft. - Duplex/Triplex             0\n",
       "Median Listing Price / Sq. Ft. - Single Family Residence    0\n",
       "Zillow Home Value Index / Sq. Ft. (All Home Types)          0\n",
       "Zillow Home Value Index - 1 Bedroom                         0\n",
       "Zillow Home Value Index - 2 Bedrooms                        0\n",
       "Zillow Home Value Index - 3 Bedrooms                        0\n",
       "Zillow Home Value Index - 4 Bedrooms                        0\n",
       "Zillow Home Value Index - 5 Bedrooms or More                0\n",
       "Zillow Home Value Index (All Home Types)                    0\n",
       "Zillow Home Value Index - Condo/Cooperative Home            0\n",
       "Zillow Home Value Index - Single Family Residency           0\n",
       "dtype: int64"
      ]
     },
     "execution_count": 176,
     "metadata": {},
     "output_type": "execute_result"
    }
   ],
   "source": [
    "df.isnull().sum()"
   ]
  },
  {
   "cell_type": "code",
   "execution_count": 177,
   "metadata": {},
   "outputs": [
    {
     "data": {
      "text/plain": [
       "Year                                                         object\n",
       "State                                                        object\n",
       "Number of Sales                                             float64\n",
       "Sale Price                                                  float64\n",
       "Days on Zillow (All Home Types)                             float64\n",
       "Inventory (All Home Types)                                  float64\n",
       "Median Listing Price / Sq. Ft. - 1 Bedroom                  float64\n",
       "Median Listing Price / Sq. Ft. - 2 Bedrooms                 float64\n",
       "Median Listing Price / Sq. Ft. - 3 Bedrooms                 float64\n",
       "Median Listing Price / Sq. Ft. - 4 Bedrooms                 float64\n",
       "Median Listing Price / Sq. Ft. - 5 Bedrooms or More         float64\n",
       "Median Listing Price / Sq. Ft. (All Home Types)             float64\n",
       "Median Listing Price / Sq. Ft. - Condo/Cooperative Home     float64\n",
       "Median Listing Price / Sq. Ft. - Duplex/Triplex             float64\n",
       "Median Listing Price / Sq. Ft. - Single Family Residence    float64\n",
       "Zillow Home Value Index / Sq. Ft. (All Home Types)          float64\n",
       "Zillow Home Value Index - 1 Bedroom                         float64\n",
       "Zillow Home Value Index - 2 Bedrooms                        float64\n",
       "Zillow Home Value Index - 3 Bedrooms                        float64\n",
       "Zillow Home Value Index - 4 Bedrooms                        float64\n",
       "Zillow Home Value Index - 5 Bedrooms or More                float64\n",
       "Zillow Home Value Index (All Home Types)                    float64\n",
       "Zillow Home Value Index - Condo/Cooperative Home            float64\n",
       "Zillow Home Value Index - Single Family Residency           float64\n",
       "dtype: object"
      ]
     },
     "execution_count": 177,
     "metadata": {},
     "output_type": "execute_result"
    }
   ],
   "source": [
    "df.dtypes"
   ]
  },
  {
   "cell_type": "code",
   "execution_count": 178,
   "metadata": {},
   "outputs": [
    {
     "name": "stderr",
     "output_type": "stream",
     "text": [
      "/Applications/anaconda3/lib/python3.7/site-packages/ipykernel_launcher.py:2: SettingWithCopyWarning: \n",
      "A value is trying to be set on a copy of a slice from a DataFrame.\n",
      "Try using .loc[row_indexer,col_indexer] = value instead\n",
      "\n",
      "See the caveats in the documentation: http://pandas.pydata.org/pandas-docs/stable/user_guide/indexing.html#returning-a-view-versus-a-copy\n",
      "  \n"
     ]
    }
   ],
   "source": [
    "# converting the data-type for 'Year' to 'int' again\n",
    "df['Year'] = df['Year'].astype(int)"
   ]
  },
  {
   "cell_type": "code",
   "execution_count": 179,
   "metadata": {},
   "outputs": [
    {
     "data": {
      "text/plain": [
       "Year                                                          int64\n",
       "State                                                        object\n",
       "Number of Sales                                             float64\n",
       "Sale Price                                                  float64\n",
       "Days on Zillow (All Home Types)                             float64\n",
       "Inventory (All Home Types)                                  float64\n",
       "Median Listing Price / Sq. Ft. - 1 Bedroom                  float64\n",
       "Median Listing Price / Sq. Ft. - 2 Bedrooms                 float64\n",
       "Median Listing Price / Sq. Ft. - 3 Bedrooms                 float64\n",
       "Median Listing Price / Sq. Ft. - 4 Bedrooms                 float64\n",
       "Median Listing Price / Sq. Ft. - 5 Bedrooms or More         float64\n",
       "Median Listing Price / Sq. Ft. (All Home Types)             float64\n",
       "Median Listing Price / Sq. Ft. - Condo/Cooperative Home     float64\n",
       "Median Listing Price / Sq. Ft. - Duplex/Triplex             float64\n",
       "Median Listing Price / Sq. Ft. - Single Family Residence    float64\n",
       "Zillow Home Value Index / Sq. Ft. (All Home Types)          float64\n",
       "Zillow Home Value Index - 1 Bedroom                         float64\n",
       "Zillow Home Value Index - 2 Bedrooms                        float64\n",
       "Zillow Home Value Index - 3 Bedrooms                        float64\n",
       "Zillow Home Value Index - 4 Bedrooms                        float64\n",
       "Zillow Home Value Index - 5 Bedrooms or More                float64\n",
       "Zillow Home Value Index (All Home Types)                    float64\n",
       "Zillow Home Value Index - Condo/Cooperative Home            float64\n",
       "Zillow Home Value Index - Single Family Residency           float64\n",
       "dtype: object"
      ]
     },
     "execution_count": 179,
     "metadata": {},
     "output_type": "execute_result"
    }
   ],
   "source": [
    "df.dtypes"
   ]
  },
  {
   "cell_type": "code",
   "execution_count": 180,
   "metadata": {},
   "outputs": [
    {
     "data": {
      "text/plain": [
       "['Year',\n",
       " 'State',\n",
       " 'Number of Sales',\n",
       " 'Sale Price',\n",
       " 'Days on Zillow (All Home Types)',\n",
       " 'Inventory (All Home Types)',\n",
       " 'Median Listing Price / Sq. Ft. - 1 Bedroom',\n",
       " 'Median Listing Price / Sq. Ft. - 2 Bedrooms',\n",
       " 'Median Listing Price / Sq. Ft. - 3 Bedrooms',\n",
       " 'Median Listing Price / Sq. Ft. - 4 Bedrooms',\n",
       " 'Median Listing Price / Sq. Ft. - 5 Bedrooms or More',\n",
       " 'Median Listing Price / Sq. Ft. (All Home Types)',\n",
       " 'Median Listing Price / Sq. Ft. - Condo/Cooperative Home',\n",
       " 'Median Listing Price / Sq. Ft. - Duplex/Triplex',\n",
       " 'Median Listing Price / Sq. Ft. - Single Family Residence',\n",
       " 'Zillow Home Value Index / Sq. Ft. (All Home Types)',\n",
       " 'Zillow Home Value Index - 1 Bedroom',\n",
       " 'Zillow Home Value Index - 2 Bedrooms',\n",
       " 'Zillow Home Value Index - 3 Bedrooms',\n",
       " 'Zillow Home Value Index - 4 Bedrooms',\n",
       " 'Zillow Home Value Index - 5 Bedrooms or More',\n",
       " 'Zillow Home Value Index (All Home Types)',\n",
       " 'Zillow Home Value Index - Condo/Cooperative Home',\n",
       " 'Zillow Home Value Index - Single Family Residency']"
      ]
     },
     "execution_count": 180,
     "metadata": {},
     "output_type": "execute_result"
    }
   ],
   "source": [
    "list(df.columns)"
   ]
  },
  {
   "cell_type": "markdown",
   "metadata": {},
   "source": [
    "'Number of Sales',\n",
    "'Days on Zillow (All Home Types)',\n",
    "'Median Listing Price / Sq. Ft. - 1 Bedroom',\n",
    "'Median Listing Price / Sq. Ft. - 2 Bedrooms',\n",
    "'Median Listing Price / Sq. Ft. - 3 Bedrooms',\n",
    "'Median Listing Price / Sq. Ft. - 4 Bedrooms',\n",
    "'Median Listing Price / Sq. Ft. - 5 Bedrooms or More',\n",
    " \n",
    "'Median Listing Price / Sq. Ft. (All Home Types)',\n",
    "'Median Listing Price / Sq. Ft. - Condo/Cooperative Home',\n",
    "'Median Listing Price / Sq. Ft. - Single Family Residence',\n",
    "'Median Listing Price / Sq. Ft. - Duplex/Triplex',\n",
    "\n",
    "'Zillow Home Value Index / Sq. Ft. (All Home Types)',\n",
    " \n",
    "'Zillow Home Value Index - 1 Bedroom',\n",
    "'Zillow Home Value Index - 2 Bedrooms',\n",
    "'Zillow Home Value Index - 3 Bedrooms',\n",
    "'Zillow Home Value Index - 4 Bedrooms',\n",
    "'Zillow Home Value Index - 5 Bedrooms or More'"
   ]
  },
  {
   "cell_type": "code",
   "execution_count": null,
   "metadata": {},
   "outputs": [],
   "source": []
  },
  {
   "cell_type": "code",
   "execution_count": null,
   "metadata": {},
   "outputs": [],
   "source": []
  },
  {
   "cell_type": "code",
   "execution_count": 181,
   "metadata": {},
   "outputs": [],
   "source": [
    "df.to_csv('zillow_state_data_clean.csv')"
   ]
  },
  {
   "cell_type": "markdown",
   "metadata": {},
   "source": [
    "#### Comparing descriptive statistices of df before and after replacing missing values"
   ]
  },
  {
   "cell_type": "code",
   "execution_count": 182,
   "metadata": {},
   "outputs": [
    {
     "data": {
      "text/html": [
       "<div>\n",
       "<style scoped>\n",
       "    .dataframe tbody tr th:only-of-type {\n",
       "        vertical-align: middle;\n",
       "    }\n",
       "\n",
       "    .dataframe tbody tr th {\n",
       "        vertical-align: top;\n",
       "    }\n",
       "\n",
       "    .dataframe thead th {\n",
       "        text-align: right;\n",
       "    }\n",
       "</style>\n",
       "<table border=\"1\" class=\"dataframe\">\n",
       "  <thead>\n",
       "    <tr style=\"text-align: right;\">\n",
       "      <th></th>\n",
       "      <th>Year</th>\n",
       "      <th>Number of Sales</th>\n",
       "      <th>Sale Price</th>\n",
       "      <th>Days on Zillow (All Home Types)</th>\n",
       "      <th>Inventory (All Home Types)</th>\n",
       "      <th>Median Listing Price / Sq. Ft. - 1 Bedroom</th>\n",
       "      <th>Median Listing Price / Sq. Ft. - 2 Bedrooms</th>\n",
       "      <th>Median Listing Price / Sq. Ft. - 3 Bedrooms</th>\n",
       "      <th>Median Listing Price / Sq. Ft. - 4 Bedrooms</th>\n",
       "      <th>Median Listing Price / Sq. Ft. - 5 Bedrooms or More</th>\n",
       "      <th>...</th>\n",
       "      <th>Median Listing Price / Sq. Ft. - Single Family Residence</th>\n",
       "      <th>Zillow Home Value Index / Sq. Ft. (All Home Types)</th>\n",
       "      <th>Zillow Home Value Index - 1 Bedroom</th>\n",
       "      <th>Zillow Home Value Index - 2 Bedrooms</th>\n",
       "      <th>Zillow Home Value Index - 3 Bedrooms</th>\n",
       "      <th>Zillow Home Value Index - 4 Bedrooms</th>\n",
       "      <th>Zillow Home Value Index - 5 Bedrooms or More</th>\n",
       "      <th>Zillow Home Value Index (All Home Types)</th>\n",
       "      <th>Zillow Home Value Index - Condo/Cooperative Home</th>\n",
       "      <th>Zillow Home Value Index - Single Family Residency</th>\n",
       "    </tr>\n",
       "  </thead>\n",
       "  <tbody>\n",
       "    <tr>\n",
       "      <td>count</td>\n",
       "      <td>4991.000000</td>\n",
       "      <td>4385.000000</td>\n",
       "      <td>3378.000000</td>\n",
       "      <td>4845.000000</td>\n",
       "      <td>4896.000000</td>\n",
       "      <td>3586.000000</td>\n",
       "      <td>4534.000000</td>\n",
       "      <td>4607.000000</td>\n",
       "      <td>4677.000000</td>\n",
       "      <td>4569.000000</td>\n",
       "      <td>...</td>\n",
       "      <td>4639.000000</td>\n",
       "      <td>4800.000000</td>\n",
       "      <td>4091.000000</td>\n",
       "      <td>4493.000000</td>\n",
       "      <td>4870.000000</td>\n",
       "      <td>4704.000000</td>\n",
       "      <td>4.593000e+03</td>\n",
       "      <td>4800.000000</td>\n",
       "      <td>4416.000000</td>\n",
       "      <td>4800.000000</td>\n",
       "    </tr>\n",
       "    <tr>\n",
       "      <td>mean</td>\n",
       "      <td>2013.499299</td>\n",
       "      <td>7305.294413</td>\n",
       "      <td>196560.153937</td>\n",
       "      <td>110.117363</td>\n",
       "      <td>33299.013685</td>\n",
       "      <td>182.470536</td>\n",
       "      <td>135.490657</td>\n",
       "      <td>129.448515</td>\n",
       "      <td>133.458743</td>\n",
       "      <td>135.668871</td>\n",
       "      <td>...</td>\n",
       "      <td>133.365928</td>\n",
       "      <td>129.951042</td>\n",
       "      <td>127825.788316</td>\n",
       "      <td>148431.916314</td>\n",
       "      <td>186384.209446</td>\n",
       "      <td>273719.791667</td>\n",
       "      <td>3.633687e+05</td>\n",
       "      <td>189077.520833</td>\n",
       "      <td>175222.509058</td>\n",
       "      <td>194192.791667</td>\n",
       "    </tr>\n",
       "    <tr>\n",
       "      <td>std</td>\n",
       "      <td>2.291211</td>\n",
       "      <td>8222.160011</td>\n",
       "      <td>76514.298487</td>\n",
       "      <td>27.474195</td>\n",
       "      <td>35014.163714</td>\n",
       "      <td>99.809488</td>\n",
       "      <td>74.250919</td>\n",
       "      <td>58.837700</td>\n",
       "      <td>58.339837</td>\n",
       "      <td>64.920918</td>\n",
       "      <td>...</td>\n",
       "      <td>60.791034</td>\n",
       "      <td>69.877849</td>\n",
       "      <td>66362.877635</td>\n",
       "      <td>79475.620269</td>\n",
       "      <td>85503.921637</td>\n",
       "      <td>112471.622945</td>\n",
       "      <td>1.834682e+05</td>\n",
       "      <td>87430.644540</td>\n",
       "      <td>92614.380450</td>\n",
       "      <td>98409.053353</td>\n",
       "    </tr>\n",
       "    <tr>\n",
       "      <td>min</td>\n",
       "      <td>2010.000000</td>\n",
       "      <td>181.000000</td>\n",
       "      <td>83800.000000</td>\n",
       "      <td>49.250000</td>\n",
       "      <td>911.000000</td>\n",
       "      <td>57.142857</td>\n",
       "      <td>60.000000</td>\n",
       "      <td>56.476684</td>\n",
       "      <td>61.804124</td>\n",
       "      <td>63.775510</td>\n",
       "      <td>...</td>\n",
       "      <td>63.270925</td>\n",
       "      <td>63.000000</td>\n",
       "      <td>44400.000000</td>\n",
       "      <td>49900.000000</td>\n",
       "      <td>97100.000000</td>\n",
       "      <td>135200.000000</td>\n",
       "      <td>1.599000e+05</td>\n",
       "      <td>87700.000000</td>\n",
       "      <td>64000.000000</td>\n",
       "      <td>86100.000000</td>\n",
       "    </tr>\n",
       "    <tr>\n",
       "      <td>25%</td>\n",
       "      <td>2011.500000</td>\n",
       "      <td>1727.000000</td>\n",
       "      <td>137900.000000</td>\n",
       "      <td>90.250000</td>\n",
       "      <td>9756.250000</td>\n",
       "      <td>125.688504</td>\n",
       "      <td>92.158518</td>\n",
       "      <td>93.282743</td>\n",
       "      <td>99.601594</td>\n",
       "      <td>99.082187</td>\n",
       "      <td>...</td>\n",
       "      <td>95.553676</td>\n",
       "      <td>85.000000</td>\n",
       "      <td>83200.000000</td>\n",
       "      <td>92600.000000</td>\n",
       "      <td>128700.000000</td>\n",
       "      <td>207100.000000</td>\n",
       "      <td>2.582000e+05</td>\n",
       "      <td>124400.000000</td>\n",
       "      <td>121375.000000</td>\n",
       "      <td>124675.000000</td>\n",
       "    </tr>\n",
       "    <tr>\n",
       "      <td>50%</td>\n",
       "      <td>2013.000000</td>\n",
       "      <td>4692.000000</td>\n",
       "      <td>181600.000000</td>\n",
       "      <td>108.500000</td>\n",
       "      <td>21289.000000</td>\n",
       "      <td>162.754210</td>\n",
       "      <td>121.300723</td>\n",
       "      <td>116.626794</td>\n",
       "      <td>119.816221</td>\n",
       "      <td>119.751076</td>\n",
       "      <td>...</td>\n",
       "      <td>120.093458</td>\n",
       "      <td>117.000000</td>\n",
       "      <td>111500.000000</td>\n",
       "      <td>131400.000000</td>\n",
       "      <td>154900.000000</td>\n",
       "      <td>239300.000000</td>\n",
       "      <td>3.218000e+05</td>\n",
       "      <td>165500.000000</td>\n",
       "      <td>151100.000000</td>\n",
       "      <td>167550.000000</td>\n",
       "    </tr>\n",
       "    <tr>\n",
       "      <td>75%</td>\n",
       "      <td>2015.000000</td>\n",
       "      <td>9648.000000</td>\n",
       "      <td>236575.000000</td>\n",
       "      <td>126.750000</td>\n",
       "      <td>46891.000000</td>\n",
       "      <td>202.629803</td>\n",
       "      <td>152.242031</td>\n",
       "      <td>143.188721</td>\n",
       "      <td>144.752714</td>\n",
       "      <td>149.352921</td>\n",
       "      <td>...</td>\n",
       "      <td>149.841529</td>\n",
       "      <td>148.000000</td>\n",
       "      <td>151700.000000</td>\n",
       "      <td>173400.000000</td>\n",
       "      <td>217800.000000</td>\n",
       "      <td>310300.000000</td>\n",
       "      <td>3.988000e+05</td>\n",
       "      <td>223850.000000</td>\n",
       "      <td>184500.000000</td>\n",
       "      <td>226725.000000</td>\n",
       "    </tr>\n",
       "    <tr>\n",
       "      <td>max</td>\n",
       "      <td>2017.000000</td>\n",
       "      <td>50275.000000</td>\n",
       "      <td>543100.000000</td>\n",
       "      <td>251.625000</td>\n",
       "      <td>268055.000000</td>\n",
       "      <td>627.551020</td>\n",
       "      <td>550.639135</td>\n",
       "      <td>460.465116</td>\n",
       "      <td>480.769231</td>\n",
       "      <td>617.955266</td>\n",
       "      <td>...</td>\n",
       "      <td>475.356577</td>\n",
       "      <td>499.000000</td>\n",
       "      <td>390200.000000</td>\n",
       "      <td>542400.000000</td>\n",
       "      <td>639700.000000</td>\n",
       "      <td>850400.000000</td>\n",
       "      <td>1.497000e+06</td>\n",
       "      <td>620400.000000</td>\n",
       "      <td>782900.000000</td>\n",
       "      <td>737500.000000</td>\n",
       "    </tr>\n",
       "  </tbody>\n",
       "</table>\n",
       "<p>8 rows × 23 columns</p>\n",
       "</div>"
      ],
      "text/plain": [
       "              Year  Number of Sales     Sale Price  \\\n",
       "count  4991.000000      4385.000000    3378.000000   \n",
       "mean   2013.499299      7305.294413  196560.153937   \n",
       "std       2.291211      8222.160011   76514.298487   \n",
       "min    2010.000000       181.000000   83800.000000   \n",
       "25%    2011.500000      1727.000000  137900.000000   \n",
       "50%    2013.000000      4692.000000  181600.000000   \n",
       "75%    2015.000000      9648.000000  236575.000000   \n",
       "max    2017.000000     50275.000000  543100.000000   \n",
       "\n",
       "       Days on Zillow (All Home Types)  Inventory (All Home Types)  \\\n",
       "count                      4845.000000                 4896.000000   \n",
       "mean                        110.117363                33299.013685   \n",
       "std                          27.474195                35014.163714   \n",
       "min                          49.250000                  911.000000   \n",
       "25%                          90.250000                 9756.250000   \n",
       "50%                         108.500000                21289.000000   \n",
       "75%                         126.750000                46891.000000   \n",
       "max                         251.625000               268055.000000   \n",
       "\n",
       "       Median Listing Price / Sq. Ft. - 1 Bedroom  \\\n",
       "count                                 3586.000000   \n",
       "mean                                   182.470536   \n",
       "std                                     99.809488   \n",
       "min                                     57.142857   \n",
       "25%                                    125.688504   \n",
       "50%                                    162.754210   \n",
       "75%                                    202.629803   \n",
       "max                                    627.551020   \n",
       "\n",
       "       Median Listing Price / Sq. Ft. - 2 Bedrooms  \\\n",
       "count                                  4534.000000   \n",
       "mean                                    135.490657   \n",
       "std                                      74.250919   \n",
       "min                                      60.000000   \n",
       "25%                                      92.158518   \n",
       "50%                                     121.300723   \n",
       "75%                                     152.242031   \n",
       "max                                     550.639135   \n",
       "\n",
       "       Median Listing Price / Sq. Ft. - 3 Bedrooms  \\\n",
       "count                                  4607.000000   \n",
       "mean                                    129.448515   \n",
       "std                                      58.837700   \n",
       "min                                      56.476684   \n",
       "25%                                      93.282743   \n",
       "50%                                     116.626794   \n",
       "75%                                     143.188721   \n",
       "max                                     460.465116   \n",
       "\n",
       "       Median Listing Price / Sq. Ft. - 4 Bedrooms  \\\n",
       "count                                  4677.000000   \n",
       "mean                                    133.458743   \n",
       "std                                      58.339837   \n",
       "min                                      61.804124   \n",
       "25%                                      99.601594   \n",
       "50%                                     119.816221   \n",
       "75%                                     144.752714   \n",
       "max                                     480.769231   \n",
       "\n",
       "       Median Listing Price / Sq. Ft. - 5 Bedrooms or More  ...  \\\n",
       "count                                        4569.000000    ...   \n",
       "mean                                          135.668871    ...   \n",
       "std                                            64.920918    ...   \n",
       "min                                            63.775510    ...   \n",
       "25%                                            99.082187    ...   \n",
       "50%                                           119.751076    ...   \n",
       "75%                                           149.352921    ...   \n",
       "max                                           617.955266    ...   \n",
       "\n",
       "       Median Listing Price / Sq. Ft. - Single Family Residence  \\\n",
       "count                                        4639.000000          \n",
       "mean                                          133.365928          \n",
       "std                                            60.791034          \n",
       "min                                            63.270925          \n",
       "25%                                            95.553676          \n",
       "50%                                           120.093458          \n",
       "75%                                           149.841529          \n",
       "max                                           475.356577          \n",
       "\n",
       "       Zillow Home Value Index / Sq. Ft. (All Home Types)  \\\n",
       "count                                        4800.000000    \n",
       "mean                                          129.951042    \n",
       "std                                            69.877849    \n",
       "min                                            63.000000    \n",
       "25%                                            85.000000    \n",
       "50%                                           117.000000    \n",
       "75%                                           148.000000    \n",
       "max                                           499.000000    \n",
       "\n",
       "       Zillow Home Value Index - 1 Bedroom  \\\n",
       "count                          4091.000000   \n",
       "mean                         127825.788316   \n",
       "std                           66362.877635   \n",
       "min                           44400.000000   \n",
       "25%                           83200.000000   \n",
       "50%                          111500.000000   \n",
       "75%                          151700.000000   \n",
       "max                          390200.000000   \n",
       "\n",
       "       Zillow Home Value Index - 2 Bedrooms  \\\n",
       "count                           4493.000000   \n",
       "mean                          148431.916314   \n",
       "std                            79475.620269   \n",
       "min                            49900.000000   \n",
       "25%                            92600.000000   \n",
       "50%                           131400.000000   \n",
       "75%                           173400.000000   \n",
       "max                           542400.000000   \n",
       "\n",
       "       Zillow Home Value Index - 3 Bedrooms  \\\n",
       "count                           4870.000000   \n",
       "mean                          186384.209446   \n",
       "std                            85503.921637   \n",
       "min                            97100.000000   \n",
       "25%                           128700.000000   \n",
       "50%                           154900.000000   \n",
       "75%                           217800.000000   \n",
       "max                           639700.000000   \n",
       "\n",
       "       Zillow Home Value Index - 4 Bedrooms  \\\n",
       "count                           4704.000000   \n",
       "mean                          273719.791667   \n",
       "std                           112471.622945   \n",
       "min                           135200.000000   \n",
       "25%                           207100.000000   \n",
       "50%                           239300.000000   \n",
       "75%                           310300.000000   \n",
       "max                           850400.000000   \n",
       "\n",
       "       Zillow Home Value Index - 5 Bedrooms or More  \\\n",
       "count                                  4.593000e+03   \n",
       "mean                                   3.633687e+05   \n",
       "std                                    1.834682e+05   \n",
       "min                                    1.599000e+05   \n",
       "25%                                    2.582000e+05   \n",
       "50%                                    3.218000e+05   \n",
       "75%                                    3.988000e+05   \n",
       "max                                    1.497000e+06   \n",
       "\n",
       "       Zillow Home Value Index (All Home Types)  \\\n",
       "count                               4800.000000   \n",
       "mean                              189077.520833   \n",
       "std                                87430.644540   \n",
       "min                                87700.000000   \n",
       "25%                               124400.000000   \n",
       "50%                               165500.000000   \n",
       "75%                               223850.000000   \n",
       "max                               620400.000000   \n",
       "\n",
       "       Zillow Home Value Index - Condo/Cooperative Home  \\\n",
       "count                                       4416.000000   \n",
       "mean                                      175222.509058   \n",
       "std                                        92614.380450   \n",
       "min                                        64000.000000   \n",
       "25%                                       121375.000000   \n",
       "50%                                       151100.000000   \n",
       "75%                                       184500.000000   \n",
       "max                                       782900.000000   \n",
       "\n",
       "       Zillow Home Value Index - Single Family Residency  \n",
       "count                                        4800.000000  \n",
       "mean                                       194192.791667  \n",
       "std                                         98409.053353  \n",
       "min                                         86100.000000  \n",
       "25%                                        124675.000000  \n",
       "50%                                        167550.000000  \n",
       "75%                                        226725.000000  \n",
       "max                                        737500.000000  \n",
       "\n",
       "[8 rows x 23 columns]"
      ]
     },
     "execution_count": 182,
     "metadata": {},
     "output_type": "execute_result"
    }
   ],
   "source": [
    "df_des01"
   ]
  },
  {
   "cell_type": "code",
   "execution_count": 183,
   "metadata": {
    "scrolled": true
   },
   "outputs": [
    {
     "data": {
      "text/html": [
       "<div>\n",
       "<style scoped>\n",
       "    .dataframe tbody tr th:only-of-type {\n",
       "        vertical-align: middle;\n",
       "    }\n",
       "\n",
       "    .dataframe tbody tr th {\n",
       "        vertical-align: top;\n",
       "    }\n",
       "\n",
       "    .dataframe thead th {\n",
       "        text-align: right;\n",
       "    }\n",
       "</style>\n",
       "<table border=\"1\" class=\"dataframe\">\n",
       "  <thead>\n",
       "    <tr style=\"text-align: right;\">\n",
       "      <th></th>\n",
       "      <th>Year</th>\n",
       "      <th>Number of Sales</th>\n",
       "      <th>Sale Price</th>\n",
       "      <th>Days on Zillow (All Home Types)</th>\n",
       "      <th>Inventory (All Home Types)</th>\n",
       "      <th>Median Listing Price / Sq. Ft. - 1 Bedroom</th>\n",
       "      <th>Median Listing Price / Sq. Ft. - 2 Bedrooms</th>\n",
       "      <th>Median Listing Price / Sq. Ft. - 3 Bedrooms</th>\n",
       "      <th>Median Listing Price / Sq. Ft. - 4 Bedrooms</th>\n",
       "      <th>Median Listing Price / Sq. Ft. - 5 Bedrooms or More</th>\n",
       "      <th>...</th>\n",
       "      <th>Median Listing Price / Sq. Ft. - Single Family Residence</th>\n",
       "      <th>Zillow Home Value Index / Sq. Ft. (All Home Types)</th>\n",
       "      <th>Zillow Home Value Index - 1 Bedroom</th>\n",
       "      <th>Zillow Home Value Index - 2 Bedrooms</th>\n",
       "      <th>Zillow Home Value Index - 3 Bedrooms</th>\n",
       "      <th>Zillow Home Value Index - 4 Bedrooms</th>\n",
       "      <th>Zillow Home Value Index - 5 Bedrooms or More</th>\n",
       "      <th>Zillow Home Value Index (All Home Types)</th>\n",
       "      <th>Zillow Home Value Index - Condo/Cooperative Home</th>\n",
       "      <th>Zillow Home Value Index - Single Family Residency</th>\n",
       "    </tr>\n",
       "  </thead>\n",
       "  <tbody>\n",
       "    <tr>\n",
       "      <td>count</td>\n",
       "      <td>4991.000000</td>\n",
       "      <td>4991.000000</td>\n",
       "      <td>4991.000000</td>\n",
       "      <td>4991.000000</td>\n",
       "      <td>4991.000000</td>\n",
       "      <td>4991.000000</td>\n",
       "      <td>4991.000000</td>\n",
       "      <td>4991.000000</td>\n",
       "      <td>4991.000000</td>\n",
       "      <td>4991.000000</td>\n",
       "      <td>...</td>\n",
       "      <td>4991.000000</td>\n",
       "      <td>4991.000000</td>\n",
       "      <td>4991.000000</td>\n",
       "      <td>4991.000000</td>\n",
       "      <td>4991.000000</td>\n",
       "      <td>4991.000000</td>\n",
       "      <td>4.991000e+03</td>\n",
       "      <td>4991.000000</td>\n",
       "      <td>4991.000000</td>\n",
       "      <td>4991.000000</td>\n",
       "    </tr>\n",
       "    <tr>\n",
       "      <td>mean</td>\n",
       "      <td>2013.499299</td>\n",
       "      <td>6985.517231</td>\n",
       "      <td>194464.676418</td>\n",
       "      <td>109.790773</td>\n",
       "      <td>33088.543779</td>\n",
       "      <td>179.515990</td>\n",
       "      <td>137.726790</td>\n",
       "      <td>131.304949</td>\n",
       "      <td>135.900104</td>\n",
       "      <td>138.347616</td>\n",
       "      <td>...</td>\n",
       "      <td>133.857156</td>\n",
       "      <td>129.946965</td>\n",
       "      <td>127252.320319</td>\n",
       "      <td>148482.821783</td>\n",
       "      <td>186425.046907</td>\n",
       "      <td>273711.911372</td>\n",
       "      <td>3.630234e+05</td>\n",
       "      <td>189071.376878</td>\n",
       "      <td>175215.983771</td>\n",
       "      <td>194186.508115</td>\n",
       "    </tr>\n",
       "    <tr>\n",
       "      <td>std</td>\n",
       "      <td>2.291211</td>\n",
       "      <td>7833.100324</td>\n",
       "      <td>66320.934033</td>\n",
       "      <td>27.319204</td>\n",
       "      <td>34716.019363</td>\n",
       "      <td>88.498147</td>\n",
       "      <td>76.736409</td>\n",
       "      <td>60.294343</td>\n",
       "      <td>60.729248</td>\n",
       "      <td>69.312241</td>\n",
       "      <td>...</td>\n",
       "      <td>59.775404</td>\n",
       "      <td>68.561283</td>\n",
       "      <td>60496.983707</td>\n",
       "      <td>75524.912231</td>\n",
       "      <td>84506.969163</td>\n",
       "      <td>109320.850397</td>\n",
       "      <td>1.762734e+05</td>\n",
       "      <td>85799.707795</td>\n",
       "      <td>87303.909012</td>\n",
       "      <td>96562.669202</td>\n",
       "    </tr>\n",
       "    <tr>\n",
       "      <td>min</td>\n",
       "      <td>2010.000000</td>\n",
       "      <td>181.000000</td>\n",
       "      <td>83800.000000</td>\n",
       "      <td>49.250000</td>\n",
       "      <td>911.000000</td>\n",
       "      <td>57.142857</td>\n",
       "      <td>60.000000</td>\n",
       "      <td>56.476684</td>\n",
       "      <td>61.804124</td>\n",
       "      <td>63.775510</td>\n",
       "      <td>...</td>\n",
       "      <td>63.270925</td>\n",
       "      <td>63.000000</td>\n",
       "      <td>44400.000000</td>\n",
       "      <td>49900.000000</td>\n",
       "      <td>97100.000000</td>\n",
       "      <td>135200.000000</td>\n",
       "      <td>1.599000e+05</td>\n",
       "      <td>87700.000000</td>\n",
       "      <td>64000.000000</td>\n",
       "      <td>86100.000000</td>\n",
       "    </tr>\n",
       "    <tr>\n",
       "      <td>25%</td>\n",
       "      <td>2011.500000</td>\n",
       "      <td>1876.500000</td>\n",
       "      <td>150050.000000</td>\n",
       "      <td>90.125000</td>\n",
       "      <td>10041.500000</td>\n",
       "      <td>130.038498</td>\n",
       "      <td>93.295987</td>\n",
       "      <td>93.980101</td>\n",
       "      <td>100.789796</td>\n",
       "      <td>99.808604</td>\n",
       "      <td>...</td>\n",
       "      <td>96.639280</td>\n",
       "      <td>86.000000</td>\n",
       "      <td>88100.000000</td>\n",
       "      <td>95350.000000</td>\n",
       "      <td>129200.000000</td>\n",
       "      <td>209300.000000</td>\n",
       "      <td>2.629500e+05</td>\n",
       "      <td>125300.000000</td>\n",
       "      <td>123800.000000</td>\n",
       "      <td>125600.000000</td>\n",
       "    </tr>\n",
       "    <tr>\n",
       "      <td>50%</td>\n",
       "      <td>2013.000000</td>\n",
       "      <td>4704.000000</td>\n",
       "      <td>180150.000000</td>\n",
       "      <td>108.250000</td>\n",
       "      <td>21167.500000</td>\n",
       "      <td>170.113266</td>\n",
       "      <td>122.977206</td>\n",
       "      <td>119.271575</td>\n",
       "      <td>121.904315</td>\n",
       "      <td>121.376706</td>\n",
       "      <td>...</td>\n",
       "      <td>121.588980</td>\n",
       "      <td>120.000000</td>\n",
       "      <td>118600.000000</td>\n",
       "      <td>139416.312057</td>\n",
       "      <td>157900.000000</td>\n",
       "      <td>244900.000000</td>\n",
       "      <td>3.281000e+05</td>\n",
       "      <td>170773.000000</td>\n",
       "      <td>156415.217391</td>\n",
       "      <td>173900.000000</td>\n",
       "    </tr>\n",
       "    <tr>\n",
       "      <td>75%</td>\n",
       "      <td>2015.000000</td>\n",
       "      <td>8925.000000</td>\n",
       "      <td>219800.000000</td>\n",
       "      <td>126.000000</td>\n",
       "      <td>46140.500000</td>\n",
       "      <td>196.638068</td>\n",
       "      <td>151.418616</td>\n",
       "      <td>143.400149</td>\n",
       "      <td>145.942822</td>\n",
       "      <td>150.153312</td>\n",
       "      <td>...</td>\n",
       "      <td>149.193872</td>\n",
       "      <td>147.000000</td>\n",
       "      <td>147300.000000</td>\n",
       "      <td>171850.000000</td>\n",
       "      <td>217100.000000</td>\n",
       "      <td>306000.000000</td>\n",
       "      <td>3.932366e+05</td>\n",
       "      <td>221200.000000</td>\n",
       "      <td>184450.000000</td>\n",
       "      <td>225300.000000</td>\n",
       "    </tr>\n",
       "    <tr>\n",
       "      <td>max</td>\n",
       "      <td>2017.000000</td>\n",
       "      <td>50275.000000</td>\n",
       "      <td>543100.000000</td>\n",
       "      <td>251.625000</td>\n",
       "      <td>268055.000000</td>\n",
       "      <td>627.551020</td>\n",
       "      <td>550.639135</td>\n",
       "      <td>460.465116</td>\n",
       "      <td>480.769231</td>\n",
       "      <td>617.955266</td>\n",
       "      <td>...</td>\n",
       "      <td>475.356577</td>\n",
       "      <td>499.000000</td>\n",
       "      <td>390200.000000</td>\n",
       "      <td>542400.000000</td>\n",
       "      <td>639700.000000</td>\n",
       "      <td>850400.000000</td>\n",
       "      <td>1.497000e+06</td>\n",
       "      <td>620400.000000</td>\n",
       "      <td>782900.000000</td>\n",
       "      <td>737500.000000</td>\n",
       "    </tr>\n",
       "  </tbody>\n",
       "</table>\n",
       "<p>8 rows × 23 columns</p>\n",
       "</div>"
      ],
      "text/plain": [
       "              Year  Number of Sales     Sale Price  \\\n",
       "count  4991.000000      4991.000000    4991.000000   \n",
       "mean   2013.499299      6985.517231  194464.676418   \n",
       "std       2.291211      7833.100324   66320.934033   \n",
       "min    2010.000000       181.000000   83800.000000   \n",
       "25%    2011.500000      1876.500000  150050.000000   \n",
       "50%    2013.000000      4704.000000  180150.000000   \n",
       "75%    2015.000000      8925.000000  219800.000000   \n",
       "max    2017.000000     50275.000000  543100.000000   \n",
       "\n",
       "       Days on Zillow (All Home Types)  Inventory (All Home Types)  \\\n",
       "count                      4991.000000                 4991.000000   \n",
       "mean                        109.790773                33088.543779   \n",
       "std                          27.319204                34716.019363   \n",
       "min                          49.250000                  911.000000   \n",
       "25%                          90.125000                10041.500000   \n",
       "50%                         108.250000                21167.500000   \n",
       "75%                         126.000000                46140.500000   \n",
       "max                         251.625000               268055.000000   \n",
       "\n",
       "       Median Listing Price / Sq. Ft. - 1 Bedroom  \\\n",
       "count                                 4991.000000   \n",
       "mean                                   179.515990   \n",
       "std                                     88.498147   \n",
       "min                                     57.142857   \n",
       "25%                                    130.038498   \n",
       "50%                                    170.113266   \n",
       "75%                                    196.638068   \n",
       "max                                    627.551020   \n",
       "\n",
       "       Median Listing Price / Sq. Ft. - 2 Bedrooms  \\\n",
       "count                                  4991.000000   \n",
       "mean                                    137.726790   \n",
       "std                                      76.736409   \n",
       "min                                      60.000000   \n",
       "25%                                      93.295987   \n",
       "50%                                     122.977206   \n",
       "75%                                     151.418616   \n",
       "max                                     550.639135   \n",
       "\n",
       "       Median Listing Price / Sq. Ft. - 3 Bedrooms  \\\n",
       "count                                  4991.000000   \n",
       "mean                                    131.304949   \n",
       "std                                      60.294343   \n",
       "min                                      56.476684   \n",
       "25%                                      93.980101   \n",
       "50%                                     119.271575   \n",
       "75%                                     143.400149   \n",
       "max                                     460.465116   \n",
       "\n",
       "       Median Listing Price / Sq. Ft. - 4 Bedrooms  \\\n",
       "count                                  4991.000000   \n",
       "mean                                    135.900104   \n",
       "std                                      60.729248   \n",
       "min                                      61.804124   \n",
       "25%                                     100.789796   \n",
       "50%                                     121.904315   \n",
       "75%                                     145.942822   \n",
       "max                                     480.769231   \n",
       "\n",
       "       Median Listing Price / Sq. Ft. - 5 Bedrooms or More  ...  \\\n",
       "count                                        4991.000000    ...   \n",
       "mean                                          138.347616    ...   \n",
       "std                                            69.312241    ...   \n",
       "min                                            63.775510    ...   \n",
       "25%                                            99.808604    ...   \n",
       "50%                                           121.376706    ...   \n",
       "75%                                           150.153312    ...   \n",
       "max                                           617.955266    ...   \n",
       "\n",
       "       Median Listing Price / Sq. Ft. - Single Family Residence  \\\n",
       "count                                        4991.000000          \n",
       "mean                                          133.857156          \n",
       "std                                            59.775404          \n",
       "min                                            63.270925          \n",
       "25%                                            96.639280          \n",
       "50%                                           121.588980          \n",
       "75%                                           149.193872          \n",
       "max                                           475.356577          \n",
       "\n",
       "       Zillow Home Value Index / Sq. Ft. (All Home Types)  \\\n",
       "count                                        4991.000000    \n",
       "mean                                          129.946965    \n",
       "std                                            68.561283    \n",
       "min                                            63.000000    \n",
       "25%                                            86.000000    \n",
       "50%                                           120.000000    \n",
       "75%                                           147.000000    \n",
       "max                                           499.000000    \n",
       "\n",
       "       Zillow Home Value Index - 1 Bedroom  \\\n",
       "count                          4991.000000   \n",
       "mean                         127252.320319   \n",
       "std                           60496.983707   \n",
       "min                           44400.000000   \n",
       "25%                           88100.000000   \n",
       "50%                          118600.000000   \n",
       "75%                          147300.000000   \n",
       "max                          390200.000000   \n",
       "\n",
       "       Zillow Home Value Index - 2 Bedrooms  \\\n",
       "count                           4991.000000   \n",
       "mean                          148482.821783   \n",
       "std                            75524.912231   \n",
       "min                            49900.000000   \n",
       "25%                            95350.000000   \n",
       "50%                           139416.312057   \n",
       "75%                           171850.000000   \n",
       "max                           542400.000000   \n",
       "\n",
       "       Zillow Home Value Index - 3 Bedrooms  \\\n",
       "count                           4991.000000   \n",
       "mean                          186425.046907   \n",
       "std                            84506.969163   \n",
       "min                            97100.000000   \n",
       "25%                           129200.000000   \n",
       "50%                           157900.000000   \n",
       "75%                           217100.000000   \n",
       "max                           639700.000000   \n",
       "\n",
       "       Zillow Home Value Index - 4 Bedrooms  \\\n",
       "count                           4991.000000   \n",
       "mean                          273711.911372   \n",
       "std                           109320.850397   \n",
       "min                           135200.000000   \n",
       "25%                           209300.000000   \n",
       "50%                           244900.000000   \n",
       "75%                           306000.000000   \n",
       "max                           850400.000000   \n",
       "\n",
       "       Zillow Home Value Index - 5 Bedrooms or More  \\\n",
       "count                                  4.991000e+03   \n",
       "mean                                   3.630234e+05   \n",
       "std                                    1.762734e+05   \n",
       "min                                    1.599000e+05   \n",
       "25%                                    2.629500e+05   \n",
       "50%                                    3.281000e+05   \n",
       "75%                                    3.932366e+05   \n",
       "max                                    1.497000e+06   \n",
       "\n",
       "       Zillow Home Value Index (All Home Types)  \\\n",
       "count                               4991.000000   \n",
       "mean                              189071.376878   \n",
       "std                                85799.707795   \n",
       "min                                87700.000000   \n",
       "25%                               125300.000000   \n",
       "50%                               170773.000000   \n",
       "75%                               221200.000000   \n",
       "max                               620400.000000   \n",
       "\n",
       "       Zillow Home Value Index - Condo/Cooperative Home  \\\n",
       "count                                       4991.000000   \n",
       "mean                                      175215.983771   \n",
       "std                                        87303.909012   \n",
       "min                                        64000.000000   \n",
       "25%                                       123800.000000   \n",
       "50%                                       156415.217391   \n",
       "75%                                       184450.000000   \n",
       "max                                       782900.000000   \n",
       "\n",
       "       Zillow Home Value Index - Single Family Residency  \n",
       "count                                        4991.000000  \n",
       "mean                                       194186.508115  \n",
       "std                                         96562.669202  \n",
       "min                                         86100.000000  \n",
       "25%                                        125600.000000  \n",
       "50%                                        173900.000000  \n",
       "75%                                        225300.000000  \n",
       "max                                        737500.000000  \n",
       "\n",
       "[8 rows x 23 columns]"
      ]
     },
     "execution_count": 183,
     "metadata": {},
     "output_type": "execute_result"
    }
   ],
   "source": [
    "df.describe()"
   ]
  },
  {
   "cell_type": "code",
   "execution_count": 184,
   "metadata": {},
   "outputs": [
    {
     "data": {
      "text/html": [
       "<div>\n",
       "<style scoped>\n",
       "    .dataframe tbody tr th:only-of-type {\n",
       "        vertical-align: middle;\n",
       "    }\n",
       "\n",
       "    .dataframe tbody tr th {\n",
       "        vertical-align: top;\n",
       "    }\n",
       "\n",
       "    .dataframe thead th {\n",
       "        text-align: right;\n",
       "    }\n",
       "</style>\n",
       "<table border=\"1\" class=\"dataframe\">\n",
       "  <thead>\n",
       "    <tr style=\"text-align: right;\">\n",
       "      <th></th>\n",
       "      <th>Number of Sales</th>\n",
       "      <th>Days on Zillow (All Home Types)</th>\n",
       "      <th>Median Listing Price / Sq. Ft. - Condo/Cooperative Home</th>\n",
       "      <th>Median Listing Price / Sq. Ft. - Single Family Residence</th>\n",
       "      <th>Median Listing Price / Sq. Ft. - Duplex/Triplex</th>\n",
       "      <th>Median Listing Price / Sq. Ft. - 1 Bedroom</th>\n",
       "      <th>Median Listing Price / Sq. Ft. - 2 Bedrooms</th>\n",
       "      <th>Median Listing Price / Sq. Ft. - 3 Bedrooms</th>\n",
       "      <th>Median Listing Price / Sq. Ft. - 4 Bedrooms</th>\n",
       "      <th>Median Listing Price / Sq. Ft. - 5 Bedrooms or More</th>\n",
       "    </tr>\n",
       "  </thead>\n",
       "  <tbody>\n",
       "    <tr>\n",
       "      <td>8221</td>\n",
       "      <td>2029.0</td>\n",
       "      <td>169.0</td>\n",
       "      <td>191.654250</td>\n",
       "      <td>94.076655</td>\n",
       "      <td>60.563699</td>\n",
       "      <td>178.208345</td>\n",
       "      <td>98.491968</td>\n",
       "      <td>93.097826</td>\n",
       "      <td>103.935698</td>\n",
       "      <td>110.909091</td>\n",
       "    </tr>\n",
       "    <tr>\n",
       "      <td>8222</td>\n",
       "      <td>530.0</td>\n",
       "      <td>130.0</td>\n",
       "      <td>154.224835</td>\n",
       "      <td>151.328940</td>\n",
       "      <td>119.007937</td>\n",
       "      <td>182.031250</td>\n",
       "      <td>163.351878</td>\n",
       "      <td>154.224835</td>\n",
       "      <td>144.439421</td>\n",
       "      <td>125.418060</td>\n",
       "    </tr>\n",
       "    <tr>\n",
       "      <td>8223</td>\n",
       "      <td>8467.0</td>\n",
       "      <td>112.0</td>\n",
       "      <td>128.199755</td>\n",
       "      <td>128.972292</td>\n",
       "      <td>95.932436</td>\n",
       "      <td>131.684095</td>\n",
       "      <td>118.203977</td>\n",
       "      <td>119.311874</td>\n",
       "      <td>117.471858</td>\n",
       "      <td>112.680372</td>\n",
       "    </tr>\n",
       "    <tr>\n",
       "      <td>8224</td>\n",
       "      <td>1457.0</td>\n",
       "      <td>121.0</td>\n",
       "      <td>116.405063</td>\n",
       "      <td>88.299817</td>\n",
       "      <td>62.500000</td>\n",
       "      <td>113.225801</td>\n",
       "      <td>81.407259</td>\n",
       "      <td>86.213992</td>\n",
       "      <td>94.743421</td>\n",
       "      <td>96.915394</td>\n",
       "    </tr>\n",
       "    <tr>\n",
       "      <td>8225</td>\n",
       "      <td>26615.0</td>\n",
       "      <td>108.0</td>\n",
       "      <td>320.021784</td>\n",
       "      <td>248.296176</td>\n",
       "      <td>183.411765</td>\n",
       "      <td>373.751661</td>\n",
       "      <td>277.214566</td>\n",
       "      <td>244.581172</td>\n",
       "      <td>242.874269</td>\n",
       "      <td>256.557371</td>\n",
       "    </tr>\n",
       "  </tbody>\n",
       "</table>\n",
       "</div>"
      ],
      "text/plain": [
       "      Number of Sales  Days on Zillow (All Home Types)  \\\n",
       "8221           2029.0                            169.0   \n",
       "8222            530.0                            130.0   \n",
       "8223           8467.0                            112.0   \n",
       "8224           1457.0                            121.0   \n",
       "8225          26615.0                            108.0   \n",
       "\n",
       "      Median Listing Price / Sq. Ft. - Condo/Cooperative Home  \\\n",
       "8221                                         191.654250         \n",
       "8222                                         154.224835         \n",
       "8223                                         128.199755         \n",
       "8224                                         116.405063         \n",
       "8225                                         320.021784         \n",
       "\n",
       "      Median Listing Price / Sq. Ft. - Single Family Residence  \\\n",
       "8221                                          94.076655          \n",
       "8222                                         151.328940          \n",
       "8223                                         128.972292          \n",
       "8224                                          88.299817          \n",
       "8225                                         248.296176          \n",
       "\n",
       "      Median Listing Price / Sq. Ft. - Duplex/Triplex  \\\n",
       "8221                                        60.563699   \n",
       "8222                                       119.007937   \n",
       "8223                                        95.932436   \n",
       "8224                                        62.500000   \n",
       "8225                                       183.411765   \n",
       "\n",
       "      Median Listing Price / Sq. Ft. - 1 Bedroom  \\\n",
       "8221                                  178.208345   \n",
       "8222                                  182.031250   \n",
       "8223                                  131.684095   \n",
       "8224                                  113.225801   \n",
       "8225                                  373.751661   \n",
       "\n",
       "      Median Listing Price / Sq. Ft. - 2 Bedrooms  \\\n",
       "8221                                    98.491968   \n",
       "8222                                   163.351878   \n",
       "8223                                   118.203977   \n",
       "8224                                    81.407259   \n",
       "8225                                   277.214566   \n",
       "\n",
       "      Median Listing Price / Sq. Ft. - 3 Bedrooms  \\\n",
       "8221                                    93.097826   \n",
       "8222                                   154.224835   \n",
       "8223                                   119.311874   \n",
       "8224                                    86.213992   \n",
       "8225                                   244.581172   \n",
       "\n",
       "      Median Listing Price / Sq. Ft. - 4 Bedrooms  \\\n",
       "8221                                   103.935698   \n",
       "8222                                   144.439421   \n",
       "8223                                   117.471858   \n",
       "8224                                    94.743421   \n",
       "8225                                   242.874269   \n",
       "\n",
       "      Median Listing Price / Sq. Ft. - 5 Bedrooms or More  \n",
       "8221                                         110.909091    \n",
       "8222                                         125.418060    \n",
       "8223                                         112.680372    \n",
       "8224                                          96.915394    \n",
       "8225                                         256.557371    "
      ]
     },
     "execution_count": 184,
     "metadata": {},
     "output_type": "execute_result"
    }
   ],
   "source": [
    "# creating a dataset with selected columns to explore correlation between them\n",
    "df_corr = df[['Number of Sales',\n",
    "              'Days on Zillow (All Home Types)',\n",
    "              'Median Listing Price / Sq. Ft. - Condo/Cooperative Home',\n",
    "              'Median Listing Price / Sq. Ft. - Single Family Residence',\n",
    "              'Median Listing Price / Sq. Ft. - Duplex/Triplex',\n",
    "              'Median Listing Price / Sq. Ft. - 1 Bedroom',\n",
    "              'Median Listing Price / Sq. Ft. - 2 Bedrooms',\n",
    "              'Median Listing Price / Sq. Ft. - 3 Bedrooms',\n",
    "              'Median Listing Price / Sq. Ft. - 4 Bedrooms',\n",
    "              'Median Listing Price / Sq. Ft. - 5 Bedrooms or More',]]\n",
    "\n",
    "df_corr.head()"
   ]
  },
  {
   "cell_type": "code",
   "execution_count": 185,
   "metadata": {},
   "outputs": [
    {
     "data": {
      "text/html": [
       "<div>\n",
       "<style scoped>\n",
       "    .dataframe tbody tr th:only-of-type {\n",
       "        vertical-align: middle;\n",
       "    }\n",
       "\n",
       "    .dataframe tbody tr th {\n",
       "        vertical-align: top;\n",
       "    }\n",
       "\n",
       "    .dataframe thead th {\n",
       "        text-align: right;\n",
       "    }\n",
       "</style>\n",
       "<table border=\"1\" class=\"dataframe\">\n",
       "  <thead>\n",
       "    <tr style=\"text-align: right;\">\n",
       "      <th></th>\n",
       "      <th>Number of Sales</th>\n",
       "      <th>Days on Zillow (All Home Types)</th>\n",
       "      <th>Median Listing Price / Sq. Ft. - Condo/Cooperative Home</th>\n",
       "      <th>Median Listing Price / Sq. Ft. - Single Family Residence</th>\n",
       "      <th>Median Listing Price / Sq. Ft. - Duplex/Triplex</th>\n",
       "      <th>Median Listing Price / Sq. Ft. - 1 Bedroom</th>\n",
       "      <th>Median Listing Price / Sq. Ft. - 2 Bedrooms</th>\n",
       "      <th>Median Listing Price / Sq. Ft. - 3 Bedrooms</th>\n",
       "      <th>Median Listing Price / Sq. Ft. - 4 Bedrooms</th>\n",
       "      <th>Median Listing Price / Sq. Ft. - 5 Bedrooms or More</th>\n",
       "    </tr>\n",
       "  </thead>\n",
       "  <tbody>\n",
       "    <tr>\n",
       "      <td>Number of Sales</td>\n",
       "      <td>1.000000</td>\n",
       "      <td>-0.197635</td>\n",
       "      <td>0.089535</td>\n",
       "      <td>0.007726</td>\n",
       "      <td>0.209525</td>\n",
       "      <td>0.104213</td>\n",
       "      <td>0.015278</td>\n",
       "      <td>-0.002923</td>\n",
       "      <td>-0.005345</td>\n",
       "      <td>0.042986</td>\n",
       "    </tr>\n",
       "    <tr>\n",
       "      <td>Days on Zillow (All Home Types)</td>\n",
       "      <td>-0.197635</td>\n",
       "      <td>1.000000</td>\n",
       "      <td>0.072383</td>\n",
       "      <td>-0.234857</td>\n",
       "      <td>-0.172453</td>\n",
       "      <td>-0.188586</td>\n",
       "      <td>-0.201385</td>\n",
       "      <td>-0.226280</td>\n",
       "      <td>-0.236444</td>\n",
       "      <td>-0.236872</td>\n",
       "    </tr>\n",
       "    <tr>\n",
       "      <td>Median Listing Price / Sq. Ft. - Condo/Cooperative Home</td>\n",
       "      <td>0.089535</td>\n",
       "      <td>0.072383</td>\n",
       "      <td>1.000000</td>\n",
       "      <td>0.597927</td>\n",
       "      <td>0.634807</td>\n",
       "      <td>0.686050</td>\n",
       "      <td>0.622191</td>\n",
       "      <td>0.557525</td>\n",
       "      <td>0.562512</td>\n",
       "      <td>0.575005</td>\n",
       "    </tr>\n",
       "    <tr>\n",
       "      <td>Median Listing Price / Sq. Ft. - Single Family Residence</td>\n",
       "      <td>0.007726</td>\n",
       "      <td>-0.234857</td>\n",
       "      <td>0.597927</td>\n",
       "      <td>1.000000</td>\n",
       "      <td>0.707190</td>\n",
       "      <td>0.906921</td>\n",
       "      <td>0.973688</td>\n",
       "      <td>0.985776</td>\n",
       "      <td>0.977273</td>\n",
       "      <td>0.906677</td>\n",
       "    </tr>\n",
       "    <tr>\n",
       "      <td>Median Listing Price / Sq. Ft. - Duplex/Triplex</td>\n",
       "      <td>0.209525</td>\n",
       "      <td>-0.172453</td>\n",
       "      <td>0.634807</td>\n",
       "      <td>0.707190</td>\n",
       "      <td>1.000000</td>\n",
       "      <td>0.748320</td>\n",
       "      <td>0.686597</td>\n",
       "      <td>0.686941</td>\n",
       "      <td>0.662995</td>\n",
       "      <td>0.595143</td>\n",
       "    </tr>\n",
       "    <tr>\n",
       "      <td>Median Listing Price / Sq. Ft. - 1 Bedroom</td>\n",
       "      <td>0.104213</td>\n",
       "      <td>-0.188586</td>\n",
       "      <td>0.686050</td>\n",
       "      <td>0.906921</td>\n",
       "      <td>0.748320</td>\n",
       "      <td>1.000000</td>\n",
       "      <td>0.932532</td>\n",
       "      <td>0.899193</td>\n",
       "      <td>0.893930</td>\n",
       "      <td>0.852908</td>\n",
       "    </tr>\n",
       "    <tr>\n",
       "      <td>Median Listing Price / Sq. Ft. - 2 Bedrooms</td>\n",
       "      <td>0.015278</td>\n",
       "      <td>-0.201385</td>\n",
       "      <td>0.622191</td>\n",
       "      <td>0.973688</td>\n",
       "      <td>0.686597</td>\n",
       "      <td>0.932532</td>\n",
       "      <td>1.000000</td>\n",
       "      <td>0.981909</td>\n",
       "      <td>0.977856</td>\n",
       "      <td>0.933332</td>\n",
       "    </tr>\n",
       "    <tr>\n",
       "      <td>Median Listing Price / Sq. Ft. - 3 Bedrooms</td>\n",
       "      <td>-0.002923</td>\n",
       "      <td>-0.226280</td>\n",
       "      <td>0.557525</td>\n",
       "      <td>0.985776</td>\n",
       "      <td>0.686941</td>\n",
       "      <td>0.899193</td>\n",
       "      <td>0.981909</td>\n",
       "      <td>1.000000</td>\n",
       "      <td>0.989106</td>\n",
       "      <td>0.918319</td>\n",
       "    </tr>\n",
       "    <tr>\n",
       "      <td>Median Listing Price / Sq. Ft. - 4 Bedrooms</td>\n",
       "      <td>-0.005345</td>\n",
       "      <td>-0.236444</td>\n",
       "      <td>0.562512</td>\n",
       "      <td>0.977273</td>\n",
       "      <td>0.662995</td>\n",
       "      <td>0.893930</td>\n",
       "      <td>0.977856</td>\n",
       "      <td>0.989106</td>\n",
       "      <td>1.000000</td>\n",
       "      <td>0.949812</td>\n",
       "    </tr>\n",
       "    <tr>\n",
       "      <td>Median Listing Price / Sq. Ft. - 5 Bedrooms or More</td>\n",
       "      <td>0.042986</td>\n",
       "      <td>-0.236872</td>\n",
       "      <td>0.575005</td>\n",
       "      <td>0.906677</td>\n",
       "      <td>0.595143</td>\n",
       "      <td>0.852908</td>\n",
       "      <td>0.933332</td>\n",
       "      <td>0.918319</td>\n",
       "      <td>0.949812</td>\n",
       "      <td>1.000000</td>\n",
       "    </tr>\n",
       "  </tbody>\n",
       "</table>\n",
       "</div>"
      ],
      "text/plain": [
       "                                                    Number of Sales  \\\n",
       "Number of Sales                                            1.000000   \n",
       "Days on Zillow (All Home Types)                           -0.197635   \n",
       "Median Listing Price / Sq. Ft. - Condo/Cooperat...         0.089535   \n",
       "Median Listing Price / Sq. Ft. - Single Family ...         0.007726   \n",
       "Median Listing Price / Sq. Ft. - Duplex/Triplex            0.209525   \n",
       "Median Listing Price / Sq. Ft. - 1 Bedroom                 0.104213   \n",
       "Median Listing Price / Sq. Ft. - 2 Bedrooms                0.015278   \n",
       "Median Listing Price / Sq. Ft. - 3 Bedrooms               -0.002923   \n",
       "Median Listing Price / Sq. Ft. - 4 Bedrooms               -0.005345   \n",
       "Median Listing Price / Sq. Ft. - 5 Bedrooms or ...         0.042986   \n",
       "\n",
       "                                                    Days on Zillow (All Home Types)  \\\n",
       "Number of Sales                                                           -0.197635   \n",
       "Days on Zillow (All Home Types)                                            1.000000   \n",
       "Median Listing Price / Sq. Ft. - Condo/Cooperat...                         0.072383   \n",
       "Median Listing Price / Sq. Ft. - Single Family ...                        -0.234857   \n",
       "Median Listing Price / Sq. Ft. - Duplex/Triplex                           -0.172453   \n",
       "Median Listing Price / Sq. Ft. - 1 Bedroom                                -0.188586   \n",
       "Median Listing Price / Sq. Ft. - 2 Bedrooms                               -0.201385   \n",
       "Median Listing Price / Sq. Ft. - 3 Bedrooms                               -0.226280   \n",
       "Median Listing Price / Sq. Ft. - 4 Bedrooms                               -0.236444   \n",
       "Median Listing Price / Sq. Ft. - 5 Bedrooms or ...                        -0.236872   \n",
       "\n",
       "                                                    Median Listing Price / Sq. Ft. - Condo/Cooperative Home  \\\n",
       "Number of Sales                                                                              0.089535         \n",
       "Days on Zillow (All Home Types)                                                              0.072383         \n",
       "Median Listing Price / Sq. Ft. - Condo/Cooperat...                                           1.000000         \n",
       "Median Listing Price / Sq. Ft. - Single Family ...                                           0.597927         \n",
       "Median Listing Price / Sq. Ft. - Duplex/Triplex                                              0.634807         \n",
       "Median Listing Price / Sq. Ft. - 1 Bedroom                                                   0.686050         \n",
       "Median Listing Price / Sq. Ft. - 2 Bedrooms                                                  0.622191         \n",
       "Median Listing Price / Sq. Ft. - 3 Bedrooms                                                  0.557525         \n",
       "Median Listing Price / Sq. Ft. - 4 Bedrooms                                                  0.562512         \n",
       "Median Listing Price / Sq. Ft. - 5 Bedrooms or ...                                           0.575005         \n",
       "\n",
       "                                                    Median Listing Price / Sq. Ft. - Single Family Residence  \\\n",
       "Number of Sales                                                                              0.007726          \n",
       "Days on Zillow (All Home Types)                                                             -0.234857          \n",
       "Median Listing Price / Sq. Ft. - Condo/Cooperat...                                           0.597927          \n",
       "Median Listing Price / Sq. Ft. - Single Family ...                                           1.000000          \n",
       "Median Listing Price / Sq. Ft. - Duplex/Triplex                                              0.707190          \n",
       "Median Listing Price / Sq. Ft. - 1 Bedroom                                                   0.906921          \n",
       "Median Listing Price / Sq. Ft. - 2 Bedrooms                                                  0.973688          \n",
       "Median Listing Price / Sq. Ft. - 3 Bedrooms                                                  0.985776          \n",
       "Median Listing Price / Sq. Ft. - 4 Bedrooms                                                  0.977273          \n",
       "Median Listing Price / Sq. Ft. - 5 Bedrooms or ...                                           0.906677          \n",
       "\n",
       "                                                    Median Listing Price / Sq. Ft. - Duplex/Triplex  \\\n",
       "Number of Sales                                                                            0.209525   \n",
       "Days on Zillow (All Home Types)                                                           -0.172453   \n",
       "Median Listing Price / Sq. Ft. - Condo/Cooperat...                                         0.634807   \n",
       "Median Listing Price / Sq. Ft. - Single Family ...                                         0.707190   \n",
       "Median Listing Price / Sq. Ft. - Duplex/Triplex                                            1.000000   \n",
       "Median Listing Price / Sq. Ft. - 1 Bedroom                                                 0.748320   \n",
       "Median Listing Price / Sq. Ft. - 2 Bedrooms                                                0.686597   \n",
       "Median Listing Price / Sq. Ft. - 3 Bedrooms                                                0.686941   \n",
       "Median Listing Price / Sq. Ft. - 4 Bedrooms                                                0.662995   \n",
       "Median Listing Price / Sq. Ft. - 5 Bedrooms or ...                                         0.595143   \n",
       "\n",
       "                                                    Median Listing Price / Sq. Ft. - 1 Bedroom  \\\n",
       "Number of Sales                                                                       0.104213   \n",
       "Days on Zillow (All Home Types)                                                      -0.188586   \n",
       "Median Listing Price / Sq. Ft. - Condo/Cooperat...                                    0.686050   \n",
       "Median Listing Price / Sq. Ft. - Single Family ...                                    0.906921   \n",
       "Median Listing Price / Sq. Ft. - Duplex/Triplex                                       0.748320   \n",
       "Median Listing Price / Sq. Ft. - 1 Bedroom                                            1.000000   \n",
       "Median Listing Price / Sq. Ft. - 2 Bedrooms                                           0.932532   \n",
       "Median Listing Price / Sq. Ft. - 3 Bedrooms                                           0.899193   \n",
       "Median Listing Price / Sq. Ft. - 4 Bedrooms                                           0.893930   \n",
       "Median Listing Price / Sq. Ft. - 5 Bedrooms or ...                                    0.852908   \n",
       "\n",
       "                                                    Median Listing Price / Sq. Ft. - 2 Bedrooms  \\\n",
       "Number of Sales                                                                        0.015278   \n",
       "Days on Zillow (All Home Types)                                                       -0.201385   \n",
       "Median Listing Price / Sq. Ft. - Condo/Cooperat...                                     0.622191   \n",
       "Median Listing Price / Sq. Ft. - Single Family ...                                     0.973688   \n",
       "Median Listing Price / Sq. Ft. - Duplex/Triplex                                        0.686597   \n",
       "Median Listing Price / Sq. Ft. - 1 Bedroom                                             0.932532   \n",
       "Median Listing Price / Sq. Ft. - 2 Bedrooms                                            1.000000   \n",
       "Median Listing Price / Sq. Ft. - 3 Bedrooms                                            0.981909   \n",
       "Median Listing Price / Sq. Ft. - 4 Bedrooms                                            0.977856   \n",
       "Median Listing Price / Sq. Ft. - 5 Bedrooms or ...                                     0.933332   \n",
       "\n",
       "                                                    Median Listing Price / Sq. Ft. - 3 Bedrooms  \\\n",
       "Number of Sales                                                                       -0.002923   \n",
       "Days on Zillow (All Home Types)                                                       -0.226280   \n",
       "Median Listing Price / Sq. Ft. - Condo/Cooperat...                                     0.557525   \n",
       "Median Listing Price / Sq. Ft. - Single Family ...                                     0.985776   \n",
       "Median Listing Price / Sq. Ft. - Duplex/Triplex                                        0.686941   \n",
       "Median Listing Price / Sq. Ft. - 1 Bedroom                                             0.899193   \n",
       "Median Listing Price / Sq. Ft. - 2 Bedrooms                                            0.981909   \n",
       "Median Listing Price / Sq. Ft. - 3 Bedrooms                                            1.000000   \n",
       "Median Listing Price / Sq. Ft. - 4 Bedrooms                                            0.989106   \n",
       "Median Listing Price / Sq. Ft. - 5 Bedrooms or ...                                     0.918319   \n",
       "\n",
       "                                                    Median Listing Price / Sq. Ft. - 4 Bedrooms  \\\n",
       "Number of Sales                                                                       -0.005345   \n",
       "Days on Zillow (All Home Types)                                                       -0.236444   \n",
       "Median Listing Price / Sq. Ft. - Condo/Cooperat...                                     0.562512   \n",
       "Median Listing Price / Sq. Ft. - Single Family ...                                     0.977273   \n",
       "Median Listing Price / Sq. Ft. - Duplex/Triplex                                        0.662995   \n",
       "Median Listing Price / Sq. Ft. - 1 Bedroom                                             0.893930   \n",
       "Median Listing Price / Sq. Ft. - 2 Bedrooms                                            0.977856   \n",
       "Median Listing Price / Sq. Ft. - 3 Bedrooms                                            0.989106   \n",
       "Median Listing Price / Sq. Ft. - 4 Bedrooms                                            1.000000   \n",
       "Median Listing Price / Sq. Ft. - 5 Bedrooms or ...                                     0.949812   \n",
       "\n",
       "                                                    Median Listing Price / Sq. Ft. - 5 Bedrooms or More  \n",
       "Number of Sales                                                                              0.042986    \n",
       "Days on Zillow (All Home Types)                                                             -0.236872    \n",
       "Median Listing Price / Sq. Ft. - Condo/Cooperat...                                           0.575005    \n",
       "Median Listing Price / Sq. Ft. - Single Family ...                                           0.906677    \n",
       "Median Listing Price / Sq. Ft. - Duplex/Triplex                                              0.595143    \n",
       "Median Listing Price / Sq. Ft. - 1 Bedroom                                                   0.852908    \n",
       "Median Listing Price / Sq. Ft. - 2 Bedrooms                                                  0.933332    \n",
       "Median Listing Price / Sq. Ft. - 3 Bedrooms                                                  0.918319    \n",
       "Median Listing Price / Sq. Ft. - 4 Bedrooms                                                  0.949812    \n",
       "Median Listing Price / Sq. Ft. - 5 Bedrooms or ...                                           1.000000    "
      ]
     },
     "execution_count": 185,
     "metadata": {},
     "output_type": "execute_result"
    }
   ],
   "source": [
    "df_corr.corr()"
   ]
  },
  {
   "cell_type": "code",
   "execution_count": 186,
   "metadata": {},
   "outputs": [
    {
     "data": {
      "text/plain": [
       "<matplotlib.axes._subplots.AxesSubplot at 0x11dff6610>"
      ]
     },
     "execution_count": 186,
     "metadata": {},
     "output_type": "execute_result"
    },
    {
     "data": {
      "image/png": "[encoded data removed]",
      "text/plain": [
       "<Figure size 864x864 with 2 Axes>"
      ]
     },
     "metadata": {
      "needs_background": "light"
     },
     "output_type": "display_data"
    }
   ],
   "source": [
    "# assigning size of plot\n",
    "plt.figure(figsize=(12,12))\n",
    "\n",
    "# show correlation of stats via heatmap\n",
    "corr = df_corr.corr()\n",
    "\n",
    "sns.heatmap(corr, vmin=-1, annot=True)"
   ]
  },
  {
   "cell_type": "code",
   "execution_count": 187,
   "metadata": {},
   "outputs": [
    {
     "data": {
      "text/html": [
       "<div>\n",
       "<style scoped>\n",
       "    .dataframe tbody tr th:only-of-type {\n",
       "        vertical-align: middle;\n",
       "    }\n",
       "\n",
       "    .dataframe tbody tr th {\n",
       "        vertical-align: top;\n",
       "    }\n",
       "\n",
       "    .dataframe thead th {\n",
       "        text-align: right;\n",
       "    }\n",
       "</style>\n",
       "<table border=\"1\" class=\"dataframe\">\n",
       "  <thead>\n",
       "    <tr style=\"text-align: right;\">\n",
       "      <th></th>\n",
       "      <th>Zillow Home Value Index (All Home Types)</th>\n",
       "      <th>Zillow Home Value Index - Single Family Residency</th>\n",
       "      <th>Zillow Home Value Index - Condo/Cooperative Home</th>\n",
       "    </tr>\n",
       "  </thead>\n",
       "  <tbody>\n",
       "    <tr>\n",
       "      <td>8221</td>\n",
       "      <td>123800.0</td>\n",
       "      <td>123300.0</td>\n",
       "      <td>137300.0</td>\n",
       "    </tr>\n",
       "    <tr>\n",
       "      <td>8222</td>\n",
       "      <td>247200.0</td>\n",
       "      <td>257100.0</td>\n",
       "      <td>176100.0</td>\n",
       "    </tr>\n",
       "    <tr>\n",
       "      <td>8223</td>\n",
       "      <td>161300.0</td>\n",
       "      <td>168600.0</td>\n",
       "      <td>121800.0</td>\n",
       "    </tr>\n",
       "    <tr>\n",
       "      <td>8224</td>\n",
       "      <td>105800.0</td>\n",
       "      <td>105800.0</td>\n",
       "      <td>127500.0</td>\n",
       "    </tr>\n",
       "    <tr>\n",
       "      <td>8225</td>\n",
       "      <td>335100.0</td>\n",
       "      <td>340000.0</td>\n",
       "      <td>313600.0</td>\n",
       "    </tr>\n",
       "  </tbody>\n",
       "</table>\n",
       "</div>"
      ],
      "text/plain": [
       "      Zillow Home Value Index (All Home Types)  \\\n",
       "8221                                  123800.0   \n",
       "8222                                  247200.0   \n",
       "8223                                  161300.0   \n",
       "8224                                  105800.0   \n",
       "8225                                  335100.0   \n",
       "\n",
       "      Zillow Home Value Index - Single Family Residency  \\\n",
       "8221                                           123300.0   \n",
       "8222                                           257100.0   \n",
       "8223                                           168600.0   \n",
       "8224                                           105800.0   \n",
       "8225                                           340000.0   \n",
       "\n",
       "      Zillow Home Value Index - Condo/Cooperative Home  \n",
       "8221                                          137300.0  \n",
       "8222                                          176100.0  \n",
       "8223                                          121800.0  \n",
       "8224                                          127500.0  \n",
       "8225                                          313600.0  "
      ]
     },
     "execution_count": 187,
     "metadata": {},
     "output_type": "execute_result"
    }
   ],
   "source": [
    "zhvidf = df[['Zillow Home Value Index (All Home Types)',\n",
    "             'Zillow Home Value Index - Single Family Residency',\n",
    "             'Zillow Home Value Index - Condo/Cooperative Home']]\n",
    "zhvidf.head()"
   ]
  },
  {
   "cell_type": "code",
   "execution_count": 188,
   "metadata": {},
   "outputs": [
    {
     "data": {
      "image/png": "[encoded data removed]",
      "text/plain": [
       "<Figure size 1080x576 with 1 Axes>"
      ]
     },
     "metadata": {
      "needs_background": "light"
     },
     "output_type": "display_data"
    }
   ],
   "source": [
    "df.groupby(df['Year'])['Zillow Home Value Index (All Home Types)',\n",
    "                       'Zillow Home Value Index - Single Family Residency',\n",
    "                       'Zillow Home Value Index - Condo/Cooperative Home'].mean().plot(linewidth=4, figsize=(15, 8))\n",
    "\n",
    "plt.title('Zillow Home Value Index (Types of Homes) by Year', fontsize=14)\n",
    "plt.ylabel('Zillow Home Value Index\\n')\n",
    "plt.show()"
   ]
  },
  {
   "cell_type": "code",
   "execution_count": 189,
   "metadata": {},
   "outputs": [
    {
     "data": {
      "image/png": "[encoded data removed]",
      "text/plain": [
       "<Figure size 1080x864 with 1 Axes>"
      ]
     },
     "metadata": {
      "needs_background": "light"
     },
     "output_type": "display_data"
    }
   ],
   "source": [
    "df.groupby(df['Year'])['Median Listing Price / Sq. Ft. - 1 Bedroom',\n",
    "                       'Median Listing Price / Sq. Ft. - 2 Bedrooms',\n",
    "                       'Median Listing Price / Sq. Ft. - 3 Bedrooms',\n",
    "                       'Median Listing Price / Sq. Ft. - 4 Bedrooms',\n",
    "                       'Median Listing Price / Sq. Ft. - 5 Bedrooms or More'].mean().plot(linewidth=4, figsize=(15, 12))\n",
    "\n",
    "plt.title('Median Listing Price / Sq. Ft. (Number of Bedrooms) by Year', fontsize=14)\n",
    "plt.ylabel('Median Listing Price / Sq. Ft.\\n')\n",
    "plt.show()"
   ]
  },
  {
   "cell_type": "code",
   "execution_count": 190,
   "metadata": {},
   "outputs": [
    {
     "data": {
      "image/png": "[encoded data removed]",
      "text/plain": [
       "<Figure size 1080x504 with 1 Axes>"
      ]
     },
     "metadata": {
      "needs_background": "light"
     },
     "output_type": "display_data"
    }
   ],
   "source": [
    "df.groupby(df['Year'])['Median Listing Price / Sq. Ft. (All Home Types)',\n",
    "                       'Median Listing Price / Sq. Ft. - Condo/Cooperative Home',\n",
    "                       'Median Listing Price / Sq. Ft. - Single Family Residence',\n",
    "                       'Median Listing Price / Sq. Ft. - Duplex/Triplex',].mean().plot(linewidth=4, figsize=(15, 7))\n",
    "\n",
    "plt.title('Median Listing Price / Sq. Ft. (Types of Homes) by Year', fontsize=14)\n",
    "plt.ylabel('Median Listing Price / Sq. Ft.\\n')\n",
    "plt.show()"
   ]
  },
  {
   "cell_type": "code",
   "execution_count": 191,
   "metadata": {},
   "outputs": [
    {
     "data": {
      "image/png": "[encoded data removed]",
      "text/plain": [
       "<Figure size 1080x504 with 1 Axes>"
      ]
     },
     "metadata": {
      "needs_background": "light"
     },
     "output_type": "display_data"
    }
   ],
   "source": [
    "df.groupby(df['Year'])['Zillow Home Value Index - 1 Bedroom',\n",
    "                       'Zillow Home Value Index - 2 Bedrooms',\n",
    "                       'Zillow Home Value Index - 3 Bedrooms',\n",
    "                       'Zillow Home Value Index - 4 Bedrooms',\n",
    "                       'Zillow Home Value Index - 5 Bedrooms or More'].mean().plot(linewidth=4, figsize=(15, 7))\n",
    "\n",
    "plt.title('Zillow Home Value Index (Number of Bedrooms) by Year', fontsize=14)\n",
    "plt.ylabel('Zillow Home Value Index\\n')\n",
    "plt.show()"
   ]
  },
  {
   "cell_type": "raw",
   "metadata": {},
   "source": []
  },
  {
   "cell_type": "code",
   "execution_count": null,
   "metadata": {},
   "outputs": [],
   "source": []
  }
 ],
 "metadata": {
  "kernelspec": {
   "display_name": "Python 3",
   "language": "python",
   "name": "python3"
  },
  "language_info": {
   "codemirror_mode": {
    "name": "ipython",
    "version": 3
   },
   "file_extension": ".py",
   "mimetype": "text/x-python",
   "name": "python",
   "nbconvert_exporter": "python",
   "pygments_lexer": "ipython3",
   "version": "3.7.4"
  }
 },
 "nbformat": 4,
 "nbformat_minor": 2
}
